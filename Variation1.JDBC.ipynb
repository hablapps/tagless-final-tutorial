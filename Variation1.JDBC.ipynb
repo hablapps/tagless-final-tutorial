{
 "cells": [
  {
   "cell_type": "markdown",
   "metadata": {},
   "source": [
    "# Setting up"
   ]
  },
  {
   "cell_type": "markdown",
   "metadata": {},
   "source": [
    "Throughout this talk, we will play with the _world_ database used in the documentation of [doobie](https://tpolecat.github.io/doobie), a most convenient JDBC wrapper for Scala. You can find instructions [here](https://tpolecat.github.io/doobie/docs/01-Introduction.html) for the set-up of a postgres database server and the installation of the _world_ database. The script [common.sc](./common.sc) contains several utilities as well as a ready-to-use doobie transactor for issuing SQL queries to the world database."
   ]
  },
  {
   "cell_type": "code",
   "execution_count": 1,
   "metadata": {},
   "outputs": [
    {
     "name": "stdout",
     "output_type": "stream",
     "text": [
      "Compiling /Users/jserrano/Documents/tagless-final-tutorial/common.sc"
     ]
    },
    {
     "data": {
      "text/plain": [
       "\u001b[32mimport \u001b[39m\u001b[36m$file.$     \n",
       "\u001b[39m\n",
       "\u001b[32mimport \u001b[39m\u001b[36mcommon._\n",
       "\u001b[39m\n",
       "\u001b[32mimport \u001b[39m\u001b[36mdoobie._, doobie.implicits._\u001b[39m"
      ]
     },
     "execution_count": 1,
     "metadata": {},
     "output_type": "execute_result"
    }
   ],
   "source": [
    "import $file.common\n",
    "import common._\n",
    "import doobie._, doobie.implicits._"
   ]
  },
  {
   "cell_type": "markdown",
   "metadata": {},
   "source": [
    "Test the server!"
   ]
  },
  {
   "cell_type": "code",
   "execution_count": 2,
   "metadata": {},
   "outputs": [
    {
     "data": {
      "text/plain": [
       "\u001b[36mres1\u001b[39m: \u001b[32mInt\u001b[39m = \u001b[32m1\u001b[39m"
      ]
     },
     "execution_count": 2,
     "metadata": {},
     "output_type": "execute_result"
    }
   ],
   "source": [
    "sql\"select 1\".query[Int].unique.transact(xa).unsafeRunSync"
   ]
  },
  {
   "cell_type": "markdown",
   "metadata": {},
   "source": [
    "# Variation  1. Plain and direct SQL "
   ]
  },
  {
   "cell_type": "markdown",
   "metadata": {},
   "source": [
    "Let's say that we need to query the database to know the names of the capitals with a population larger than eight million people, together with their country names. The most direct way to bring this data into memory is to write an SQL query: "
   ]
  },
  {
   "cell_type": "code",
   "execution_count": 3,
   "metadata": {},
   "outputs": [
    {
     "data": {
      "text/plain": [
       "\u001b[36msqlLargeCapitals\u001b[39m: \u001b[32mConnectionIO\u001b[39m[\u001b[32mList\u001b[39m[(\u001b[32mString\u001b[39m, \u001b[32mString\u001b[39m)]] = \u001b[33mSuspend\u001b[39m(\n",
       "  \u001b[33mBracketCase\u001b[39m(\n",
       "    \u001b[33mSuspend\u001b[39m(\n",
       "      \u001b[33mPrepareStatement\u001b[39m(\n",
       "        \u001b[32m\"\"\"\n",
       " select C.name, X.name \n",
       " from city as C, country as X \n",
       " where C.id = X.capital and C.population > 8000000\"\"\"\u001b[39m\n",
       "      )\n",
       "    ),\n",
       "    doobie.hi.connection$$$Lambda$3240/630269908@5fde2ec3,\n",
       "    cats.effect.Bracket$$Lambda$3242/334729804@786dab72\n",
       "  )\n",
       ")"
      ]
     },
     "execution_count": 3,
     "metadata": {},
     "output_type": "execute_result"
    }
   ],
   "source": [
    "val sqlLargeCapitals: ConnectionIO[List[(String, String)]] = \n",
    "    sql\"\"\"\n",
    "        | select C.name, X.name \n",
    "        | from city as C, country as X \n",
    "        | where C.id = X.capital and C.population > 8000000\"\"\".stripMargin\n",
    "        .query[(String, String)]\n",
    "        .to[List]"
   ]
  },
  {
   "cell_type": "markdown",
   "metadata": {},
   "source": [
    "A value of type `ConnectionIO[_]` represents a JDBC _program_, a pure value. In order to execute it, this program is compiled into an input/output monad, e.g. `cats.effect.IO`, which is also a pure program, although at a lower-level of abstraction. Finally, the interpreter `unsafeRunSync` of the IO program launches the rockets and the database is accessed!"
   ]
  },
  {
   "cell_type": "code",
   "execution_count": 4,
   "metadata": {},
   "outputs": [
    {
     "name": "stdout",
     "output_type": "stream",
     "text": [
      "36 millis\n"
     ]
    },
    {
     "data": {
      "text/plain": [
       "\u001b[36mres3\u001b[39m: \u001b[32mList\u001b[39m[(\u001b[32mString\u001b[39m, \u001b[32mString\u001b[39m)] = \u001b[33mList\u001b[39m(\n",
       "  (\u001b[32m\"Jakarta\"\u001b[39m, \u001b[32m\"Indonesia\"\u001b[39m),\n",
       "  (\u001b[32m\"Seoul\"\u001b[39m, \u001b[32m\"South Korea\"\u001b[39m),\n",
       "  (\u001b[32m\"Ciudad de M\\u00e9xico\"\u001b[39m, \u001b[32m\"Mexico\"\u001b[39m),\n",
       "  (\u001b[32m\"Moscow\"\u001b[39m, \u001b[32m\"Russian Federation\"\u001b[39m)\n",
       ")"
      ]
     },
     "execution_count": 4,
     "metadata": {},
     "output_type": "execute_result"
    }
   ],
   "source": [
    "sqlLargeCapitals\n",
    "    .transact(xa)            // compiles ConnectionIO[List[(...)]] into IO[List[(String, String)]]\n",
    "    .unsafeRunSync           // interprets IO[List[...]] into List[(String, String)]\n",
    "    .timed(1)              // measure average execution time in milliseconds\n",
    "    .millis"
   ]
  },
  {
   "cell_type": "markdown",
   "metadata": {},
   "source": [
    "This approach performs quite well according to several quality requirements:\n",
    "* __Efficiency__. Our data is stored in a SQL database, so this is the most efficient way to retrieve the desired information. \n",
    "* __Maintanability__. Lots of people out there know SQL. "
   ]
  },
  {
   "cell_type": "markdown",
   "metadata": {},
   "source": [
    "However, all that glitter is not gold. This approach falls short in several respects:\n",
    "* __Safety__. First, we all know about SQL injection attacks ...\n",
    "* __Evolvability__. We incur in a tight coupling to relational databases. What if we eventually want to change our persistence layer?\n",
    "* __Modularity__. It's not possible to decompose our queries into smaller pieces that can be reused, tested and composed, so that we can effectively build large query libraries. Much the same way in which we program with functions, classes, etc., in general-purpose languages. Let's dive into this issue in the next [notebook](Variation2.InMemory.ipynb). "
   ]
  }
 ],
 "metadata": {
  "kernelspec": {
   "display_name": "Scala",
   "language": "scala",
   "name": "scala"
  },
  "language_info": {
   "codemirror_mode": "text/x-scala",
   "file_extension": ".scala",
   "mimetype": "text/x-scala",
   "name": "scala",
   "nbconvert_exporter": "script",
   "version": "2.13.0"
  }
 },
 "nbformat": 4,
 "nbformat_minor": 4
}
