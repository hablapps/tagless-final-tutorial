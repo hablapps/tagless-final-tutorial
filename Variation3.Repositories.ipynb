{
 "cells": [
  {
   "cell_type": "code",
   "execution_count": 1,
   "metadata": {},
   "outputs": [
    {
     "data": {
      "text/plain": [
       "\u001b[32mimport \u001b[39m\u001b[36m$file.$     \n",
       "\u001b[39m\n",
       "\u001b[32mimport \u001b[39m\u001b[36mcommon._\n",
       "\u001b[39m\n",
       "\u001b[32mimport \u001b[39m\u001b[36mdoobie._, doobie.implicits._\n",
       "\u001b[39m\n",
       "\u001b[32mimport \u001b[39m\u001b[36mcats.effect.IO\u001b[39m"
      ]
     },
     "execution_count": 1,
     "metadata": {},
     "output_type": "execute_result"
    }
   ],
   "source": [
    "import $file.common\n",
    "import common._\n",
    "import doobie._, doobie.implicits._\n",
    "import cats.effect.IO"
   ]
  },
  {
   "cell_type": "markdown",
   "metadata": {},
   "source": [
    "# Variation 3. Repositories"
   ]
  },
  {
   "cell_type": "markdown",
   "metadata": {},
   "source": [
    "So, we want to abstract the persistence layer from our business logic. The common answer to this problem, at least in the Java community, is based on the [Repositories Pattern](https://martinfowler.com/eaaCatalog/repository.html). Basically, the persistence layer is isolated using conventional interfaces, as follows:"
   ]
  },
  {
   "cell_type": "code",
   "execution_count": 2,
   "metadata": {},
   "outputs": [
    {
     "data": {
      "text/plain": [
       "defined \u001b[32mclass\u001b[39m \u001b[36mCountry\u001b[39m\n",
       "defined \u001b[32mclass\u001b[39m \u001b[36mCity\u001b[39m\n",
       "defined \u001b[32mtrait\u001b[39m \u001b[36mCityRepo\u001b[39m\n",
       "defined \u001b[32mtrait\u001b[39m \u001b[36mCountryRepo\u001b[39m\n",
       "defined \u001b[32mtrait\u001b[39m \u001b[36mWorldRepo\u001b[39m"
      ]
     },
     "execution_count": 2,
     "metadata": {},
     "output_type": "execute_result"
    }
   ],
   "source": [
    "// Domain model\n",
    "\n",
    "case class Country(code: String, name: String, capital: Option[Int])\n",
    "case class City(id: Int, name: String, countryCode: String, population: Int)\n",
    "\n",
    "// Repositories\n",
    "\n",
    "trait CityRepo{\n",
    "    def findCity(id: Int): City\n",
    "    def findAllCities: List[City]\n",
    "}\n",
    "\n",
    "trait CountryRepo{\n",
    "    def findCountry(code: String): Country\n",
    "    def findAllCountries: List[Country]\n",
    "}\n",
    "\n",
    "trait WorldRepo extends CityRepo with CountryRepo"
   ]
  },
  {
   "cell_type": "markdown",
   "metadata": {},
   "source": [
    "Our query is implemented almost exactly as we did in the pure in-memory solution, only that the world dependency does not represent the actual data, but an interface to it:"
   ]
  },
  {
   "cell_type": "code",
   "execution_count": 7,
   "metadata": {},
   "outputs": [
    {
     "data": {
      "text/plain": [
       "defined \u001b[32mfunction\u001b[39m \u001b[36mlargeCities\u001b[39m"
      ]
     },
     "execution_count": 7,
     "metadata": {},
     "output_type": "execute_result"
    }
   ],
   "source": [
    "def largeCities(implicit W: WorldRepo): List[(String, String)] = \n",
    "    for {\n",
    "        Country(_, name, Some(capitalId)) <- W.findAllCountries\n",
    "        city = W.findCity(capitalId) \n",
    "        if city.population > 8000000\n",
    "    } yield (city.name, name)"
   ]
  },
  {
   "cell_type": "markdown",
   "metadata": {},
   "source": [
    "This interface can be implemented so that they access the real world database through doobie:"
   ]
  },
  {
   "cell_type": "code",
   "execution_count": 4,
   "metadata": {},
   "outputs": [
    {
     "data": {
      "text/plain": [
       "defined \u001b[32mclass\u001b[39m \u001b[36mDoobieWorld\u001b[39m\n",
       "defined \u001b[32mobject\u001b[39m \u001b[36mDoobieWorld\u001b[39m"
      ]
     },
     "execution_count": 4,
     "metadata": {},
     "output_type": "execute_result"
    }
   ],
   "source": [
    "class DoobieWorld(xa: Transactor[IO]) extends WorldRepo{\n",
    "    def findCity(id: Int): City = \n",
    "        sql\"select id, name, countryCode, population from city where id = $id\"\n",
    "            .query[City].unique.transact(xa).unsafeRunSync\n",
    "\n",
    "    def findCountry(code: String): Country = \n",
    "        sql\"select code, name, capital from country where code = $code\"\n",
    "            .query[Country].unique.transact(xa).unsafeRunSync\n",
    "    \n",
    "    def findAllCountries: List[Country] = \n",
    "        sql\"select code, name, capital from country\"\n",
    "            .query[Country].to[List].transact(xa).unsafeRunSync\n",
    "    \n",
    "    def findAllCities: List[City] = \n",
    "        sql\"select id, name, countryCode, population from city\"\n",
    "            .query[City].to[List].transact(xa).unsafeRunSync\n",
    "}\n",
    "\n",
    "object DoobieWorld extends DoobieWorld(xa)"
   ]
  },
  {
   "cell_type": "markdown",
   "metadata": {},
   "source": [
    "So that, we can query the actual database by injecting this dependency to our generic program:"
   ]
  },
  {
   "cell_type": "code",
   "execution_count": 5,
   "metadata": {},
   "outputs": [
    {
     "name": "stdout",
     "output_type": "stream",
     "text": [
      "7778 millis\n"
     ]
    },
    {
     "data": {
      "text/plain": [
       "\u001b[36mres4\u001b[39m: \u001b[32mList\u001b[39m[(\u001b[32mString\u001b[39m, \u001b[32mString\u001b[39m)] = \u001b[33mList\u001b[39m(\n",
       "  (\u001b[32m\"Jakarta\"\u001b[39m, \u001b[32m\"Indonesia\"\u001b[39m),\n",
       "  (\u001b[32m\"Seoul\"\u001b[39m, \u001b[32m\"South Korea\"\u001b[39m),\n",
       "  (\u001b[32m\"Ciudad de M\\u00e9xico\"\u001b[39m, \u001b[32m\"Mexico\"\u001b[39m),\n",
       "  (\u001b[32m\"Moscow\"\u001b[39m, \u001b[32m\"Russian Federation\"\u001b[39m)\n",
       ")"
      ]
     },
     "execution_count": 5,
     "metadata": {},
     "output_type": "execute_result"
    }
   ],
   "source": [
    "largeCities(DoobieWorld).timed(1).millis"
   ]
  },
  {
   "cell_type": "markdown",
   "metadata": {},
   "source": [
    "Which other instances of these Repository APIs we would like to have? Well, not exactly proper instances, but we may mock the APIs in order to unit test our business logic. So, great! We got idiomatic code, modularity (we may decompose the `largeCities` query in smaller query fragments), and unit testing. And, since we are programming against an abstract interface, we may later add new instances without breaking our code, in case that we eventually change our persistence layer, right?"
   ]
  },
  {
   "cell_type": "markdown",
   "metadata": {},
   "source": [
    "### Asynchronous Repositories"
   ]
  },
  {
   "cell_type": "markdown",
   "metadata": {},
   "source": [
    "Well, not exactly. The APIs we just wrote seem to be purely generic, but they unadvertently commit to a particular class of implementations, namely __synchronous__ ones. Indeed, there is no asynchronous instance of the previous APIs. So, if we want to benefit from accessing the database asynchronously, we have to change our API, and ... all the business logic that builds upon it. "
   ]
  },
  {
   "cell_type": "markdown",
   "metadata": {},
   "source": [
    "This asynchronous version of the repository APIs may look like follows:"
   ]
  },
  {
   "cell_type": "code",
   "execution_count": 6,
   "metadata": {},
   "outputs": [
    {
     "data": {
      "text/plain": [
       "defined \u001b[32mtrait\u001b[39m \u001b[36mCityRepoAsync\u001b[39m\n",
       "defined \u001b[32mtrait\u001b[39m \u001b[36mCountryRepoAsync\u001b[39m\n",
       "defined \u001b[32mtrait\u001b[39m \u001b[36mWorldRepoAsync\u001b[39m"
      ]
     },
     "execution_count": 6,
     "metadata": {},
     "output_type": "execute_result"
    }
   ],
   "source": [
    "trait CityRepoAsync{\n",
    "    def findCity(id: Int): IO[City]\n",
    "}\n",
    "\n",
    "trait CountryRepoAsync{\n",
    "    def findCountry(code: String): IO[Country]\n",
    "    def findAllCountries: IO[List[Country]]\n",
    "}\n",
    "\n",
    "trait WorldRepoAsync extends CityRepoAsync with CountryRepoAsync"
   ]
  },
  {
   "cell_type": "markdown",
   "metadata": {},
   "source": [
    "Admittedly, we are committing ourselves to a particular IO monad, namely `cats.effect.IO`, but this doesn't matter, right? Well, chances are there that we may need to implement our repositories using libraries based on alternative IO monads (`monix.Task`, `scalaz.Task`, `scala.concurrent.Future`, `ZIO`, etc.). That wouldn't be a stopper, but it would definitely require adaptor. Similarly, unit testing, which is far from being asynchronous, would have also to deal with IO. All this makes our code more complex than needed, and points towards a huge leak into our repository abstractions. Can we do it better? Enter [MTL-based repositories](Variation4.MTL.ipynb)!"
   ]
  },
  {
   "cell_type": "code",
   "execution_count": null,
   "metadata": {},
   "outputs": [],
   "source": []
  }
 ],
 "metadata": {
  "kernelspec": {
   "display_name": "Scala",
   "language": "scala",
   "name": "scala"
  },
  "language_info": {
   "codemirror_mode": "text/x-scala",
   "file_extension": ".sc",
   "mimetype": "text/x-scala",
   "name": "scala",
   "nbconvert_exporter": "script",
   "version": "2.13.3"
  }
 },
 "nbformat": 4,
 "nbformat_minor": 4
}
