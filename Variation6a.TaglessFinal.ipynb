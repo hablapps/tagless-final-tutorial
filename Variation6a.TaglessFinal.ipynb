{
 "cells": [
  {
   "cell_type": "code",
   "execution_count": 13,
   "metadata": {},
   "outputs": [
    {
     "data": {
      "text/plain": [
       "\u001b[32mimport \u001b[39m\u001b[36m$file.$     \n",
       "\u001b[39m\n",
       "\u001b[32mimport \u001b[39m\u001b[36mcommon._\n",
       "\u001b[39m\n",
       "\u001b[32mimport \u001b[39m\u001b[36mcats.data._, cats._, cats.implicits._, cats.evidence._\n",
       "\u001b[39m\n",
       "\u001b[32mimport \u001b[39m\u001b[36mdoobie.implicits._\n",
       "\u001b[39m\n",
       "\u001b[32mimport \u001b[39m\u001b[36mdoobie.util.fragment._\u001b[39m"
      ]
     },
     "execution_count": 13,
     "metadata": {},
     "output_type": "execute_result"
    }
   ],
   "source": [
    "import $file.common\n",
    "import common._\n",
    "import cats.data._, cats._, cats.implicits._, cats.evidence._\n",
    "import doobie.implicits._\n",
    "import doobie.util.fragment._"
   ]
  },
  {
   "cell_type": "markdown",
   "metadata": {},
   "source": [
    "# Variation 6a. Finally, QUEΛ"
   ]
  },
  {
   "cell_type": "markdown",
   "metadata": {},
   "source": [
    "We will now review the tagless-final solution to the query avalanche problem, previously solved using Quoted DSLs in `quill`. This is described in the following [paper](http://okmij.org/ftp/meta-programming/quel.pdf) by Suzuki, Kiselyov (the father of tagless-final) and Kameyama, which introduces the tagless-final [`QUEΛ`](http://logic.cs.tsukuba.ac.jp/~ken/quel/) DSL: "
   ]
  },
  {
   "cell_type": "markdown",
   "metadata": {},
   "source": [
    "![](images/quelpaper.png)"
   ]
  },
  {
   "cell_type": "markdown",
   "metadata": {},
   "source": [
    "The tagless-final approach resembles MTL in the use of type classes to define the syntax of the DSL. And the use of this custom syntax, instead of the Scala AST, makes it different from Quoted DSLs at the same time. But tagless-final departs from MTL in one important aspect: tagless-final type classes are not parameterised by a generic _computation type_, but by a generic _representation_. We will see soon what this means. \n",
    "\n",
    "Let's start by recalling the in-memory query `largeCapitals` (the quoted version in the `quill` example - [variation 5](Variation5.Quill.ipynb)), which serves as a sort of specification for our DSL:"
   ]
  },
  {
   "cell_type": "code",
   "execution_count": 14,
   "metadata": {},
   "outputs": [
    {
     "data": {
      "text/plain": [
       "defined \u001b[32mclass\u001b[39m \u001b[36mCountry\u001b[39m\n",
       "defined \u001b[32mclass\u001b[39m \u001b[36mCity\u001b[39m\n",
       "defined \u001b[32mclass\u001b[39m \u001b[36mWorld\u001b[39m\n",
       "defined \u001b[32mfunction\u001b[39m \u001b[36mlargeCapitals\u001b[39m"
      ]
     },
     "execution_count": 14,
     "metadata": {},
     "output_type": "execute_result"
    }
   ],
   "source": [
    "case class Country(\n",
    "    code: String, \n",
    "    name: String, \n",
    "    capital: Option[Int])\n",
    "\n",
    "case class City(\n",
    "    id: Int, \n",
    "    name: String, \n",
    "    countryCode: String, \n",
    "    population: Int)\n",
    "\n",
    "case class World(\n",
    "    countries: Map[String, Country],\n",
    "    cities: Map[Int, City]){\n",
    "    \n",
    "    val allCountries: List[Country] = \n",
    "        countries.values.toList\n",
    "    val allCities: List[City] = \n",
    "        cities.values.toList\n",
    "}\n",
    "\n",
    "def largeCapitals(implicit world: World): List[(String, String)] =\n",
    "    for {\n",
    "        country <- world.allCountries\n",
    "        city <- world.allCities\n",
    "        if country.capital.exists(_ == city.id)\n",
    "        if city.population > 8000000\n",
    "    } yield (city.name, country.name)"
   ]
  },
  {
   "cell_type": "markdown",
   "metadata": {},
   "source": [
    "### Syntax and type system"
   ]
  },
  {
   "cell_type": "markdown",
   "metadata": {},
   "source": [
    "The `largeCapitals` query is made from two major kinds of expressions: those pertaining to the _world_ database, and those related to the construction of queries themselves (i.e. independent of the particular database model). Beginning with the former ones, we encounter: \n",
    "* `world.allCountries` and `world.allCities`, which represent list expressions (`List[Country]` and `List[City]`, in particular)\n",
    "* `country.capital`, which represents an optional value `Option[Int]`\n",
    "* `country.name`, `city.name` and `city.population`, which represent basic values of type `String` and `Int`\n"
   ]
  },
  {
   "cell_type": "markdown",
   "metadata": {},
   "source": [
    "The syntax and type system of a mini-language to talk about countries, cities and their attributes is encoded in the following type classes:"
   ]
  },
  {
   "cell_type": "code",
   "execution_count": 15,
   "metadata": {},
   "outputs": [
    {
     "data": {
      "text/plain": [
       "defined \u001b[32mclass\u001b[39m \u001b[36mCountry\u001b[39m\n",
       "defined \u001b[32mclass\u001b[39m \u001b[36mCity\u001b[39m\n",
       "defined \u001b[32mtrait\u001b[39m \u001b[36mCityModel\u001b[39m\n",
       "defined \u001b[32mtrait\u001b[39m \u001b[36mCountryModel\u001b[39m\n",
       "defined \u001b[32mtrait\u001b[39m \u001b[36mWorldModel\u001b[39m"
      ]
     },
     "execution_count": 15,
     "metadata": {},
     "output_type": "execute_result"
    }
   ],
   "source": [
    "// Case classes, as before\n",
    "\n",
    "case class Country(code: String, name: String, capital: Option[Int])\n",
    "case class City(id: Int, name: String, countryCode: String, population: Int)\n",
    "\n",
    "// Data models as type constructor (representation) classes\n",
    "\n",
    "trait CityModel[Repr[_]]{\n",
    "    def cityId(city: Repr[City]): Repr[Int]\n",
    "    def cityName(city: Repr[City]): Repr[String]\n",
    "    def cityCountry(country: Repr[City]): Repr[String]\n",
    "    def cityPopulation(city: Repr[City]): Repr[Int]\n",
    "}\n",
    "\n",
    "trait CountryModel[Repr[_]]{\n",
    "    def countryName(country: Repr[Country]): Repr[String]\n",
    "    def countryCapital(country: Repr[Country]): Repr[Option[Int]]\n",
    "}\n",
    "\n",
    "trait WorldModel[Repr[_]] extends CityModel[Repr] with CountryModel[Repr]{\n",
    "    def allCountries: Repr[List[Country]]\n",
    "    def allCities: Repr[List[City]]\n",
    "}"
   ]
  },
  {
   "cell_type": "markdown",
   "metadata": {},
   "source": [
    "The major similarities and differences with the type classes of MTL-based repositories are the following ones: \n",
    "* The type constructor is named by convention `Repr[_]`, instead of `F[_]`. This is a minor notational difference, but serves us well to emphasise that we are talking here about _representation_ classes, not _computation_ classes. For instance, the MTL-based constant `def allCities: F[City]` is implemented in terms of a computation that will _return_ a stream or list of cities when executed. On the contrary, the tagless-final `def allCities: Repr[List[City]]` need not be implemented in terms of computations at all. It could be, and we will see an example in the standard semantics used for unit testing, but, it could also be a non-computational, intermediate data structure, as we will see with the non-standard semantics used to generate optimal SQL queries.\n",
    "* If `Repr[_]` is a representation, what are then its arguments in the different signatures? We refer to the types `Int`, `String`, `Option[Int]`, `List[City]` and `List[Country]` (which even refer to the case classes `City` and `Country` used in MTL repos, `quill` and in-memory models). In general, arguments of the type contructor `Repr[_]` serve the purpose of defining the __type system__ of the language. This component of our language complements the syntax of the DSL and allow us to avoid writing non-sensical expressios such as `cityName(c)`, where `c: Country`. Moreover, referring to the domain case classes `City` and `Country`, as well as to the Scala standard types `Int`, `String` and `List` is optional. We will see that this is most convenient when giving the standard semantics, but we may have well chosen abstract type members for this purpose. Typically, in non-computational representations of the language, these types play the roles of _phantom types_."
   ]
  },
  {
   "cell_type": "markdown",
   "metadata": {},
   "source": [
    "Let's come back to the `largeCapitals` query and analyse its general querying expressions. As we can see, our DSL must give us the possibility of writing: \n",
    "* _Integer expressions_, e.g. the constant `8000000`, and the comparison `city.population > 8000000`\n",
    "* _Equality expressions_, e.g. `_ == city.id`\n",
    "* _Algebraic data type (ADT) expressions_, concerning products, e.g. `(city.name, country.name)` and optional values, e.g. `...exists(...)`\n",
    "* _Comprehension expressions_, i.e. `for { ... <- ...; if ....; ... } yield ...`, which are made from the higher-order functions `flatMap`, `filter` and `map`."
   ]
  },
  {
   "cell_type": "markdown",
   "metadata": {},
   "source": [
    "The `QUEΛ` language deals with these later kinds of expressions, i.e. it is a general query language, deprived of any data model construct. The version that will be shown below differs in a couple of things: first, it is first-order, i.e. no lambda expressions (this in line with the language [`SQUR`](http://okmij.org/ftp/meta-programming/#SQUR), a subsequent development of the authors); second, we add a couple of constructs related to tuples and optional values; last, its present version is incomplete, we just focus on what we need to write our sample query. We present the language as a composition of sub-languages, as it's typically done in the tagless-final style:"
   ]
  },
  {
   "cell_type": "code",
   "execution_count": 16,
   "metadata": {
    "scrolled": true
   },
   "outputs": [
    {
     "data": {
      "text/plain": [
       "defined \u001b[32mtrait\u001b[39m \u001b[36mBaseExpr\u001b[39m\n",
       "defined \u001b[32mtrait\u001b[39m \u001b[36mADTExpr\u001b[39m\n",
       "defined \u001b[32mtrait\u001b[39m \u001b[36mMultisetExpr\u001b[39m\n",
       "defined \u001b[32mtrait\u001b[39m \u001b[36mQUEΛ\u001b[39m"
      ]
     },
     "execution_count": 16,
     "metadata": {},
     "output_type": "execute_result"
    }
   ],
   "source": [
    "trait BaseExpr[Repr[_]]{\n",
    "    \n",
    "    def bool(b: Boolean): Repr[Boolean]\n",
    "    def int(i: Int): Repr[Int]\n",
    "    def str(s: String): Repr[String]\n",
    "    \n",
    "    def ===(a1: Repr[Int], a2: Repr[Int]): Repr[Boolean]\n",
    "    def >(i1: Repr[Int], i2: Repr[Int]): Repr[Boolean]\n",
    "    // lots of relational operators more ...\n",
    "}\n",
    "\n",
    "trait ADTExpr[Repr[_]]{\n",
    "    \n",
    "    def tuple2[A, B](a: Repr[A], b: Repr[B]): Repr[(A, B)]\n",
    "    \n",
    "    def none[A]: Repr[Option[A]]\n",
    "    def some[A](a: Repr[A]): Repr[Option[A]]\n",
    "    def exists[A](o: Repr[Option[A]])(\n",
    "        cond: Repr[A] => Repr[Boolean]): Repr[Boolean]\n",
    "}\n",
    "\n",
    "trait MultisetExpr[Repr[_]]{\n",
    "    def from[A, B](q: Repr[List[A]])(f: Repr[A] => Repr[List[B]]): Repr[List[B]]\n",
    "    def where[A](cond: Repr[Boolean])(q: Repr[List[A]]): Repr[List[A]]\n",
    "    def select[A](a: Repr[A]): Repr[List[A]]\n",
    "    // omitted: multiset union, empty test, ... \n",
    "}\n",
    "\n",
    "trait QUEΛ[Repr[_]] extends \n",
    "    BaseExpr[Repr] with \n",
    "    ADTExpr[Repr] with \n",
    "    MultisetExpr[Repr]"
   ]
  },
  {
   "cell_type": "markdown",
   "metadata": {},
   "source": [
    "Now we are ready to write the `largeCapitals` query!"
   ]
  },
  {
   "cell_type": "code",
   "execution_count": 17,
   "metadata": {},
   "outputs": [
    {
     "data": {
      "text/plain": [
       "defined \u001b[32mfunction\u001b[39m \u001b[36mlargeCapitals\u001b[39m"
      ]
     },
     "execution_count": 17,
     "metadata": {},
     "output_type": "execute_result"
    }
   ],
   "source": [
    "def largeCapitals[Repr[_]](implicit \n",
    "        Q: QUEΛ[Repr], W: WorldModel[Repr]): Repr[List[(String, String)]] = \n",
    "    Q.from(W.allCountries){ country =>\n",
    "        Q.from(W.allCities){ city => \n",
    "            Q.where(Q.exists(W.countryCapital(country))(Q.===(_, W.cityId(city)))){\n",
    "                Q.where(Q.>(W.cityPopulation(city), Q.int(8000000))){\n",
    "                    Q.select(Q.tuple2(W.cityName(city), W.countryName(country)))\n",
    "                }\n",
    "            }\n",
    "        }\n",
    "    }"
   ]
  },
  {
   "cell_type": "markdown",
   "metadata": {},
   "source": [
    "Ooops, pretty ugly. We need some sugar to avoid referencing the type class instances, `Q` and `W`, and, specially, to profit from Scala for-comprehensions:"
   ]
  },
  {
   "cell_type": "code",
   "execution_count": 18,
   "metadata": {},
   "outputs": [
    {
     "data": {
      "text/plain": [
       "defined \u001b[32mobject\u001b[39m \u001b[36mWorldModelSyntax\u001b[39m\n",
       "\u001b[32mimport \u001b[39m\u001b[36mWorldModelSyntax._\n",
       "\n",
       "\u001b[39m\n",
       "defined \u001b[32mobject\u001b[39m \u001b[36mQUEΛSyntax\u001b[39m\n",
       "\u001b[32mimport \u001b[39m\u001b[36mQUEΛSyntax._\u001b[39m"
      ]
     },
     "execution_count": 18,
     "metadata": {},
     "output_type": "execute_result"
    }
   ],
   "source": [
    "object WorldModelSyntax{\n",
    "    def allCountries[Repr[_]](implicit W: WorldModel[Repr]) = \n",
    "        W.allCountries\n",
    "    def allCities[Repr[_]](implicit W: WorldModel[Repr]) = \n",
    "        W.allCities\n",
    "    \n",
    "    implicit class CountryFields[Repr[_]](country: Repr[Country])(implicit W: WorldModel[Repr]){\n",
    "        def name = W.countryName(country)\n",
    "        def capital = W.countryCapital(country)\n",
    "    }\n",
    "    \n",
    "    implicit class CityFields[Repr[_]](city: Repr[City])(implicit W: WorldModel[Repr]){\n",
    "        def id = W.cityId(city)        \n",
    "        def name = W.cityName(city)        \n",
    "        def population = W.cityPopulation(city)\n",
    "    }\n",
    "}\n",
    "\n",
    "import WorldModelSyntax._\n",
    "\n",
    "object QUEΛSyntax{\n",
    "    implicit class ComprehensionOps[Repr[_], A](la: Repr[List[A]])(implicit Q: QUEΛ[Repr]){\n",
    "        def flatMap[B](cont: Repr[A] => Repr[List[B]]): Repr[List[B]] = \n",
    "            Q.from(la)(cont)\n",
    "        def map[B](f: Repr[A] => Repr[B]): Repr[List[B]] = \n",
    "            Q.from(la)(a => Q.select(f(a)))\n",
    "        def withFilter(p: Repr[A] => Repr[Boolean]): Repr[List[A]] = \n",
    "            Q.from(la)(a => Q.where(p(a))(Q.select(a)))\n",
    "    }\n",
    "\n",
    "    implicit class BinOps[Repr[_]](a1: Repr[Int])(implicit Q: QUEΛ[Repr]){\n",
    "        def ===(a2: Repr[Int]): Repr[Boolean] = Q.===(a1, a2)\n",
    "        def >(a2: Repr[Int]): Repr[Boolean] = Q.>(a1, a2)\n",
    "    }\n",
    "\n",
    "    implicit def Tuple2QUEΛ[Repr[_], A, B](t2: (Repr[A], Repr[B]))(implicit Q: QUEΛ[Repr]): Repr[(A, B)] = \n",
    "        Q.tuple2(t2._1, t2._2)\n",
    "\n",
    "    implicit class OptionOps[Repr[_], A](o: Repr[Option[A]])(implicit Q: QUEΛ[Repr]){\n",
    "        def exists(cond: Repr[A] => Repr[Boolean]): Repr[Boolean] = \n",
    "            Q.exists(o)(cond)\n",
    "    }\n",
    "\n",
    "    implicit def IntQUEΛ[Repr[_]](i: Int)(implicit Q: QUEΛ[Repr]): Repr[Int] = \n",
    "        Q.int(i)\n",
    "}\n",
    "\n",
    "import QUEΛSyntax._"
   ]
  },
  {
   "cell_type": "markdown",
   "metadata": {},
   "source": [
    "Now, believe it or not, we can write our query using almost the very same syntax than for in-memory queries:"
   ]
  },
  {
   "cell_type": "code",
   "execution_count": 19,
   "metadata": {},
   "outputs": [
    {
     "data": {
      "text/plain": [
       "defined \u001b[32mfunction\u001b[39m \u001b[36mlargeCapitals\u001b[39m"
      ]
     },
     "execution_count": 19,
     "metadata": {},
     "output_type": "execute_result"
    }
   ],
   "source": [
    "def largeCapitals[Repr[_]: QUEΛ: WorldModel]: Repr[List[(String, String)]] = \n",
    "    for {\n",
    "        country <- allCountries\n",
    "        city <- allCities\n",
    "        if country.capital.exists(_ === city.id)\n",
    "        if city.population > 8000000\n",
    "    } yield (city.name, country.name)"
   ]
  },
  {
   "cell_type": "markdown",
   "metadata": {},
   "source": [
    "### Standard semantics"
   ]
  },
  {
   "cell_type": "markdown",
   "metadata": {},
   "source": [
    "Ok, but what do QUEΛ expressions _mean_? The answer is provided by the _standard_ semantics, which is typically given by the `Id[_]` representation. This means that `Repr[Int] == Int`, `Repr[List[City]] == List[City]`, and so forth, i.e. we give meanings to expressions in terms of the types chosen to define the type system of the language. Thus, the standard meaning of `QUEΛ` expressions is given by in-memory standard Scala types. Similarly, the standard meaning for `WorldModel` expressions is given by in-memory case classes. "
   ]
  },
  {
   "cell_type": "code",
   "execution_count": 20,
   "metadata": {},
   "outputs": [
    {
     "data": {
      "text/plain": [
       "defined \u001b[32mobject\u001b[39m \u001b[36mStdQUEΛ\u001b[39m"
      ]
     },
     "execution_count": 20,
     "metadata": {},
     "output_type": "execute_result"
    }
   ],
   "source": [
    "implicit object StdQUEΛ extends QUEΛ[Id]{\n",
    "    // BASE TYPES\n",
    "\n",
    "    def bool(b: Boolean): Boolean = b\n",
    "    def int(i: Int): Int = i\n",
    "    def str(s: String): String = s\n",
    "    \n",
    "    def ===(a1: Int, a2: Int): Boolean = a1 == a2\n",
    "    def >(i1: Int, i2: Int): Boolean = i1 > i2\n",
    "\n",
    "    // ADTs\n",
    "\n",
    "    def tuple2[A, B](a: A, b: B): (A, B) = (a,b)\n",
    "\n",
    "    def none[A]: Option[A] = None\n",
    "    def some[A](a: A): Option[A] = Some(a)\n",
    "    def exists[A](a: Option[A])(cond: A => Boolean): Boolean = \n",
    "        a.flatMap(cond andThen Option.apply).getOrElse(false)\n",
    "\n",
    "    // COMPREHENSIONS\n",
    "\n",
    "    def from[A, B](q: List[A])(f: A => List[B]): List[B] = q.flatMap(f)\n",
    "    def select[A](a: A): List[A] = List(a)\n",
    "    def where[A](cond: Boolean)(q: List[A]): List[A] = if (cond) q else List()\n",
    "}"
   ]
  },
  {
   "cell_type": "markdown",
   "metadata": {},
   "source": [
    "The standard semantics of `WorldModel` given in terms of `Id[_]` requires a `World` parameter. Alternatively, we may have given the standard semantics in terms of `StateT[List, World, _]`, as we did for the MTL-based repos, but we preferred `Id[_]` in order for the `QUEΛ` semantics to be more simpler. "
   ]
  },
  {
   "cell_type": "code",
   "execution_count": 21,
   "metadata": {},
   "outputs": [
    {
     "data": {
      "text/plain": [
       "defined \u001b[32mclass\u001b[39m \u001b[36mWorld\u001b[39m\n",
       "defined \u001b[32mfunction\u001b[39m \u001b[36mIdWorldModel\u001b[39m"
      ]
     },
     "execution_count": 21,
     "metadata": {},
     "output_type": "execute_result"
    }
   ],
   "source": [
    "case class World(countries: Map[String, Country], cities: Map[Int, City])\n",
    "\n",
    "implicit def IdWorldModel(implicit W: World): WorldModel[Id] = \n",
    "    new WorldModel[Id]{\n",
    "        // World\n",
    "        def allCountries: List[Country] = W.countries.values.toList\n",
    "        def allCities: List[City] = W.cities.values.toList\n",
    "        \n",
    "        // Cities\n",
    "        def cityId(city: City): Int = city.id\n",
    "        def cityName(city: City): String = city.name\n",
    "        def cityCountry(city: City): String = city.countryCode\n",
    "        def cityPopulation(city: City): Int = city.population\n",
    "\n",
    "        // Countries\n",
    "        def countryCode(country: Country): String = country.code\n",
    "        def countryName(country: Country): String = country.name\n",
    "        def countryCapital(country: Country): Option[Int] = country.capital\n",
    "    }"
   ]
  },
  {
   "cell_type": "markdown",
   "metadata": {},
   "source": [
    "Using this standard semantics, we can do unit testing, much in the same way as before:"
   ]
  },
  {
   "cell_type": "code",
   "execution_count": 22,
   "metadata": {},
   "outputs": [
    {
     "data": {
      "text/plain": [
       "\u001b[32mimport \u001b[39m\u001b[36morg.scalatest._\n",
       "\n",
       "\u001b[39m\n",
       "defined \u001b[32mobject\u001b[39m \u001b[36mLargeCapitalsSpec\u001b[39m"
      ]
     },
     "execution_count": 22,
     "metadata": {},
     "output_type": "execute_result"
    }
   ],
   "source": [
    "import org.scalatest._\n",
    "\n",
    "object LargeCapitalsSpec extends FlatSpec with Matchers{\n",
    "    \n",
    "    implicit val smallWorld: World =         \n",
    "        World(\n",
    "            Map(\"ES\" -> Country(\"ES\",\"Spain\",Some(0)),\n",
    "                \"USA\" -> Country(\"USA\", \"United States\", Some(1)),\n",
    "                \"UK\" -> Country(\"UK\", \"United Kingdom\", Some(2)),\n",
    "                \"UNK\" -> Country(\"UNK\", \"Unknown\", None)),\n",
    "            Map(0->City(0,\"Madrid\",\"ES\",9000000),\n",
    "                1->City(1,\"Washington\", \"USA\", 10000000),\n",
    "                2->City(2,\"London\", \"UK\", 500000)))    \n",
    "\n",
    "    \"large capitals\" should \"be right\" in {\n",
    "        largeCapitals[Id].toSet shouldBe \n",
    "            Set((\"Madrid\", \"Spain\"), (\"Washington\", \"United States\"))\n",
    "    }\n",
    "}"
   ]
  },
  {
   "cell_type": "code",
   "execution_count": 23,
   "metadata": {},
   "outputs": [
    {
     "name": "stdout",
     "output_type": "stream",
     "text": [
      "\u001b[32mcmd21$Helper$LargeCapitalsSpec:\u001b[0m\n",
      "\u001b[32mlarge capitals\u001b[0m\n",
      "\u001b[32m- should be right\u001b[0m\n"
     ]
    }
   ],
   "source": [
    "run(LargeCapitalsSpec)"
   ]
  },
  {
   "cell_type": "markdown",
   "metadata": {},
   "source": [
    "All is good, but, up to now, we haven't done anything that we couldn't do with MTL-based repos! So, let's move to more [interesting semantics](Variation6b.QUEΛ.ipynb)."
   ]
  },
  {
   "cell_type": "code",
   "execution_count": null,
   "metadata": {},
   "outputs": [],
   "source": []
  }
 ],
 "metadata": {
  "kernelspec": {
   "display_name": "Scala",
   "language": "scala",
   "name": "scala"
  },
  "language_info": {
   "codemirror_mode": "text/x-scala",
   "file_extension": ".sc",
   "mimetype": "text/x-scala",
   "name": "scala",
   "nbconvert_exporter": "script",
   "version": "2.13.3"
  }
 },
 "nbformat": 4,
 "nbformat_minor": 4
}
