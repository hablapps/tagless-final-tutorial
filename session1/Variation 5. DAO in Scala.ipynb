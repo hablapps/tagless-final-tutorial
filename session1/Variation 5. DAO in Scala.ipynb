{
 "cells": [
  {
   "cell_type": "code",
   "execution_count": 1,
   "metadata": {},
   "outputs": [
    {
     "data": {
      "text/plain": [
       "\u001b[32mimport \u001b[39m\u001b[36m$file.$     \n",
       "\u001b[39m\n",
       "\u001b[32mimport \u001b[39m\u001b[36mcommon._\n",
       "\u001b[39m\n",
       "\u001b[32mimport \u001b[39m\u001b[36mdoobie._, doobie.implicits._\n",
       "\u001b[39m\n",
       "\u001b[32mimport \u001b[39m\u001b[36mcats._, cats.implicits._\n",
       "\u001b[39m\n",
       "\u001b[32mimport \u001b[39m\u001b[36mcats.effect._\n",
       "\u001b[39m\n",
       "\u001b[32mimport \u001b[39m\u001b[36mfs2.Stream\n",
       "\u001b[39m\n",
       "\u001b[32mimport \u001b[39m\u001b[36mjava.sql._\n",
       "\u001b[39m\n",
       "\u001b[32mimport \u001b[39m\u001b[36mdoobie.hikari._\u001b[39m"
      ]
     },
     "execution_count": 1,
     "metadata": {},
     "output_type": "execute_result"
    }
   ],
   "source": [
    "import $file.common\n",
    "import common._\n",
    "import doobie._, doobie.implicits._\n",
    "import cats._, cats.implicits._\n",
    "import cats.effect._\n",
    "import fs2.Stream\n",
    "import java.sql._\n",
    "import doobie.hikari._"
   ]
  },
  {
   "cell_type": "markdown",
   "metadata": {},
   "source": [
    "# Variation 5. DAO in Scala"
   ]
  },
  {
   "cell_type": "markdown",
   "metadata": {},
   "source": [
    "Common case classes for DAO interfaces."
   ]
  },
  {
   "cell_type": "code",
   "execution_count": 2,
   "metadata": {},
   "outputs": [
    {
     "data": {
      "text/plain": [
       "defined \u001b[32mclass\u001b[39m \u001b[36mCountry\u001b[39m\n",
       "defined \u001b[32mclass\u001b[39m \u001b[36mCity\u001b[39m"
      ]
     },
     "execution_count": 2,
     "metadata": {},
     "output_type": "execute_result"
    }
   ],
   "source": [
    "case class Country(code: String, name: String, capital: Option[Int])\n",
    "case class City(id: Int, name: String, countryCode: String, population: Int)"
   ]
  },
  {
   "cell_type": "markdown",
   "metadata": {},
   "source": [
    "# Id"
   ]
  },
  {
   "cell_type": "code",
   "execution_count": 3,
   "metadata": {},
   "outputs": [
    {
     "data": {
      "text/plain": [
       "defined \u001b[32mtrait\u001b[39m \u001b[36mCityDAOId\u001b[39m\n",
       "defined \u001b[32mtrait\u001b[39m \u001b[36mCountryDAOId\u001b[39m\n",
       "defined \u001b[32mtrait\u001b[39m \u001b[36mWorldId\u001b[39m"
      ]
     },
     "execution_count": 3,
     "metadata": {},
     "output_type": "execute_result"
    }
   ],
   "source": [
    "trait CityDAOId{\n",
    "    def city(id: Int): City\n",
    "    def cityName(id: Int): String\n",
    "    def cityPopulation(id: Int): Int\n",
    "    def cityCountryCode(id: Int): String\n",
    "}\n",
    "\n",
    "trait CountryDAOId{\n",
    "    def country(code: String): Country\n",
    "    def countryName(code: String): String\n",
    "    def countryCapital(code: String): Option[Int]\n",
    "}\n",
    "\n",
    "trait WorldId extends CityDAOId with CountryDAOId{\n",
    "    def countries(): List[String]\n",
    "    def cities(): List[Int]\n",
    "}"
   ]
  },
  {
   "cell_type": "code",
   "execution_count": 4,
   "metadata": {},
   "outputs": [
    {
     "data": {
      "text/plain": [
       "defined \u001b[32mfunction\u001b[39m \u001b[36mlargeCitiesId\u001b[39m"
      ]
     },
     "execution_count": 4,
     "metadata": {},
     "output_type": "execute_result"
    }
   ],
   "source": [
    "def largeCitiesId(W: WorldId): List[(String, String)] = \n",
    "    for {\n",
    "        countryCode <- W.countries\n",
    "        Country(_, name, Some(capitalId)) <- List(W.country(countryCode))\n",
    "        city <- List(W.city(capitalId)) if city.population > 8000000\n",
    "    } yield (city.name, name)"
   ]
  },
  {
   "cell_type": "code",
   "execution_count": 5,
   "metadata": {},
   "outputs": [
    {
     "data": {
      "text/plain": [
       "defined \u001b[32mfunction\u001b[39m \u001b[36mlargeCitiesId2\u001b[39m"
      ]
     },
     "execution_count": 5,
     "metadata": {},
     "output_type": "execute_result"
    }
   ],
   "source": [
    "def largeCitiesId2(W: WorldId): List[(String, String)] = \n",
    "    for {\n",
    "        countryCode <- W.countries\n",
    "        country = W.country(countryCode) if country.capital.isDefined\n",
    "        city = W.city(country.capital.get) if city.population > 8000000\n",
    "    } yield (city.name, country.name)"
   ]
  },
  {
   "cell_type": "code",
   "execution_count": 6,
   "metadata": {},
   "outputs": [
    {
     "data": {
      "text/plain": [
       "defined \u001b[32mclass\u001b[39m \u001b[36mDoobieWorldId\u001b[39m\n",
       "defined \u001b[32mobject\u001b[39m \u001b[36mDoobieWorldId\u001b[39m"
      ]
     },
     "execution_count": 6,
     "metadata": {},
     "output_type": "execute_result"
    }
   ],
   "source": [
    "class DoobieWorldId(xa: Transactor[IO]) extends WorldId{\n",
    "    def city(id: Int): City = \n",
    "        sql\"select id, name, countryCode, population from city where id = $id\"\n",
    "            .query[City].unique.transact(xa).unsafeRunSync\n",
    "\n",
    "    def cityName(id: Int): String = \n",
    "        sql\"select name from city where id = $id\"\n",
    "            .query[String].unique.transact(xa).unsafeRunSync\n",
    "    \n",
    "    def cityPopulation(id: Int): Int = \n",
    "        sql\"select population from city where id = $id\"\n",
    "            .query[Int].unique.transact(xa).unsafeRunSync\n",
    "    \n",
    "    def cityCountryCode(id: Int): String = \n",
    "        sql\"select countryCode from city where id = $id\"\n",
    "            .query[String].unique.transact(xa).unsafeRunSync\n",
    "\n",
    "    def country(code: String): Country = \n",
    "        sql\"select code, name, capital from country where code = $code\"\n",
    "            .query[Country].unique.transact(xa).unsafeRunSync\n",
    "    \n",
    "    def countryName(code: String): String =\n",
    "        sql\"select name from country where code = $code\"\n",
    "            .query[String].unique.transact(xa).unsafeRunSync\n",
    "    \n",
    "    def countryCapital(code: String): Option[Int] =\n",
    "        sql\"select capital from country where code = $code\"\n",
    "            .query[Int].option.transact(xa).unsafeRunSync\n",
    "    \n",
    "    def countries(): List[String] = \n",
    "        sql\"select code from country\"\n",
    "            .query[String].to[List].transact(xa).unsafeRunSync\n",
    "    \n",
    "    def cities(): List[Int] = \n",
    "        sql\"select id from city\"\n",
    "            .query[Int].to[List].transact(xa).unsafeRunSync\n",
    "}\n",
    "\n",
    "object DoobieWorldId extends DoobieWorldId(xa)"
   ]
  },
  {
   "cell_type": "code",
   "execution_count": 7,
   "metadata": {},
   "outputs": [
    {
     "data": {
      "text/plain": [
       "\u001b[36mres6\u001b[39m: (\u001b[32mList\u001b[39m[(\u001b[32mString\u001b[39m, \u001b[32mString\u001b[39m)], \u001b[32mLong\u001b[39m) = (\n",
       "  \u001b[33mList\u001b[39m(\n",
       "    (\u001b[32m\"Jakarta\"\u001b[39m, \u001b[32m\"Indonesia\"\u001b[39m),\n",
       "    (\u001b[32m\"Seoul\"\u001b[39m, \u001b[32m\"South Korea\"\u001b[39m),\n",
       "    (\u001b[32m\"Ciudad de M\\u00e9xico\"\u001b[39m, \u001b[32m\"Mexico\"\u001b[39m),\n",
       "    (\u001b[32m\"Moscow\"\u001b[39m, \u001b[32m\"Russian Federation\"\u001b[39m)\n",
       "  ),\n",
       "  \u001b[32m4838271751L\u001b[39m\n",
       ")"
      ]
     },
     "execution_count": 7,
     "metadata": {},
     "output_type": "execute_result"
    }
   ],
   "source": [
    "largeCitiesId2(DoobieWorldId).timed"
   ]
  },
  {
   "cell_type": "markdown",
   "metadata": {},
   "source": [
    "### IO"
   ]
  },
  {
   "cell_type": "code",
   "execution_count": 8,
   "metadata": {},
   "outputs": [
    {
     "data": {
      "text/plain": [
       "defined \u001b[32mtrait\u001b[39m \u001b[36mCityDAO\u001b[39m\n",
       "defined \u001b[32mtrait\u001b[39m \u001b[36mCountryDAO\u001b[39m\n",
       "defined \u001b[32mtrait\u001b[39m \u001b[36mWorld\u001b[39m"
      ]
     },
     "execution_count": 8,
     "metadata": {},
     "output_type": "execute_result"
    }
   ],
   "source": [
    "trait CityDAO{\n",
    "    def city(id: Int): IO[City]\n",
    "    def cityName(id: Int): IO[String]\n",
    "    def cityPopulation(id: Int): IO[Int]\n",
    "    def cityCountryCode(id: Int): IO[String]\n",
    "}\n",
    "\n",
    "trait CountryDAO{\n",
    "    def country(code: String): IO[Country]\n",
    "    def countryName(code: String): IO[String]\n",
    "    def countryCapital(code: String): IO[Option[Int]]\n",
    "}\n",
    "\n",
    "trait World extends CityDAO with CountryDAO{\n",
    "    def countries(): IO[List[String]]\n",
    "    def cities(): IO[List[Int]]\n",
    "}"
   ]
  },
  {
   "cell_type": "code",
   "execution_count": 9,
   "metadata": {},
   "outputs": [
    {
     "data": {
      "text/plain": [
       "\u001b[36mIOListM\u001b[39m: \u001b[32mMonad\u001b[39m[\u001b[32mIO\u001b[39m[\u001b[32mList\u001b[39m[\u001b[32mT\u001b[39m]]] = ammonite.$sess.common$Helper$$anon$1@7c2063b4\n",
       "\u001b[36mIOListF\u001b[39m: \u001b[32mFunctorFilter\u001b[39m[\u001b[32mIO\u001b[39m[\u001b[32mList\u001b[39m[\u001b[32mT\u001b[39m]]] = ammonite.$sess.common$Helper$$anon$2@5c42f7f3"
      ]
     },
     "execution_count": 9,
     "metadata": {},
     "output_type": "execute_result"
    }
   ],
   "source": [
    "val IOListM = Monad[λ[T => IO[List[T]]]]\n",
    "val IOListF = FunctorFilter[λ[T => IO[List[T]]]]"
   ]
  },
  {
   "cell_type": "code",
   "execution_count": 10,
   "metadata": {},
   "outputs": [
    {
     "data": {
      "text/plain": [
       "defined \u001b[32mfunction\u001b[39m \u001b[36mlargeCapitalsIOList\u001b[39m"
      ]
     },
     "execution_count": 10,
     "metadata": {},
     "output_type": "execute_result"
    }
   ],
   "source": [
    "// No stream fusion\n",
    "// Can't use for-comprehensions (need a monad for λ[T => IO[List[T]]]) :(\n",
    "// Needs implicit conversions from IO[T]/IO[Option[T]] to IO[List[T]]\n",
    "\n",
    "def largeCapitalsIOList(W: World): IO[List[(String, String)]] =\n",
    "    IOListM.flatMap(W.countries){ countryCode => \n",
    "        IOListM.flatMap(\n",
    "            IOListF.filter(W.country(countryCode))(_.capital.isDefined)\n",
    "        ){ country => \n",
    "            IOListM.map(\n",
    "                IOListF.filter(W.city(country.capital.get))(_.population > 8000000)\n",
    "            ){ city => \n",
    "                (country.name, city.name)\n",
    "            }\n",
    "        }\n",
    "    }"
   ]
  },
  {
   "cell_type": "code",
   "execution_count": 11,
   "metadata": {},
   "outputs": [
    {
     "data": {
      "text/plain": [
       "defined \u001b[32mclass\u001b[39m \u001b[36mDoobieWorldIOList\u001b[39m\n",
       "defined \u001b[32mobject\u001b[39m \u001b[36mDoobieWorldIOList\u001b[39m"
      ]
     },
     "execution_count": 11,
     "metadata": {},
     "output_type": "execute_result"
    }
   ],
   "source": [
    "class DoobieWorldIOList(xa: Transactor[IO]) extends World{\n",
    "    def city(id: Int): IO[City] = \n",
    "        sql\"select id, name, countryCode, population from city where id = $id\"\n",
    "            .query[City].unique.transact(xa)\n",
    "\n",
    "    def cityName(id: Int): IO[String] = \n",
    "        sql\"select name from city where id = $id\"\n",
    "            .query[String].unique.transact(xa)\n",
    "    \n",
    "    def cityPopulation(id: Int): IO[Int] = \n",
    "        sql\"select population from city where id = $id\"\n",
    "            .query[Int].unique.transact(xa)\n",
    "    \n",
    "    def cityCountryCode(id: Int): IO[String] = \n",
    "        sql\"select countryCode from city where id = $id\"\n",
    "            .query[String].unique.transact(xa)\n",
    "\n",
    "    def country(code: String): IO[Country] = \n",
    "        sql\"select code, name, capital from country where code = $code\"\n",
    "            .query[Country].unique.transact(xa)\n",
    "    \n",
    "    def countryName(code: String): IO[String] =\n",
    "        sql\"select name from country where code = $code\"\n",
    "            .query[String].unique.transact(xa)\n",
    "    \n",
    "    def countryCapital(code: String): IO[Option[Int]] =\n",
    "        sql\"select capital from country where code = $code\"\n",
    "            .query[Int].option.transact(xa)\n",
    "    \n",
    "    def countries(): IO[List[String]] = \n",
    "        sql\"select code from country\"\n",
    "            .query[String].to[List].transact(xa)\n",
    "    \n",
    "    def cities(): IO[List[Int]] = \n",
    "        sql\"select id from city\"\n",
    "            .query[Int].to[List].transact(xa)\n",
    "}\n",
    "\n",
    "object DoobieWorldIOList extends DoobieWorldIOList(xa)"
   ]
  },
  {
   "cell_type": "code",
   "execution_count": 12,
   "metadata": {},
   "outputs": [
    {
     "data": {
      "text/plain": [
       "\u001b[36mres11\u001b[39m: (\u001b[32mList\u001b[39m[(\u001b[32mString\u001b[39m, \u001b[32mString\u001b[39m)], \u001b[32mLong\u001b[39m) = (\n",
       "  \u001b[33mList\u001b[39m(\n",
       "    (\u001b[32m\"Indonesia\"\u001b[39m, \u001b[32m\"Jakarta\"\u001b[39m),\n",
       "    (\u001b[32m\"South Korea\"\u001b[39m, \u001b[32m\"Seoul\"\u001b[39m),\n",
       "    (\u001b[32m\"Mexico\"\u001b[39m, \u001b[32m\"Ciudad de M\\u00e9xico\"\u001b[39m),\n",
       "    (\u001b[32m\"Russian Federation\"\u001b[39m, \u001b[32m\"Moscow\"\u001b[39m)\n",
       "  ),\n",
       "  \u001b[32m5089460430L\u001b[39m\n",
       ")"
      ]
     },
     "execution_count": 12,
     "metadata": {},
     "output_type": "execute_result"
    }
   ],
   "source": [
    "largeCapitalsIOList(DoobieWorldIOList).unsafeRunSync.timed"
   ]
  },
  {
   "cell_type": "markdown",
   "metadata": {},
   "source": [
    "BIG BIG BIG PROBLEM: no filters AND query avalance AND multiple connections"
   ]
  },
  {
   "cell_type": "markdown",
   "metadata": {},
   "source": [
    "### with connection pools"
   ]
  },
  {
   "cell_type": "code",
   "execution_count": 13,
   "metadata": {},
   "outputs": [
    {
     "data": {
      "text/plain": [
       "\u001b[36mhtransactor\u001b[39m: \u001b[32mResource\u001b[39m[\u001b[32mIO\u001b[39m, \u001b[32mHikariTransactor\u001b[39m[\u001b[32mIO\u001b[39m]] = \u001b[33mBind\u001b[39m(\n",
       "  \u001b[33mBind\u001b[39m(\n",
       "    \u001b[33mAllocate\u001b[39m(\n",
       "      \u001b[33mMap\u001b[39m(\n",
       "        \u001b[33mDelay\u001b[39m(doobie.util.ExecutionContexts$$$Lambda$3476/425990144@39235eea),\n",
       "        scala.Function1$$Lambda$318/1443055846@7566289f,\n",
       "        \u001b[32m1\u001b[39m\n",
       "      )\n",
       "    ),\n",
       "    cats.effect.Resource$$Lambda$3247/609295256@1845ac24\n",
       "  ),\n",
       "  ammonite.$sess.cmd12$Helper$$Lambda$3479/846786198@4a1ddea9\n",
       ")"
      ]
     },
     "execution_count": 13,
     "metadata": {},
     "output_type": "execute_result"
    }
   ],
   "source": [
    "val htransactor: Resource[IO, HikariTransactor[IO]] =\n",
    "    for {\n",
    "        ce <- ExecutionContexts.fixedThreadPool[IO](32) // our connect EC\n",
    "        be <- Blocker[IO]    // our blocking EC\n",
    "        xa <- HikariTransactor.newHikariTransactor[IO](\n",
    "              \"org.postgresql.Driver\",                        // driver classname\n",
    "              \"jdbc:postgresql:world\",   // connect URL\n",
    "              \"postgres\",                                   // username\n",
    "              \"\",                                     // password\n",
    "              ce,                                     // await connection here\n",
    "              be                                      // execute JDBC operations here\n",
    "            )\n",
    "    } yield xa"
   ]
  },
  {
   "cell_type": "code",
   "execution_count": 14,
   "metadata": {},
   "outputs": [
    {
     "data": {
      "text/plain": [
       "\u001b[36mres13\u001b[39m: (\u001b[32mList\u001b[39m[(\u001b[32mString\u001b[39m, \u001b[32mString\u001b[39m)], \u001b[32mLong\u001b[39m) = (\n",
       "  \u001b[33mList\u001b[39m(\n",
       "    (\u001b[32m\"Indonesia\"\u001b[39m, \u001b[32m\"Jakarta\"\u001b[39m),\n",
       "    (\u001b[32m\"South Korea\"\u001b[39m, \u001b[32m\"Seoul\"\u001b[39m),\n",
       "    (\u001b[32m\"Mexico\"\u001b[39m, \u001b[32m\"Ciudad de M\\u00e9xico\"\u001b[39m),\n",
       "    (\u001b[32m\"Russian Federation\"\u001b[39m, \u001b[32m\"Moscow\"\u001b[39m)\n",
       "  ),\n",
       "  \u001b[32m638528506L\u001b[39m\n",
       ")"
      ]
     },
     "execution_count": 14,
     "metadata": {},
     "output_type": "execute_result"
    }
   ],
   "source": [
    "htransactor.map(xa => new DoobieWorldIOList(xa)).use(largeCapitalsIOList).unsafeRunSync.timed"
   ]
  },
  {
   "cell_type": "markdown",
   "metadata": {},
   "source": [
    "### with single connection"
   ]
  },
  {
   "cell_type": "code",
   "execution_count": 15,
   "metadata": {},
   "outputs": [
    {
     "data": {
      "text/plain": [
       "\u001b[36mDoobieWorldIOListSingle\u001b[39m: \u001b[32mResource\u001b[39m[\u001b[32mIO\u001b[39m, \u001b[32mDoobieWorldIOList\u001b[39m] = \u001b[33mBind\u001b[39m(\n",
       "  \u001b[33mAllocate\u001b[39m(\n",
       "    \u001b[33mMap\u001b[39m(\n",
       "      \u001b[33mDelay\u001b[39m(ammonite.$sess.cmd14$Helper$$Lambda$3529/1067936711@4175df38),\n",
       "      scala.Function1$$Lambda$318/1443055846@1ff4c94,\n",
       "      \u001b[32m1\u001b[39m\n",
       "    )\n",
       "  ),\n",
       "  ammonite.$sess.cmd14$Helper$$Lambda$3531/2111432197@28f73eef\n",
       ")"
      ]
     },
     "execution_count": 15,
     "metadata": {},
     "output_type": "execute_result"
    }
   ],
   "source": [
    "val DoobieWorldIOListSingle = for {\n",
    "    con <- Resource.make(\n",
    "        IO(DriverManager.getConnection(\"jdbc:postgresql:world\", \"postgres\", \"\")))(\n",
    "        connection => IO(connection.close))\n",
    "    be <- Blocker[IO]\n",
    "} yield new DoobieWorldIOList(Transactor.fromConnection[IO](con, be))"
   ]
  },
  {
   "cell_type": "code",
   "execution_count": 16,
   "metadata": {},
   "outputs": [
    {
     "data": {
      "text/plain": [
       "\u001b[36mres15\u001b[39m: (\u001b[32mList\u001b[39m[(\u001b[32mString\u001b[39m, \u001b[32mString\u001b[39m)], \u001b[32mLong\u001b[39m) = (\n",
       "  \u001b[33mList\u001b[39m(\n",
       "    (\u001b[32m\"Indonesia\"\u001b[39m, \u001b[32m\"Jakarta\"\u001b[39m),\n",
       "    (\u001b[32m\"South Korea\"\u001b[39m, \u001b[32m\"Seoul\"\u001b[39m),\n",
       "    (\u001b[32m\"Mexico\"\u001b[39m, \u001b[32m\"Ciudad de M\\u00e9xico\"\u001b[39m),\n",
       "    (\u001b[32m\"Russian Federation\"\u001b[39m, \u001b[32m\"Moscow\"\u001b[39m)\n",
       "  ),\n",
       "  \u001b[32m632543406L\u001b[39m\n",
       ")"
      ]
     },
     "execution_count": 16,
     "metadata": {},
     "output_type": "execute_result"
    }
   ],
   "source": [
    "DoobieWorldIOListSingle.use(largeCapitalsIOList).unsafeRunSync.timed"
   ]
  },
  {
   "cell_type": "markdown",
   "metadata": {},
   "source": [
    "### `Stream[ConnectionIO, ?]`"
   ]
  },
  {
   "cell_type": "markdown",
   "metadata": {},
   "source": [
    "This API is JDBC-specific. TODO: Stream[IO, ?]"
   ]
  },
  {
   "cell_type": "code",
   "execution_count": 17,
   "metadata": {},
   "outputs": [
    {
     "data": {
      "text/plain": [
       "defined \u001b[32mtrait\u001b[39m \u001b[36mCityDAOS\u001b[39m\n",
       "defined \u001b[32mtrait\u001b[39m \u001b[36mCountryDAOS\u001b[39m\n",
       "defined \u001b[32mtrait\u001b[39m \u001b[36mWorldS\u001b[39m"
      ]
     },
     "execution_count": 17,
     "metadata": {},
     "output_type": "execute_result"
    }
   ],
   "source": [
    "trait CityDAOS{\n",
    "    def city(id: Int): Stream[ConnectionIO, City]\n",
    "    def cityName(id: Int): Stream[ConnectionIO, String]\n",
    "    def cityPopulation(id: Int): Stream[ConnectionIO, Int]\n",
    "    def cityCountryCode(id: Int): Stream[ConnectionIO, String]\n",
    "}\n",
    "\n",
    "trait CountryDAOS{\n",
    "    def country(code: String): Stream[ConnectionIO, Country]\n",
    "    def countryName(code: String): Stream[ConnectionIO, String]\n",
    "    def countryCapital(code: String): Stream[ConnectionIO, Option[Int]]\n",
    "}\n",
    "\n",
    "trait WorldS extends CityDAOS with CountryDAOS{\n",
    "    def countries(): Stream[ConnectionIO, String]\n",
    "    def cities(): Stream[ConnectionIO, Int]\n",
    "}"
   ]
  },
  {
   "cell_type": "code",
   "execution_count": 18,
   "metadata": {},
   "outputs": [
    {
     "data": {
      "text/plain": [
       "defined \u001b[32mobject\u001b[39m \u001b[36mWorldS\u001b[39m"
      ]
     },
     "execution_count": 18,
     "metadata": {},
     "output_type": "execute_result"
    }
   ],
   "source": [
    "object WorldS extends WorldS {\n",
    "    \n",
    "    def city(id: Int): Stream[ConnectionIO, City] = \n",
    "        sql\"select id, name, countryCode, population from city where id = $id\"\n",
    "            .query[City].stream\n",
    "    \n",
    "    def cityName(id: Int): Stream[ConnectionIO, String] = \n",
    "        sql\"select name from city where id = $id\"\n",
    "            .query[String].stream\n",
    "    \n",
    "    def cityPopulation(id: Int): Stream[ConnectionIO, Int] = \n",
    "        sql\"select population from city where id = $id\"\n",
    "            .query[Int].stream\n",
    "\n",
    "    def cityCountryCode(id: Int): Stream[ConnectionIO, String] = \n",
    "        sql\"select population from city where id = $id\"\n",
    "            .query[String].stream\n",
    "\n",
    "    def country(code: String): Stream[ConnectionIO, Country] = \n",
    "        sql\"select code, name, capital from country where code = $code\"\n",
    "            .query[Country].stream\n",
    "    \n",
    "    def countryName(id: String): Stream[ConnectionIO, String] =\n",
    "        sql\"select name from country where id = $id\"\n",
    "            .query[String].stream\n",
    "    \n",
    "    def countryCapital(id: String): Stream[ConnectionIO, Option[Int]] =\n",
    "        sql\"select capital from country where id = $id\"\n",
    "            .query[Option[Int]].stream\n",
    "    \n",
    "    def countries: Stream[ConnectionIO, String] = \n",
    "        sql\"select code from country\"\n",
    "            .query[String].stream\n",
    "    \n",
    "    def cities: Stream[ConnectionIO, Int] = \n",
    "        sql\"select code, name, capital from country\"\n",
    "            .query[Int].stream\n",
    "\n",
    "}"
   ]
  },
  {
   "cell_type": "code",
   "execution_count": 19,
   "metadata": {},
   "outputs": [
    {
     "data": {
      "text/plain": [
       "defined \u001b[32mfunction\u001b[39m \u001b[36mlargeCapitalsStream\u001b[39m"
      ]
     },
     "execution_count": 19,
     "metadata": {},
     "output_type": "execute_result"
    }
   ],
   "source": [
    "def largeCapitalsStream(W: WorldS): Stream[ConnectionIO,(String, String)] = for {\n",
    "    name <- W.countries\n",
    "    Country(_, name, Some(capital)) <- W.country(name)\n",
    "    population <- W.cityPopulation(capital) if population > 8000000\n",
    "    cName <- W.cityName(capital)\n",
    "} yield (cName, name)"
   ]
  },
  {
   "cell_type": "code",
   "execution_count": 20,
   "metadata": {},
   "outputs": [
    {
     "data": {
      "text/plain": [
       "\u001b[36mres19\u001b[39m: (\u001b[32mList\u001b[39m[(\u001b[32mString\u001b[39m, \u001b[32mString\u001b[39m)], \u001b[32mLong\u001b[39m) = (\n",
       "  \u001b[33mList\u001b[39m(\n",
       "    (\u001b[32m\"Jakarta\"\u001b[39m, \u001b[32m\"Indonesia\"\u001b[39m),\n",
       "    (\u001b[32m\"Seoul\"\u001b[39m, \u001b[32m\"South Korea\"\u001b[39m),\n",
       "    (\u001b[32m\"Ciudad de M\\u00e9xico\"\u001b[39m, \u001b[32m\"Mexico\"\u001b[39m),\n",
       "    (\u001b[32m\"Moscow\"\u001b[39m, \u001b[32m\"Russian Federation\"\u001b[39m)\n",
       "  ),\n",
       "  \u001b[32m598482371L\u001b[39m\n",
       ")"
      ]
     },
     "execution_count": 20,
     "metadata": {},
     "output_type": "execute_result"
    }
   ],
   "source": [
    "largeCapitalsStream(WorldS).compile\n",
    "    .toList\n",
    "    .transact(xa)\n",
    "    .unsafeRunSync\n",
    "    .timed"
   ]
  },
  {
   "cell_type": "markdown",
   "metadata": {},
   "source": [
    "BIG PROBLEM: query avalanche (although single connection)."
   ]
  },
  {
   "cell_type": "code",
   "execution_count": null,
   "metadata": {},
   "outputs": [],
   "source": []
  }
 ],
 "metadata": {
  "kernelspec": {
   "display_name": "Scala",
   "language": "scala",
   "name": "scala"
  },
  "language_info": {
   "codemirror_mode": "text/x-scala",
   "file_extension": ".scala",
   "mimetype": "text/x-scala",
   "name": "scala",
   "nbconvert_exporter": "script",
   "version": "2.13.0"
  }
 },
 "nbformat": 4,
 "nbformat_minor": 4
}
