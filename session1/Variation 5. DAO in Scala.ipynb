{
 "cells": [
  {
   "cell_type": "code",
   "execution_count": 1,
   "metadata": {},
   "outputs": [
    {
     "name": "stdout",
     "output_type": "stream",
     "text": [
      "Compiling /Users/jserrano/Documents/tagless-final-tutorial/session1/common.sc"
     ]
    },
    {
     "data": {
      "text/plain": [
       "\u001b[32mimport \u001b[39m\u001b[36m$file.$     \n",
       "\u001b[39m\n",
       "\u001b[32mimport \u001b[39m\u001b[36mcommon._\n",
       "\u001b[39m\n",
       "\u001b[32mimport \u001b[39m\u001b[36mdoobie._, doobie.implicits._\n",
       "\u001b[39m\n",
       "\u001b[32mimport \u001b[39m\u001b[36mcats._, cats.implicits._\n",
       "\u001b[39m\n",
       "\u001b[32mimport \u001b[39m\u001b[36mcats.effect.IO\n",
       "\u001b[39m\n",
       "\u001b[32mimport \u001b[39m\u001b[36mfs2.Stream\u001b[39m"
      ]
     },
     "execution_count": 1,
     "metadata": {},
     "output_type": "execute_result"
    }
   ],
   "source": [
    "import $file.common\n",
    "import common._\n",
    "import doobie._, doobie.implicits._\n",
    "import cats._, cats.implicits._\n",
    "import cats.effect.IO\n",
    "import fs2.Stream"
   ]
  },
  {
   "cell_type": "markdown",
   "metadata": {},
   "source": [
    "# Variation 5. DAO in Scala"
   ]
  },
  {
   "cell_type": "markdown",
   "metadata": {},
   "source": [
    "This is not DAO-based code. No interfaces for now."
   ]
  },
  {
   "cell_type": "markdown",
   "metadata": {},
   "source": [
    "Common case classes for DAO interfaces."
   ]
  },
  {
   "cell_type": "code",
   "execution_count": null,
   "metadata": {},
   "outputs": [],
   "source": [
    "case class Country(code: String, name: String, capital: Option[Int])\n",
    "case class City(id: Int, name: String, countryCode: String, population: Int)"
   ]
  },
  {
   "cell_type": "markdown",
   "metadata": {},
   "source": [
    "### IO"
   ]
  },
  {
   "cell_type": "code",
   "execution_count": null,
   "metadata": {},
   "outputs": [],
   "source": [
    "class CityQueriesIO(xa: Transactor[IO]){\n",
    "    def getCityName(id: Int): IO[Option[String]] = \n",
    "        sql\"select name from city where id = $id\"\n",
    "            .query[String].option.transact(xa)\n",
    "    \n",
    "    def getCityPopulation(id: Int): IO[Option[Int]] = \n",
    "        sql\"select population from city where id = $id\"\n",
    "            .query[Int].option.transact(xa)\n",
    "}\n",
    "\n",
    "object CityQueriesIO extends CityQueriesIO(xa)\n",
    "\n",
    "class CountryQueriesIO(xa: Transactor[IO]){\n",
    "    def getAllCountries: IO[List[Country]] = \n",
    "        sql\"select code, name, capital from country\"\n",
    "            .query[Country].to[List].transact(xa)\n",
    "    \n",
    "    def getCountryName(id: Int): IO[Option[String]] =\n",
    "        sql\"select name from country where id = $id\"\n",
    "            .query[String].option.transact(xa)\n",
    "    \n",
    "    def getCountryCapital(id: Int): IO[Option[Int]] =\n",
    "        sql\"select capital from country where id = $id\"\n",
    "            .query[Int].option.transact(xa)\n",
    "}\n",
    "\n",
    "object CountryQueriesIO extends CountryQueriesIO(xa)"
   ]
  },
  {
   "cell_type": "markdown",
   "metadata": {},
   "source": [
    "No filter for IO, can't write our query easily. TBD."
   ]
  },
  {
   "cell_type": "code",
   "execution_count": null,
   "metadata": {},
   "outputs": [],
   "source": [
    "val largeCapitalsIO: IO[List[Option[(String, String)]]] = for {\n",
    "    countries <- CountryQueriesIO.getAllCountries\n",
    "    result <- countries.traverse{\n",
    "        case Country(code,name,Some(capital)) => \n",
    "            CityQueriesIO.getCityName(capital).map(_.map((_, name)))\n",
    "        case _ => None.pure[IO]\n",
    "    }\n",
    "} yield result"
   ]
  },
  {
   "cell_type": "code",
   "execution_count": null,
   "metadata": {},
   "outputs": [],
   "source": [
    "largeCapitalsIO.unsafeRunSync.timed"
   ]
  },
  {
   "cell_type": "markdown",
   "metadata": {},
   "source": [
    "BIG BIG BIG PROBLEM: no filters AND query avalance AND multiple connections"
   ]
  },
  {
   "cell_type": "markdown",
   "metadata": {},
   "source": [
    "### `Stream[ConnectionIO, ?]`"
   ]
  },
  {
   "cell_type": "code",
   "execution_count": null,
   "metadata": {},
   "outputs": [],
   "source": [
    "object CityQueries{\n",
    "    def getCityName(id: Int): Stream[ConnectionIO, String] = \n",
    "        sql\"select name from city where id = $id\"\n",
    "            .query[String].stream\n",
    "    \n",
    "    def getCityPopulation(id: Int): Stream[ConnectionIO,Int] = \n",
    "        sql\"select population from city where id = $id\"\n",
    "            .query[Int].stream\n",
    "}\n",
    "\n",
    "object CountryQueries{\n",
    "    def getAllCountries: Stream[ConnectionIO, Country] = \n",
    "        sql\"select code, name, capital from country\"\n",
    "            .query[Country].stream\n",
    "    \n",
    "    def getCountryName(id: Int): Stream[ConnectionIO,String] =\n",
    "        sql\"select name from country where id = $id\"\n",
    "            .query[String].stream\n",
    "    \n",
    "    def getCountryCapital(id: Int): Stream[ConnectionIO, Int] =\n",
    "        sql\"select capital from country where id = $id\"\n",
    "            .query[Int].stream\n",
    "}\n",
    "\n",
    "import CityQueries._, CountryQueries._"
   ]
  },
  {
   "cell_type": "code",
   "execution_count": null,
   "metadata": {},
   "outputs": [],
   "source": [
    "val largeCapitals: Stream[ConnectionIO,(String, String)] = for {\n",
    "    Country(_, name, Some(capital)) <- getAllCountries\n",
    "    population <- getCityPopulation(capital)\n",
    "    if population > 8000000\n",
    "    cityName <- getCityName(capital)\n",
    "} yield (cityName, name)"
   ]
  },
  {
   "cell_type": "code",
   "execution_count": null,
   "metadata": {},
   "outputs": [],
   "source": [
    "largeCapitals.compile\n",
    "    .toList\n",
    "    .transact(xa)\n",
    "    .unsafeRunSync\n",
    "    .timed"
   ]
  },
  {
   "cell_type": "markdown",
   "metadata": {},
   "source": [
    "BIG PROBLEM: query avalanche (although single connection)."
   ]
  },
  {
   "cell_type": "code",
   "execution_count": null,
   "metadata": {},
   "outputs": [],
   "source": []
  }
 ],
 "metadata": {
  "kernelspec": {
   "display_name": "Scala",
   "language": "scala",
   "name": "scala"
  },
  "language_info": {
   "codemirror_mode": "text/x-scala",
   "file_extension": ".scala",
   "mimetype": "text/x-scala",
   "name": "scala",
   "nbconvert_exporter": "script",
   "version": "2.13.0"
  }
 },
 "nbformat": 4,
 "nbformat_minor": 2
}
