{
 "cells": [
  {
   "cell_type": "code",
   "execution_count": 15,
   "metadata": {},
   "outputs": [
    {
     "data": {
      "text/plain": [
       "\u001b[32mimport \u001b[39m\u001b[36m$file.$     \n",
       "\u001b[39m\n",
       "\u001b[32mimport \u001b[39m\u001b[36mcommon._\n",
       "\u001b[39m\n",
       "\u001b[32mimport \u001b[39m\u001b[36mdoobie._, doobie.implicits._\n",
       "\u001b[39m\n",
       "\u001b[32mimport \u001b[39m\u001b[36mcats._, cats.implicits._\n",
       "\u001b[39m\n",
       "\u001b[32mimport \u001b[39m\u001b[36mcats.effect.IO\n",
       "\u001b[39m\n",
       "\u001b[32mimport \u001b[39m\u001b[36mfs2.Stream\u001b[39m"
      ]
     },
     "execution_count": 15,
     "metadata": {},
     "output_type": "execute_result"
    }
   ],
   "source": [
    "import $file.common\n",
    "import common._\n",
    "import doobie._, doobie.implicits._\n",
    "import cats._, cats.implicits._\n",
    "import cats.effect.IO\n",
    "import fs2.Stream"
   ]
  },
  {
   "cell_type": "markdown",
   "metadata": {},
   "source": [
    "# Variation 5. DAO in Scala"
   ]
  },
  {
   "cell_type": "markdown",
   "metadata": {},
   "source": [
    "This is not DAO-based code. No interfaces for now."
   ]
  },
  {
   "cell_type": "markdown",
   "metadata": {},
   "source": [
    "Common case classes for DAO interfaces."
   ]
  },
  {
   "cell_type": "code",
   "execution_count": 16,
   "metadata": {},
   "outputs": [
    {
     "data": {
      "text/plain": [
       "defined \u001b[32mclass\u001b[39m \u001b[36mCountry\u001b[39m\n",
       "defined \u001b[32mclass\u001b[39m \u001b[36mCity\u001b[39m"
      ]
     },
     "execution_count": 16,
     "metadata": {},
     "output_type": "execute_result"
    }
   ],
   "source": [
    "case class Country(code: String, name: String, capital: Option[Int])\n",
    "case class City(id: Int, name: String, countryCode: String, population: Int)"
   ]
  },
  {
   "cell_type": "markdown",
   "metadata": {},
   "source": [
    "### IO"
   ]
  },
  {
   "cell_type": "code",
   "execution_count": 17,
   "metadata": {},
   "outputs": [
    {
     "data": {
      "text/plain": [
       "defined \u001b[32mclass\u001b[39m \u001b[36mCityQueriesIO\u001b[39m\n",
       "defined \u001b[32mobject\u001b[39m \u001b[36mCityQueriesIO\u001b[39m\n",
       "defined \u001b[32mclass\u001b[39m \u001b[36mCountryQueriesIO\u001b[39m\n",
       "defined \u001b[32mobject\u001b[39m \u001b[36mCountryQueriesIO\u001b[39m"
      ]
     },
     "execution_count": 17,
     "metadata": {},
     "output_type": "execute_result"
    }
   ],
   "source": [
    "class CityQueriesIO(xa: Transactor[IO]){\n",
    "    def getCityName(id: Int): IO[Option[String]] = \n",
    "        sql\"select name from city where id = $id\"\n",
    "            .query[String].option.transact(xa)\n",
    "    \n",
    "    def getCityPopulation(id: Int): IO[Option[Int]] = \n",
    "        sql\"select population from city where id = $id\"\n",
    "            .query[Int].option.transact(xa)\n",
    "}\n",
    "\n",
    "object CityQueriesIO extends CityQueriesIO(xa)\n",
    "\n",
    "class CountryQueriesIO(xa: Transactor[IO]){\n",
    "    def getAllCountries: IO[List[Country]] = \n",
    "        sql\"select code, name, capital from country\"\n",
    "            .query[Country].to[List].transact(xa)\n",
    "    \n",
    "    def getCountryName(id: Int): IO[Option[String]] =\n",
    "        sql\"select name from country where id = $id\"\n",
    "            .query[String].option.transact(xa)\n",
    "    \n",
    "    def getCountryCapital(id: Int): IO[Option[Int]] =\n",
    "        sql\"select capital from country where id = $id\"\n",
    "            .query[Int].option.transact(xa)\n",
    "}\n",
    "\n",
    "object CountryQueriesIO extends CountryQueriesIO(xa)"
   ]
  },
  {
   "cell_type": "markdown",
   "metadata": {},
   "source": [
    "No filter for IO, can't write our query easily. TBD."
   ]
  },
  {
   "cell_type": "code",
   "execution_count": 23,
   "metadata": {},
   "outputs": [
    {
     "data": {
      "text/plain": [
       "\u001b[36mlargeCapitalsIO\u001b[39m: \u001b[32mIO\u001b[39m[\u001b[32mList\u001b[39m[\u001b[32mOption\u001b[39m[(\u001b[32mString\u001b[39m, \u001b[32mString\u001b[39m)]]] = \u001b[33mBind\u001b[39m(\n",
       "  \u001b[33mAsync\u001b[39m(\n",
       "    cats.effect.internals.IOBracket$$$Lambda$3320/1660811820@4325d654,\n",
       "    false\n",
       "  ),\n",
       "  ammonite.$sess.cmd22$Helper$$Lambda$3694/2028445427@659913ca\n",
       ")"
      ]
     },
     "execution_count": 23,
     "metadata": {},
     "output_type": "execute_result"
    }
   ],
   "source": [
    "val largeCapitalsIO: IO[List[Option[(String, String)]]] = for {\n",
    "    countries <- CountryQueriesIO.getAllCountries\n",
    "    result <- countries.traverse{\n",
    "        case Country(code,name,Some(capital)) => \n",
    "            CityQueriesIO.getCityName(capital).map(_.map((_, name)))\n",
    "        case _ => None.pure[IO]\n",
    "    }\n",
    "} yield result"
   ]
  },
  {
   "cell_type": "code",
   "execution_count": 24,
   "metadata": {},
   "outputs": [
    {
     "name": "stdout",
     "output_type": "stream",
     "text": [
      "3016 millis\n"
     ]
    },
    {
     "data": {
      "text/plain": [
       "\u001b[36mres23\u001b[39m: \u001b[32mList\u001b[39m[\u001b[32mOption\u001b[39m[(\u001b[32mString\u001b[39m, \u001b[32mString\u001b[39m)]] = \u001b[33mList\u001b[39m(\n",
       "  \u001b[33mSome\u001b[39m((\u001b[32m\"Kabul\"\u001b[39m, \u001b[32m\"Afghanistan\"\u001b[39m)),\n",
       "  \u001b[33mSome\u001b[39m((\u001b[32m\"Amsterdam\"\u001b[39m, \u001b[32m\"Netherlands\"\u001b[39m)),\n",
       "  \u001b[33mSome\u001b[39m((\u001b[32m\"Willemstad\"\u001b[39m, \u001b[32m\"Netherlands Antilles\"\u001b[39m)),\n",
       "  \u001b[33mSome\u001b[39m((\u001b[32m\"Tirana\"\u001b[39m, \u001b[32m\"Albania\"\u001b[39m)),\n",
       "  \u001b[33mSome\u001b[39m((\u001b[32m\"Alger\"\u001b[39m, \u001b[32m\"Algeria\"\u001b[39m)),\n",
       "  \u001b[33mSome\u001b[39m((\u001b[32m\"Fagatogo\"\u001b[39m, \u001b[32m\"American Samoa\"\u001b[39m)),\n",
       "  \u001b[33mSome\u001b[39m((\u001b[32m\"Andorra la Vella\"\u001b[39m, \u001b[32m\"Andorra\"\u001b[39m)),\n",
       "  \u001b[33mSome\u001b[39m((\u001b[32m\"Luanda\"\u001b[39m, \u001b[32m\"Angola\"\u001b[39m)),\n",
       "  \u001b[33mSome\u001b[39m((\u001b[32m\"The Valley\"\u001b[39m, \u001b[32m\"Anguilla\"\u001b[39m)),\n",
       "  \u001b[33mSome\u001b[39m((\u001b[32m\"Saint John\\u00b4s\"\u001b[39m, \u001b[32m\"Antigua and Barbuda\"\u001b[39m)),\n",
       "  \u001b[33mSome\u001b[39m((\u001b[32m\"Abu Dhabi\"\u001b[39m, \u001b[32m\"United Arab Emirates\"\u001b[39m)),\n",
       "  \u001b[33mSome\u001b[39m((\u001b[32m\"Buenos Aires\"\u001b[39m, \u001b[32m\"Argentina\"\u001b[39m)),\n",
       "  \u001b[33mSome\u001b[39m((\u001b[32m\"Yerevan\"\u001b[39m, \u001b[32m\"Armenia\"\u001b[39m)),\n",
       "  \u001b[33mSome\u001b[39m((\u001b[32m\"Oranjestad\"\u001b[39m, \u001b[32m\"Aruba\"\u001b[39m)),\n",
       "  \u001b[33mSome\u001b[39m((\u001b[32m\"Canberra\"\u001b[39m, \u001b[32m\"Australia\"\u001b[39m)),\n",
       "  \u001b[33mSome\u001b[39m((\u001b[32m\"Baku\"\u001b[39m, \u001b[32m\"Azerbaijan\"\u001b[39m)),\n",
       "  \u001b[33mSome\u001b[39m((\u001b[32m\"Nassau\"\u001b[39m, \u001b[32m\"Bahamas\"\u001b[39m)),\n",
       "  \u001b[33mSome\u001b[39m((\u001b[32m\"al-Manama\"\u001b[39m, \u001b[32m\"Bahrain\"\u001b[39m)),\n",
       "  \u001b[33mSome\u001b[39m((\u001b[32m\"Dhaka\"\u001b[39m, \u001b[32m\"Bangladesh\"\u001b[39m)),\n",
       "  \u001b[33mSome\u001b[39m((\u001b[32m\"Bridgetown\"\u001b[39m, \u001b[32m\"Barbados\"\u001b[39m)),\n",
       "  \u001b[33mSome\u001b[39m((\u001b[32m\"Bruxelles [Brussel]\"\u001b[39m, \u001b[32m\"Belgium\"\u001b[39m)),\n",
       "  \u001b[33mSome\u001b[39m((\u001b[32m\"Belmopan\"\u001b[39m, \u001b[32m\"Belize\"\u001b[39m)),\n",
       "  \u001b[33mSome\u001b[39m((\u001b[32m\"Porto-Novo\"\u001b[39m, \u001b[32m\"Benin\"\u001b[39m)),\n",
       "  \u001b[33mSome\u001b[39m((\u001b[32m\"Hamilton\"\u001b[39m, \u001b[32m\"Bermuda\"\u001b[39m)),\n",
       "  \u001b[33mSome\u001b[39m((\u001b[32m\"Thimphu\"\u001b[39m, \u001b[32m\"Bhutan\"\u001b[39m)),\n",
       "  \u001b[33mSome\u001b[39m((\u001b[32m\"La Paz\"\u001b[39m, \u001b[32m\"Bolivia\"\u001b[39m)),\n",
       "  \u001b[33mSome\u001b[39m((\u001b[32m\"Sarajevo\"\u001b[39m, \u001b[32m\"Bosnia and Herzegovina\"\u001b[39m)),\n",
       "  \u001b[33mSome\u001b[39m((\u001b[32m\"Gaborone\"\u001b[39m, \u001b[32m\"Botswana\"\u001b[39m)),\n",
       "  \u001b[33mSome\u001b[39m((\u001b[32m\"Bras\\u00edlia\"\u001b[39m, \u001b[32m\"Brazil\"\u001b[39m)),\n",
       "  \u001b[33mSome\u001b[39m((\u001b[32m\"London\"\u001b[39m, \u001b[32m\"United Kingdom\"\u001b[39m)),\n",
       "  \u001b[33mSome\u001b[39m((\u001b[32m\"Road Town\"\u001b[39m, \u001b[32m\"Virgin Islands, British\"\u001b[39m)),\n",
       "  \u001b[33mSome\u001b[39m((\u001b[32m\"Bandar Seri Begawan\"\u001b[39m, \u001b[32m\"Brunei\"\u001b[39m)),\n",
       "  \u001b[33mSome\u001b[39m((\u001b[32m\"Sofija\"\u001b[39m, \u001b[32m\"Bulgaria\"\u001b[39m)),\n",
       "  \u001b[33mSome\u001b[39m((\u001b[32m\"Ouagadougou\"\u001b[39m, \u001b[32m\"Burkina Faso\"\u001b[39m)),\n",
       "  \u001b[33mSome\u001b[39m((\u001b[32m\"Bujumbura\"\u001b[39m, \u001b[32m\"Burundi\"\u001b[39m)),\n",
       "  \u001b[33mSome\u001b[39m((\u001b[32m\"George Town\"\u001b[39m, \u001b[32m\"Cayman Islands\"\u001b[39m)),\n",
       "  \u001b[33mSome\u001b[39m((\u001b[32m\"Santiago de Chile\"\u001b[39m, \u001b[32m\"Chile\"\u001b[39m)),\n",
       "  \u001b[33mSome\u001b[39m((\u001b[32m\"Avarua\"\u001b[39m, \u001b[32m\"Cook Islands\"\u001b[39m)),\n",
       "..."
      ]
     },
     "execution_count": 24,
     "metadata": {},
     "output_type": "execute_result"
    }
   ],
   "source": [
    "largeCapitalsIO.unsafeRunSync.timed"
   ]
  },
  {
   "cell_type": "markdown",
   "metadata": {},
   "source": [
    "BIG BIG BIG PROBLEM: no filters AND query avalance AND multiple connections"
   ]
  },
  {
   "cell_type": "markdown",
   "metadata": {},
   "source": [
    "### `Stream[ConnectionIO, ?]`"
   ]
  },
  {
   "cell_type": "code",
   "execution_count": 25,
   "metadata": {},
   "outputs": [
    {
     "data": {
      "text/plain": [
       "defined \u001b[32mobject\u001b[39m \u001b[36mCityQueries\u001b[39m\n",
       "defined \u001b[32mobject\u001b[39m \u001b[36mCountryQueries\u001b[39m\n",
       "\u001b[32mimport \u001b[39m\u001b[36mCityQueries._, CountryQueries._\u001b[39m"
      ]
     },
     "execution_count": 25,
     "metadata": {},
     "output_type": "execute_result"
    }
   ],
   "source": [
    "object CityQueries{\n",
    "    def getCityName(id: Int): Stream[ConnectionIO, String] = \n",
    "        sql\"select name from city where id = $id\"\n",
    "            .query[String].stream\n",
    "    \n",
    "    def getCityPopulation(id: Int): Stream[ConnectionIO,Int] = \n",
    "        sql\"select population from city where id = $id\"\n",
    "            .query[Int].stream\n",
    "}\n",
    "\n",
    "object CountryQueries{\n",
    "    def getAllCountries: Stream[ConnectionIO, Country] = \n",
    "        sql\"select code, name, capital from country\"\n",
    "            .query[Country].stream\n",
    "    \n",
    "    def getCountryName(id: Int): Stream[ConnectionIO,String] =\n",
    "        sql\"select name from country where id = $id\"\n",
    "            .query[String].stream\n",
    "    \n",
    "    def getCountryCapital(id: Int): Stream[ConnectionIO, Int] =\n",
    "        sql\"select capital from country where id = $id\"\n",
    "            .query[Int].stream\n",
    "}\n",
    "\n",
    "import CityQueries._, CountryQueries._"
   ]
  },
  {
   "cell_type": "code",
   "execution_count": 26,
   "metadata": {},
   "outputs": [
    {
     "data": {
      "text/plain": [
       "\u001b[36mlargeCapitals\u001b[39m: \u001b[32mStream\u001b[39m[\u001b[32mConnectionIO\u001b[39m, (\u001b[32mString\u001b[39m, \u001b[32mString\u001b[39m)] = Stream(..)"
      ]
     },
     "execution_count": 26,
     "metadata": {},
     "output_type": "execute_result"
    }
   ],
   "source": [
    "val largeCapitals: Stream[ConnectionIO,(String, String)] = for {\n",
    "    Country(_, name, Some(capital)) <- getAllCountries\n",
    "    population <- getCityPopulation(capital)\n",
    "    if population > 8000000\n",
    "    cityName <- getCityName(capital)\n",
    "} yield (cityName, name)"
   ]
  },
  {
   "cell_type": "code",
   "execution_count": 27,
   "metadata": {},
   "outputs": [
    {
     "name": "stdout",
     "output_type": "stream",
     "text": [
      "736 millis\n"
     ]
    },
    {
     "data": {
      "text/plain": [
       "\u001b[36mres26\u001b[39m: \u001b[32mList\u001b[39m[(\u001b[32mString\u001b[39m, \u001b[32mString\u001b[39m)] = \u001b[33mList\u001b[39m(\n",
       "  (\u001b[32m\"Jakarta\"\u001b[39m, \u001b[32m\"Indonesia\"\u001b[39m),\n",
       "  (\u001b[32m\"Seoul\"\u001b[39m, \u001b[32m\"South Korea\"\u001b[39m),\n",
       "  (\u001b[32m\"Ciudad de M\\u00e9xico\"\u001b[39m, \u001b[32m\"Mexico\"\u001b[39m),\n",
       "  (\u001b[32m\"Moscow\"\u001b[39m, \u001b[32m\"Russian Federation\"\u001b[39m)\n",
       ")"
      ]
     },
     "execution_count": 27,
     "metadata": {},
     "output_type": "execute_result"
    }
   ],
   "source": [
    "largeCapitals.compile\n",
    "    .toList\n",
    "    .transact(xa)\n",
    "    .unsafeRunSync\n",
    "    .timed"
   ]
  },
  {
   "cell_type": "markdown",
   "metadata": {},
   "source": [
    "BIG PROBLEM: query avalanche (although single connection)."
   ]
  },
  {
   "cell_type": "code",
   "execution_count": null,
   "metadata": {},
   "outputs": [],
   "source": []
  }
 ],
 "metadata": {
  "kernelspec": {
   "display_name": "Scala",
   "language": "scala",
   "name": "scala"
  },
  "language_info": {
   "codemirror_mode": "text/x-scala",
   "file_extension": ".scala",
   "mimetype": "text/x-scala",
   "name": "scala",
   "nbconvert_exporter": "script",
   "version": "2.13.0"
  }
 },
 "nbformat": 4,
 "nbformat_minor": 2
}
