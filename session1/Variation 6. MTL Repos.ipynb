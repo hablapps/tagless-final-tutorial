{
 "cells": [
  {
   "cell_type": "code",
   "execution_count": 13,
   "metadata": {},
   "outputs": [
    {
     "data": {
      "text/plain": [
       "\u001b[32mimport \u001b[39m\u001b[36m$file.$     \n",
       "\u001b[39m\n",
       "\u001b[32mimport \u001b[39m\u001b[36mcommon._\n",
       "\u001b[39m\n",
       "\u001b[32mimport \u001b[39m\u001b[36mcats._, cats.implicits._, cats.data._\n",
       "\u001b[39m\n",
       "\u001b[32mimport \u001b[39m\u001b[36mfs2.Stream\n",
       "\u001b[39m\n",
       "\u001b[32mimport \u001b[39m\u001b[36mdoobie._, doobie.implicits._\u001b[39m"
      ]
     },
     "execution_count": 13,
     "metadata": {},
     "output_type": "execute_result"
    }
   ],
   "source": [
    "import $file.common\n",
    "import common._\n",
    "import cats._, cats.implicits._, cats.data._\n",
    "import fs2.Stream\n",
    "import doobie._, doobie.implicits._"
   ]
  },
  {
   "cell_type": "markdown",
   "metadata": {},
   "source": [
    "# Variation 6. MTL Repositories"
   ]
  },
  {
   "cell_type": "markdown",
   "metadata": {},
   "source": [
    "Same case classes."
   ]
  },
  {
   "cell_type": "code",
   "execution_count": 14,
   "metadata": {},
   "outputs": [
    {
     "data": {
      "text/plain": [
       "defined \u001b[32mclass\u001b[39m \u001b[36mCountry\u001b[39m\n",
       "defined \u001b[32mclass\u001b[39m \u001b[36mCity\u001b[39m"
      ]
     },
     "execution_count": 14,
     "metadata": {},
     "output_type": "execute_result"
    }
   ],
   "source": [
    "case class Country(code: String, name: String, capital: Option[Int])\n",
    "case class City(id: Int, name: String, countryCode: String, population: Int)"
   ]
  },
  {
   "cell_type": "markdown",
   "metadata": {},
   "source": [
    "Abstract the particular computation away."
   ]
  },
  {
   "cell_type": "code",
   "execution_count": 15,
   "metadata": {},
   "outputs": [
    {
     "data": {
      "text/plain": [
       "defined \u001b[32mtrait\u001b[39m \u001b[36mCityAlg\u001b[39m\n",
       "defined \u001b[32mtrait\u001b[39m \u001b[36mCountryAlg\u001b[39m"
      ]
     },
     "execution_count": 15,
     "metadata": {},
     "output_type": "execute_result"
    }
   ],
   "source": [
    "trait CityAlg[F[_]]{\n",
    "    def getCityName(id: Int): F[String]\n",
    "    def getCityPopulation(id: Int): F[Int]\n",
    "}\n",
    "\n",
    "trait CountryAlg[F[_]]{\n",
    "    def getAllCountries: F[Country]\n",
    "    def getCountryName(code: String): F[String]\n",
    "    def getCountryCapital(code: String): F[Int]\n",
    "}"
   ]
  },
  {
   "cell_type": "markdown",
   "metadata": {},
   "source": [
    "Query builds upon domain repositories and standard algebras for imperative programming (i.e. Monad, etc.):"
   ]
  },
  {
   "cell_type": "code",
   "execution_count": 16,
   "metadata": {},
   "outputs": [
    {
     "data": {
      "text/plain": [
       "defined \u001b[32mfunction\u001b[39m \u001b[36mlargeCapitals\u001b[39m"
      ]
     },
     "execution_count": 16,
     "metadata": {},
     "output_type": "execute_result"
    }
   ],
   "source": [
    "def largeCapitals[F[_]: Monad: FunctorFilter](implicit \n",
    "        Co: CountryAlg[F], Ci: CityAlg[F]): F[(String, String)] = for {\n",
    "    Country(_, name, Some(capital)) <- Co.getAllCountries\n",
    "    population <- Ci.getCityPopulation(capital)\n",
    "    if population > 8000000\n",
    "    cityName <- Ci.getCityName(capital)\n",
    "} yield (cityName, name)"
   ]
  },
  {
   "cell_type": "markdown",
   "metadata": {},
   "source": [
    "### Doobie implementation (streaming)"
   ]
  },
  {
   "cell_type": "code",
   "execution_count": 17,
   "metadata": {},
   "outputs": [
    {
     "data": {
      "text/plain": [
       "defined \u001b[32mobject\u001b[39m \u001b[36mCityAlgS3\u001b[39m\n",
       "defined \u001b[32mobject\u001b[39m \u001b[36mCountryAlgS3\u001b[39m"
      ]
     },
     "execution_count": 17,
     "metadata": {},
     "output_type": "execute_result"
    }
   ],
   "source": [
    "implicit object CityAlgS3 extends CityAlg[λ[T => Stream[ConnectionIO, T]]]{\n",
    "    def getCityName(id: Int): Stream[ConnectionIO, String] = \n",
    "        sql\"select name from city where id = $id\"\n",
    "            .query[String].stream\n",
    "    \n",
    "    def getCityPopulation(id: Int): Stream[ConnectionIO,Int] = \n",
    "        sql\"select population from city where id = $id\"\n",
    "            .query[Int].stream\n",
    "}\n",
    "\n",
    "implicit object CountryAlgS3 extends CountryAlg[λ[T => Stream[ConnectionIO, T]]]{\n",
    "    def getAllCountries: Stream[ConnectionIO, Country] = \n",
    "        sql\"select code, name, capital from country\"\n",
    "            .query[Country].stream\n",
    "    \n",
    "    def getCountryName(code: String): Stream[ConnectionIO,String] =\n",
    "        sql\"select name from country where id = $code\"\n",
    "            .query[String].stream\n",
    "    \n",
    "    def getCountryCapital(code: String): Stream[ConnectionIO, Int] =\n",
    "        sql\"select capital from country where id = $code\"\n",
    "            .query[Int].stream\n",
    "}"
   ]
  },
  {
   "cell_type": "code",
   "execution_count": 18,
   "metadata": {},
   "outputs": [
    {
     "name": "stdout",
     "output_type": "stream",
     "text": [
      "502 millis\n"
     ]
    },
    {
     "data": {
      "text/plain": [
       "\u001b[36mres17\u001b[39m: \u001b[32mList\u001b[39m[(\u001b[32mString\u001b[39m, \u001b[32mString\u001b[39m)] = \u001b[33mList\u001b[39m(\n",
       "  (\u001b[32m\"Jakarta\"\u001b[39m, \u001b[32m\"Indonesia\"\u001b[39m),\n",
       "  (\u001b[32m\"Seoul\"\u001b[39m, \u001b[32m\"South Korea\"\u001b[39m),\n",
       "  (\u001b[32m\"Ciudad de M\\u00e9xico\"\u001b[39m, \u001b[32m\"Mexico\"\u001b[39m),\n",
       "  (\u001b[32m\"Moscow\"\u001b[39m, \u001b[32m\"Russian Federation\"\u001b[39m)\n",
       ")"
      ]
     },
     "execution_count": 18,
     "metadata": {},
     "output_type": "execute_result"
    }
   ],
   "source": [
    "largeCapitals[λ[T => Stream[ConnectionIO, T]]].compile\n",
    "    .toList\n",
    "    .transact(xa)\n",
    "    .unsafeRunSync\n",
    "    .timed"
   ]
  },
  {
   "cell_type": "markdown",
   "metadata": {},
   "source": [
    "### Pure model with StateT"
   ]
  },
  {
   "cell_type": "code",
   "execution_count": 19,
   "metadata": {},
   "outputs": [
    {
     "data": {
      "text/plain": [
       "defined \u001b[32mclass\u001b[39m \u001b[36mWorld\u001b[39m"
      ]
     },
     "execution_count": 19,
     "metadata": {},
     "output_type": "execute_result"
    }
   ],
   "source": [
    "case class World(countries: Map[String, Country], cities: Map[Int, City])"
   ]
  },
  {
   "cell_type": "code",
   "execution_count": 20,
   "metadata": {},
   "outputs": [
    {
     "data": {
      "text/plain": [
       "defined \u001b[32mtype\u001b[39m \u001b[36mWorldState\u001b[39m\n",
       "defined \u001b[32mobject\u001b[39m \u001b[36mCityWorldState\u001b[39m\n",
       "defined \u001b[32mobject\u001b[39m \u001b[36mCountryWorldState\u001b[39m"
      ]
     },
     "execution_count": 20,
     "metadata": {},
     "output_type": "execute_result"
    }
   ],
   "source": [
    "type WorldState[T] = State[World, List[T]]\n",
    "\n",
    "implicit object CityWorldState extends CityAlg[WorldState]{\n",
    "    def getCityName(id: Int): WorldState[String] = \n",
    "        StateT(world => Eval.now(world, \n",
    "             world.cities.get(id).map(city => city.name).toList))\n",
    "    \n",
    "    def getCityPopulation(id: Int): WorldState[Int] = \n",
    "        StateT(world => Eval.now(world, \n",
    "             world.cities.get(id).map(city => city.population).toList))\n",
    "}\n",
    "\n",
    "implicit object CountryWorldState extends CountryAlg[WorldState]{\n",
    "    def getAllCountries: WorldState[Country] = \n",
    "        StateT(world => Eval.now(world, \n",
    "            world.countries.values.toList))\n",
    "\n",
    "    def getCountryName(code: String): WorldState[String] =\n",
    "        StateT(world => Eval.now(world, \n",
    "             world.countries.get(code).map(country => country.name).toList))\n",
    "    \n",
    "    def getCountryCapital(code: String): WorldState[Int] =\n",
    "        StateT(world => Eval.now(world, \n",
    "             world.countries.get(code).flatMap(country => country.capital).toList))\n",
    "}"
   ]
  },
  {
   "cell_type": "code",
   "execution_count": 21,
   "metadata": {},
   "outputs": [
    {
     "data": {
      "text/plain": [
       "\u001b[36mworld\u001b[39m: \u001b[32mWorld\u001b[39m = \u001b[33mWorld\u001b[39m(\n",
       "  \u001b[33mMap\u001b[39m(\n",
       "    \u001b[32m\"ES\"\u001b[39m -> \u001b[33mCountry\u001b[39m(\u001b[32m\"ES\"\u001b[39m, \u001b[32m\"Spain\"\u001b[39m, \u001b[33mSome\u001b[39m(\u001b[32m0\u001b[39m)),\n",
       "    \u001b[32m\"USA\"\u001b[39m -> \u001b[33mCountry\u001b[39m(\u001b[32m\"USA\"\u001b[39m, \u001b[32m\"United States\"\u001b[39m, \u001b[33mSome\u001b[39m(\u001b[32m1\u001b[39m)),\n",
       "    \u001b[32m\"UK\"\u001b[39m -> \u001b[33mCountry\u001b[39m(\u001b[32m\"UK\"\u001b[39m, \u001b[32m\"United Kingdom\"\u001b[39m, \u001b[33mSome\u001b[39m(\u001b[32m2\u001b[39m)),\n",
       "    \u001b[32m\"UNK\"\u001b[39m -> \u001b[33mCountry\u001b[39m(\u001b[32m\"UNK\"\u001b[39m, \u001b[32m\"Unknown\"\u001b[39m, \u001b[32mNone\u001b[39m)\n",
       "  ),\n",
       "  \u001b[33mMap\u001b[39m(\n",
       "    \u001b[32m0\u001b[39m -> \u001b[33mCity\u001b[39m(\u001b[32m0\u001b[39m, \u001b[32m\"Madrid\"\u001b[39m, \u001b[32m\"ES\"\u001b[39m, \u001b[32m9000000\u001b[39m),\n",
       "    \u001b[32m1\u001b[39m -> \u001b[33mCity\u001b[39m(\u001b[32m1\u001b[39m, \u001b[32m\"Washington\"\u001b[39m, \u001b[32m\"USA\"\u001b[39m, \u001b[32m10000000\u001b[39m),\n",
       "    \u001b[32m2\u001b[39m -> \u001b[33mCity\u001b[39m(\u001b[32m2\u001b[39m, \u001b[32m\"London\"\u001b[39m, \u001b[32m\"UK\"\u001b[39m, \u001b[32m500000\u001b[39m)\n",
       "  )\n",
       ")"
      ]
     },
     "execution_count": 21,
     "metadata": {},
     "output_type": "execute_result"
    }
   ],
   "source": [
    "val world: World =         \n",
    "    World(Map(\"ES\" -> Country(\"ES\",\"Spain\",Some(0)),\n",
    "            \"USA\" -> Country(\"USA\", \"United States\", Some(1)),\n",
    "            \"UK\" -> Country(\"UK\", \"United Kingdom\", Some(2)),\n",
    "            \"UNK\" -> Country(\"UNK\", \"Unknown\", None)),\n",
    "        Map(0->City(0,\"Madrid\",\"ES\",9000000),\n",
    "            1->City(1,\"Washington\", \"USA\", 10000000),\n",
    "            2->City(2,\"London\", \"UK\", 500000)))"
   ]
  },
  {
   "cell_type": "code",
   "execution_count": 22,
   "metadata": {},
   "outputs": [
    {
     "data": {
      "text/plain": [
       "\u001b[36mres21\u001b[39m: (\u001b[32mWorld\u001b[39m, \u001b[32mList\u001b[39m[(\u001b[32mString\u001b[39m, \u001b[32mString\u001b[39m)]) = (\n",
       "  \u001b[33mWorld\u001b[39m(\n",
       "    \u001b[33mMap\u001b[39m(\n",
       "      \u001b[32m\"ES\"\u001b[39m -> \u001b[33mCountry\u001b[39m(\u001b[32m\"ES\"\u001b[39m, \u001b[32m\"Spain\"\u001b[39m, \u001b[33mSome\u001b[39m(\u001b[32m0\u001b[39m)),\n",
       "      \u001b[32m\"USA\"\u001b[39m -> \u001b[33mCountry\u001b[39m(\u001b[32m\"USA\"\u001b[39m, \u001b[32m\"United States\"\u001b[39m, \u001b[33mSome\u001b[39m(\u001b[32m1\u001b[39m)),\n",
       "      \u001b[32m\"UK\"\u001b[39m -> \u001b[33mCountry\u001b[39m(\u001b[32m\"UK\"\u001b[39m, \u001b[32m\"United Kingdom\"\u001b[39m, \u001b[33mSome\u001b[39m(\u001b[32m2\u001b[39m)),\n",
       "      \u001b[32m\"UNK\"\u001b[39m -> \u001b[33mCountry\u001b[39m(\u001b[32m\"UNK\"\u001b[39m, \u001b[32m\"Unknown\"\u001b[39m, \u001b[32mNone\u001b[39m)\n",
       "    ),\n",
       "    \u001b[33mMap\u001b[39m(\n",
       "      \u001b[32m0\u001b[39m -> \u001b[33mCity\u001b[39m(\u001b[32m0\u001b[39m, \u001b[32m\"Madrid\"\u001b[39m, \u001b[32m\"ES\"\u001b[39m, \u001b[32m9000000\u001b[39m),\n",
       "      \u001b[32m1\u001b[39m -> \u001b[33mCity\u001b[39m(\u001b[32m1\u001b[39m, \u001b[32m\"Washington\"\u001b[39m, \u001b[32m\"USA\"\u001b[39m, \u001b[32m10000000\u001b[39m),\n",
       "      \u001b[32m2\u001b[39m -> \u001b[33mCity\u001b[39m(\u001b[32m2\u001b[39m, \u001b[32m\"London\"\u001b[39m, \u001b[32m\"UK\"\u001b[39m, \u001b[32m500000\u001b[39m)\n",
       "    )\n",
       "  ),\n",
       "  \u001b[33mList\u001b[39m((\u001b[32m\"Madrid\"\u001b[39m, \u001b[32m\"Spain\"\u001b[39m), (\u001b[32m\"Washington\"\u001b[39m, \u001b[32m\"United States\"\u001b[39m))\n",
       ")"
      ]
     },
     "execution_count": 22,
     "metadata": {},
     "output_type": "execute_result"
    }
   ],
   "source": [
    "largeCapitals[WorldState].run(world).value"
   ]
  },
  {
   "cell_type": "code",
   "execution_count": 23,
   "metadata": {},
   "outputs": [
    {
     "data": {
      "text/plain": [
       "\u001b[36mrealCountries\u001b[39m: \u001b[32mList\u001b[39m[\u001b[32mCountry\u001b[39m] = \u001b[33mList\u001b[39m(\n",
       "  \u001b[33mCountry\u001b[39m(\u001b[32m\"AFG\"\u001b[39m, \u001b[32m\"Afghanistan\"\u001b[39m, \u001b[33mSome\u001b[39m(\u001b[32m1\u001b[39m)),\n",
       "  \u001b[33mCountry\u001b[39m(\u001b[32m\"NLD\"\u001b[39m, \u001b[32m\"Netherlands\"\u001b[39m, \u001b[33mSome\u001b[39m(\u001b[32m5\u001b[39m)),\n",
       "  \u001b[33mCountry\u001b[39m(\u001b[32m\"ANT\"\u001b[39m, \u001b[32m\"Netherlands Antilles\"\u001b[39m, \u001b[33mSome\u001b[39m(\u001b[32m33\u001b[39m)),\n",
       "  \u001b[33mCountry\u001b[39m(\u001b[32m\"ALB\"\u001b[39m, \u001b[32m\"Albania\"\u001b[39m, \u001b[33mSome\u001b[39m(\u001b[32m34\u001b[39m)),\n",
       "  \u001b[33mCountry\u001b[39m(\u001b[32m\"DZA\"\u001b[39m, \u001b[32m\"Algeria\"\u001b[39m, \u001b[33mSome\u001b[39m(\u001b[32m35\u001b[39m)),\n",
       "  \u001b[33mCountry\u001b[39m(\u001b[32m\"ASM\"\u001b[39m, \u001b[32m\"American Samoa\"\u001b[39m, \u001b[33mSome\u001b[39m(\u001b[32m54\u001b[39m)),\n",
       "  \u001b[33mCountry\u001b[39m(\u001b[32m\"AND\"\u001b[39m, \u001b[32m\"Andorra\"\u001b[39m, \u001b[33mSome\u001b[39m(\u001b[32m55\u001b[39m)),\n",
       "  \u001b[33mCountry\u001b[39m(\u001b[32m\"AGO\"\u001b[39m, \u001b[32m\"Angola\"\u001b[39m, \u001b[33mSome\u001b[39m(\u001b[32m56\u001b[39m)),\n",
       "  \u001b[33mCountry\u001b[39m(\u001b[32m\"AIA\"\u001b[39m, \u001b[32m\"Anguilla\"\u001b[39m, \u001b[33mSome\u001b[39m(\u001b[32m62\u001b[39m)),\n",
       "  \u001b[33mCountry\u001b[39m(\u001b[32m\"ATG\"\u001b[39m, \u001b[32m\"Antigua and Barbuda\"\u001b[39m, \u001b[33mSome\u001b[39m(\u001b[32m63\u001b[39m)),\n",
       "  \u001b[33mCountry\u001b[39m(\u001b[32m\"ARE\"\u001b[39m, \u001b[32m\"United Arab Emirates\"\u001b[39m, \u001b[33mSome\u001b[39m(\u001b[32m65\u001b[39m)),\n",
       "  \u001b[33mCountry\u001b[39m(\u001b[32m\"ARG\"\u001b[39m, \u001b[32m\"Argentina\"\u001b[39m, \u001b[33mSome\u001b[39m(\u001b[32m69\u001b[39m)),\n",
       "  \u001b[33mCountry\u001b[39m(\u001b[32m\"ARM\"\u001b[39m, \u001b[32m\"Armenia\"\u001b[39m, \u001b[33mSome\u001b[39m(\u001b[32m126\u001b[39m)),\n",
       "  \u001b[33mCountry\u001b[39m(\u001b[32m\"ABW\"\u001b[39m, \u001b[32m\"Aruba\"\u001b[39m, \u001b[33mSome\u001b[39m(\u001b[32m129\u001b[39m)),\n",
       "  \u001b[33mCountry\u001b[39m(\u001b[32m\"AUS\"\u001b[39m, \u001b[32m\"Australia\"\u001b[39m, \u001b[33mSome\u001b[39m(\u001b[32m135\u001b[39m)),\n",
       "  \u001b[33mCountry\u001b[39m(\u001b[32m\"AZE\"\u001b[39m, \u001b[32m\"Azerbaijan\"\u001b[39m, \u001b[33mSome\u001b[39m(\u001b[32m144\u001b[39m)),\n",
       "  \u001b[33mCountry\u001b[39m(\u001b[32m\"BHS\"\u001b[39m, \u001b[32m\"Bahamas\"\u001b[39m, \u001b[33mSome\u001b[39m(\u001b[32m148\u001b[39m)),\n",
       "  \u001b[33mCountry\u001b[39m(\u001b[32m\"BHR\"\u001b[39m, \u001b[32m\"Bahrain\"\u001b[39m, \u001b[33mSome\u001b[39m(\u001b[32m149\u001b[39m)),\n",
       "  \u001b[33mCountry\u001b[39m(\u001b[32m\"BGD\"\u001b[39m, \u001b[32m\"Bangladesh\"\u001b[39m, \u001b[33mSome\u001b[39m(\u001b[32m150\u001b[39m)),\n",
       "  \u001b[33mCountry\u001b[39m(\u001b[32m\"BRB\"\u001b[39m, \u001b[32m\"Barbados\"\u001b[39m, \u001b[33mSome\u001b[39m(\u001b[32m174\u001b[39m)),\n",
       "  \u001b[33mCountry\u001b[39m(\u001b[32m\"BEL\"\u001b[39m, \u001b[32m\"Belgium\"\u001b[39m, \u001b[33mSome\u001b[39m(\u001b[32m179\u001b[39m)),\n",
       "  \u001b[33mCountry\u001b[39m(\u001b[32m\"BLZ\"\u001b[39m, \u001b[32m\"Belize\"\u001b[39m, \u001b[33mSome\u001b[39m(\u001b[32m185\u001b[39m)),\n",
       "  \u001b[33mCountry\u001b[39m(\u001b[32m\"BEN\"\u001b[39m, \u001b[32m\"Benin\"\u001b[39m, \u001b[33mSome\u001b[39m(\u001b[32m187\u001b[39m)),\n",
       "  \u001b[33mCountry\u001b[39m(\u001b[32m\"BMU\"\u001b[39m, \u001b[32m\"Bermuda\"\u001b[39m, \u001b[33mSome\u001b[39m(\u001b[32m191\u001b[39m)),\n",
       "  \u001b[33mCountry\u001b[39m(\u001b[32m\"BTN\"\u001b[39m, \u001b[32m\"Bhutan\"\u001b[39m, \u001b[33mSome\u001b[39m(\u001b[32m192\u001b[39m)),\n",
       "  \u001b[33mCountry\u001b[39m(\u001b[32m\"BOL\"\u001b[39m, \u001b[32m\"Bolivia\"\u001b[39m, \u001b[33mSome\u001b[39m(\u001b[32m194\u001b[39m)),\n",
       "  \u001b[33mCountry\u001b[39m(\u001b[32m\"BIH\"\u001b[39m, \u001b[32m\"Bosnia and Herzegovina\"\u001b[39m, \u001b[33mSome\u001b[39m(\u001b[32m201\u001b[39m)),\n",
       "  \u001b[33mCountry\u001b[39m(\u001b[32m\"BWA\"\u001b[39m, \u001b[32m\"Botswana\"\u001b[39m, \u001b[33mSome\u001b[39m(\u001b[32m204\u001b[39m)),\n",
       "  \u001b[33mCountry\u001b[39m(\u001b[32m\"BRA\"\u001b[39m, \u001b[32m\"Brazil\"\u001b[39m, \u001b[33mSome\u001b[39m(\u001b[32m211\u001b[39m)),\n",
       "  \u001b[33mCountry\u001b[39m(\u001b[32m\"GBR\"\u001b[39m, \u001b[32m\"United Kingdom\"\u001b[39m, \u001b[33mSome\u001b[39m(\u001b[32m456\u001b[39m)),\n",
       "  \u001b[33mCountry\u001b[39m(\u001b[32m\"VGB\"\u001b[39m, \u001b[32m\"Virgin Islands, British\"\u001b[39m, \u001b[33mSome\u001b[39m(\u001b[32m537\u001b[39m)),\n",
       "  \u001b[33mCountry\u001b[39m(\u001b[32m\"BRN\"\u001b[39m, \u001b[32m\"Brunei\"\u001b[39m, \u001b[33mSome\u001b[39m(\u001b[32m538\u001b[39m)),\n",
       "  \u001b[33mCountry\u001b[39m(\u001b[32m\"BGR\"\u001b[39m, \u001b[32m\"Bulgaria\"\u001b[39m, \u001b[33mSome\u001b[39m(\u001b[32m539\u001b[39m)),\n",
       "  \u001b[33mCountry\u001b[39m(\u001b[32m\"BFA\"\u001b[39m, \u001b[32m\"Burkina Faso\"\u001b[39m, \u001b[33mSome\u001b[39m(\u001b[32m549\u001b[39m)),\n",
       "  \u001b[33mCountry\u001b[39m(\u001b[32m\"BDI\"\u001b[39m, \u001b[32m\"Burundi\"\u001b[39m, \u001b[33mSome\u001b[39m(\u001b[32m552\u001b[39m)),\n",
       "  \u001b[33mCountry\u001b[39m(\u001b[32m\"CYM\"\u001b[39m, \u001b[32m\"Cayman Islands\"\u001b[39m, \u001b[33mSome\u001b[39m(\u001b[32m553\u001b[39m)),\n",
       "  \u001b[33mCountry\u001b[39m(\u001b[32m\"CHL\"\u001b[39m, \u001b[32m\"Chile\"\u001b[39m, \u001b[33mSome\u001b[39m(\u001b[32m554\u001b[39m)),\n",
       "  \u001b[33mCountry\u001b[39m(\u001b[32m\"COK\"\u001b[39m, \u001b[32m\"Cook Islands\"\u001b[39m, \u001b[33mSome\u001b[39m(\u001b[32m583\u001b[39m)),\n",
       "...\n",
       "\u001b[36mrealCities\u001b[39m: \u001b[32mList\u001b[39m[\u001b[32mCity\u001b[39m] = \u001b[33mList\u001b[39m(\n",
       "  \u001b[33mCity\u001b[39m(\u001b[32m1\u001b[39m, \u001b[32m\"Kabul\"\u001b[39m, \u001b[32m\"AFG\"\u001b[39m, \u001b[32m1780000\u001b[39m),\n",
       "  \u001b[33mCity\u001b[39m(\u001b[32m2\u001b[39m, \u001b[32m\"Qandahar\"\u001b[39m, \u001b[32m\"AFG\"\u001b[39m, \u001b[32m237500\u001b[39m),\n",
       "  \u001b[33mCity\u001b[39m(\u001b[32m3\u001b[39m, \u001b[32m\"Herat\"\u001b[39m, \u001b[32m\"AFG\"\u001b[39m, \u001b[32m186800\u001b[39m),\n",
       "  \u001b[33mCity\u001b[39m(\u001b[32m4\u001b[39m, \u001b[32m\"Mazar-e-Sharif\"\u001b[39m, \u001b[32m\"AFG\"\u001b[39m, \u001b[32m127800\u001b[39m),\n",
       "  \u001b[33mCity\u001b[39m(\u001b[32m5\u001b[39m, \u001b[32m\"Amsterdam\"\u001b[39m, \u001b[32m\"NLD\"\u001b[39m, \u001b[32m731200\u001b[39m),\n",
       "  \u001b[33mCity\u001b[39m(\u001b[32m6\u001b[39m, \u001b[32m\"Rotterdam\"\u001b[39m, \u001b[32m\"NLD\"\u001b[39m, \u001b[32m593321\u001b[39m),\n",
       "  \u001b[33mCity\u001b[39m(\u001b[32m7\u001b[39m, \u001b[32m\"Haag\"\u001b[39m, \u001b[32m\"NLD\"\u001b[39m, \u001b[32m440900\u001b[39m),\n",
       "  \u001b[33mCity\u001b[39m(\u001b[32m8\u001b[39m, \u001b[32m\"Utrecht\"\u001b[39m, \u001b[32m\"NLD\"\u001b[39m, \u001b[32m234323\u001b[39m),\n",
       "  \u001b[33mCity\u001b[39m(\u001b[32m9\u001b[39m, \u001b[32m\"Eindhoven\"\u001b[39m, \u001b[32m\"NLD\"\u001b[39m, \u001b[32m201843\u001b[39m),\n",
       "  \u001b[33mCity\u001b[39m(\u001b[32m10\u001b[39m, \u001b[32m\"Tilburg\"\u001b[39m, \u001b[32m\"NLD\"\u001b[39m, \u001b[32m193238\u001b[39m),\n",
       "  \u001b[33mCity\u001b[39m(\u001b[32m11\u001b[39m, \u001b[32m\"Groningen\"\u001b[39m, \u001b[32m\"NLD\"\u001b[39m, \u001b[32m172701\u001b[39m),\n",
       "  \u001b[33mCity\u001b[39m(\u001b[32m12\u001b[39m, \u001b[32m\"Breda\"\u001b[39m, \u001b[32m\"NLD\"\u001b[39m, \u001b[32m160398\u001b[39m),\n",
       "  \u001b[33mCity\u001b[39m(\u001b[32m13\u001b[39m, \u001b[32m\"Apeldoorn\"\u001b[39m, \u001b[32m\"NLD\"\u001b[39m, \u001b[32m153491\u001b[39m),\n",
       "  \u001b[33mCity\u001b[39m(\u001b[32m14\u001b[39m, \u001b[32m\"Nijmegen\"\u001b[39m, \u001b[32m\"NLD\"\u001b[39m, \u001b[32m152463\u001b[39m),\n",
       "  \u001b[33mCity\u001b[39m(\u001b[32m15\u001b[39m, \u001b[32m\"Enschede\"\u001b[39m, \u001b[32m\"NLD\"\u001b[39m, \u001b[32m149544\u001b[39m),\n",
       "  \u001b[33mCity\u001b[39m(\u001b[32m16\u001b[39m, \u001b[32m\"Haarlem\"\u001b[39m, \u001b[32m\"NLD\"\u001b[39m, \u001b[32m148772\u001b[39m),\n",
       "  \u001b[33mCity\u001b[39m(\u001b[32m17\u001b[39m, \u001b[32m\"Almere\"\u001b[39m, \u001b[32m\"NLD\"\u001b[39m, \u001b[32m142465\u001b[39m),\n",
       "  \u001b[33mCity\u001b[39m(\u001b[32m18\u001b[39m, \u001b[32m\"Arnhem\"\u001b[39m, \u001b[32m\"NLD\"\u001b[39m, \u001b[32m138020\u001b[39m),\n",
       "  \u001b[33mCity\u001b[39m(\u001b[32m19\u001b[39m, \u001b[32m\"Zaanstad\"\u001b[39m, \u001b[32m\"NLD\"\u001b[39m, \u001b[32m135621\u001b[39m),\n",
       "  \u001b[33mCity\u001b[39m(\u001b[32m20\u001b[39m, \u001b[32m\"\\u00b4s-Hertogenbosch\"\u001b[39m, \u001b[32m\"NLD\"\u001b[39m, \u001b[32m129170\u001b[39m),\n",
       "  \u001b[33mCity\u001b[39m(\u001b[32m21\u001b[39m, \u001b[32m\"Amersfoort\"\u001b[39m, \u001b[32m\"NLD\"\u001b[39m, \u001b[32m126270\u001b[39m),\n",
       "  \u001b[33mCity\u001b[39m(\u001b[32m22\u001b[39m, \u001b[32m\"Maastricht\"\u001b[39m, \u001b[32m\"NLD\"\u001b[39m, \u001b[32m122087\u001b[39m),\n",
       "  \u001b[33mCity\u001b[39m(\u001b[32m23\u001b[39m, \u001b[32m\"Dordrecht\"\u001b[39m, \u001b[32m\"NLD\"\u001b[39m, \u001b[32m119811\u001b[39m),\n",
       "  \u001b[33mCity\u001b[39m(\u001b[32m24\u001b[39m, \u001b[32m\"Leiden\"\u001b[39m, \u001b[32m\"NLD\"\u001b[39m, \u001b[32m117196\u001b[39m),\n",
       "  \u001b[33mCity\u001b[39m(\u001b[32m25\u001b[39m, \u001b[32m\"Haarlemmermeer\"\u001b[39m, \u001b[32m\"NLD\"\u001b[39m, \u001b[32m110722\u001b[39m),\n",
       "  \u001b[33mCity\u001b[39m(\u001b[32m26\u001b[39m, \u001b[32m\"Zoetermeer\"\u001b[39m, \u001b[32m\"NLD\"\u001b[39m, \u001b[32m110214\u001b[39m),\n",
       "  \u001b[33mCity\u001b[39m(\u001b[32m27\u001b[39m, \u001b[32m\"Emmen\"\u001b[39m, \u001b[32m\"NLD\"\u001b[39m, \u001b[32m105853\u001b[39m),\n",
       "  \u001b[33mCity\u001b[39m(\u001b[32m28\u001b[39m, \u001b[32m\"Zwolle\"\u001b[39m, \u001b[32m\"NLD\"\u001b[39m, \u001b[32m105819\u001b[39m),\n",
       "  \u001b[33mCity\u001b[39m(\u001b[32m29\u001b[39m, \u001b[32m\"Ede\"\u001b[39m, \u001b[32m\"NLD\"\u001b[39m, \u001b[32m101574\u001b[39m),\n",
       "  \u001b[33mCity\u001b[39m(\u001b[32m30\u001b[39m, \u001b[32m\"Delft\"\u001b[39m, \u001b[32m\"NLD\"\u001b[39m, \u001b[32m95268\u001b[39m),\n",
       "  \u001b[33mCity\u001b[39m(\u001b[32m31\u001b[39m, \u001b[32m\"Heerlen\"\u001b[39m, \u001b[32m\"NLD\"\u001b[39m, \u001b[32m95052\u001b[39m),\n",
       "  \u001b[33mCity\u001b[39m(\u001b[32m32\u001b[39m, \u001b[32m\"Alkmaar\"\u001b[39m, \u001b[32m\"NLD\"\u001b[39m, \u001b[32m92713\u001b[39m),\n",
       "  \u001b[33mCity\u001b[39m(\u001b[32m33\u001b[39m, \u001b[32m\"Willemstad\"\u001b[39m, \u001b[32m\"ANT\"\u001b[39m, \u001b[32m2345\u001b[39m),\n",
       "  \u001b[33mCity\u001b[39m(\u001b[32m34\u001b[39m, \u001b[32m\"Tirana\"\u001b[39m, \u001b[32m\"ALB\"\u001b[39m, \u001b[32m270000\u001b[39m),\n",
       "  \u001b[33mCity\u001b[39m(\u001b[32m35\u001b[39m, \u001b[32m\"Alger\"\u001b[39m, \u001b[32m\"DZA\"\u001b[39m, \u001b[32m2168000\u001b[39m),\n",
       "  \u001b[33mCity\u001b[39m(\u001b[32m36\u001b[39m, \u001b[32m\"Oran\"\u001b[39m, \u001b[32m\"DZA\"\u001b[39m, \u001b[32m609823\u001b[39m),\n",
       "  \u001b[33mCity\u001b[39m(\u001b[32m37\u001b[39m, \u001b[32m\"Constantine\"\u001b[39m, \u001b[32m\"DZA\"\u001b[39m, \u001b[32m443727\u001b[39m),\n",
       "  \u001b[33mCity\u001b[39m(\u001b[32m38\u001b[39m, \u001b[32m\"Annaba\"\u001b[39m, \u001b[32m\"DZA\"\u001b[39m, \u001b[32m222518\u001b[39m),\n",
       "...\n",
       "\u001b[36mrealMapCities\u001b[39m: \u001b[32mMap\u001b[39m[\u001b[32mInt\u001b[39m, \u001b[32mCity\u001b[39m] = \u001b[33mHashMap\u001b[39m(\n",
       "  \u001b[32m3927\u001b[39m -> \u001b[33mCity\u001b[39m(\u001b[32m3927\u001b[39m, \u001b[32m\"Salinas\"\u001b[39m, \u001b[32m\"USA\"\u001b[39m, \u001b[32m151060\u001b[39m),\n",
       "  \u001b[32m2163\u001b[39m -> \u001b[33mCity\u001b[39m(\u001b[32m2163\u001b[39m, \u001b[32m\"Wuwei\"\u001b[39m, \u001b[32m\"CHN\"\u001b[39m, \u001b[32m133101\u001b[39m),\n",
       "  \u001b[32m645\u001b[39m -> \u001b[33mCity\u001b[39m(\u001b[32m645\u001b[39m, \u001b[32m\"San Salvador\"\u001b[39m, \u001b[32m\"SLV\"\u001b[39m, \u001b[32m415346\u001b[39m),\n",
       "  \u001b[32m892\u001b[39m -> \u001b[33mCity\u001b[39m(\u001b[32m892\u001b[39m, \u001b[32m\"Capas\"\u001b[39m, \u001b[32m\"PHL\"\u001b[39m, \u001b[32m95219\u001b[39m),\n",
       "  \u001b[32m69\u001b[39m -> \u001b[33mCity\u001b[39m(\u001b[32m69\u001b[39m, \u001b[32m\"Buenos Aires\"\u001b[39m, \u001b[32m\"ARG\"\u001b[39m, \u001b[32m2982146\u001b[39m),\n",
       "  \u001b[32m2199\u001b[39m -> \u001b[33mCity\u001b[39m(\u001b[32m2199\u001b[39m, \u001b[32m\"Yuyao\"\u001b[39m, \u001b[32m\"CHN\"\u001b[39m, \u001b[32m114065\u001b[39m),\n",
       "  \u001b[32m3021\u001b[39m -> \u001b[33mCity\u001b[39m(\u001b[32m3021\u001b[39m, \u001b[32m\"Cluj-Napoca\"\u001b[39m, \u001b[32m\"ROM\"\u001b[39m, \u001b[32m332498\u001b[39m),\n",
       "  \u001b[32m1322\u001b[39m -> \u001b[33mCity\u001b[39m(\u001b[32m1322\u001b[39m, \u001b[32m\"Bhuj\"\u001b[39m, \u001b[32m\"IND\"\u001b[39m, \u001b[32m102176\u001b[39m),\n",
       "  \u001b[32m1665\u001b[39m -> \u001b[33mCity\u001b[39m(\u001b[32m1665\u001b[39m, \u001b[32m\"Kumagaya\"\u001b[39m, \u001b[32m\"JPN\"\u001b[39m, \u001b[32m157171\u001b[39m),\n",
       "  \u001b[32m1036\u001b[39m -> \u001b[33mCity\u001b[39m(\u001b[32m1036\u001b[39m, \u001b[32m\"Jaipur\"\u001b[39m, \u001b[32m\"IND\"\u001b[39m, \u001b[32m1458483\u001b[39m),\n",
       "  \u001b[32m2822\u001b[39m -> \u001b[33mCity\u001b[39m(\u001b[32m2822\u001b[39m, \u001b[32m\"Karachi\"\u001b[39m, \u001b[32m\"PAK\"\u001b[39m, \u001b[32m9269265\u001b[39m),\n",
       "  \u001b[32m2630\u001b[39m -> \u001b[33mCity\u001b[39m(\u001b[32m2630\u001b[39m, \u001b[32m\"Colima\"\u001b[39m, \u001b[32m\"MEX\"\u001b[39m, \u001b[32m129454\u001b[39m),\n",
       "  \u001b[32m3873\u001b[39m -> \u001b[33mCity\u001b[39m(\u001b[32m3873\u001b[39m, \u001b[32m\"Akron\"\u001b[39m, \u001b[32m\"USA\"\u001b[39m, \u001b[32m217074\u001b[39m),\n",
       "  \u001b[32m1586\u001b[39m -> \u001b[33mCity\u001b[39m(\u001b[32m1586\u001b[39m, \u001b[32m\"Takamatsu\"\u001b[39m, \u001b[32m\"JPN\"\u001b[39m, \u001b[32m332471\u001b[39m),\n",
       "  \u001b[32m1501\u001b[39m -> \u001b[33mCity\u001b[39m(\u001b[32m1501\u001b[39m, \u001b[32m\"Terni\"\u001b[39m, \u001b[32m\"ITA\"\u001b[39m, \u001b[32m107770\u001b[39m),\n",
       "  \u001b[32m2452\u001b[39m -> \u001b[33mCity\u001b[39m(\u001b[32m2452\u001b[39m, \u001b[32m\"Luxembourg [Luxemburg/L\\u00ebtzebuerg]\"\u001b[39m, \u001b[32m\"LUX\"\u001b[39m, \u001b[32m80700\u001b[39m),\n",
       "  \u001b[32m809\u001b[39m -> \u001b[33mCity\u001b[39m(\u001b[32m809\u001b[39m, \u001b[32m\"Imus\"\u001b[39m, \u001b[32m\"PHL\"\u001b[39m, \u001b[32m195482\u001b[39m),\n",
       "  \u001b[32m3962\u001b[39m -> \u001b[33mCity\u001b[39m(\u001b[32m3962\u001b[39m, \u001b[32m\"Grand Prairie\"\u001b[39m, \u001b[32m\"USA\"\u001b[39m, \u001b[32m127427\u001b[39m),\n",
       "  \u001b[32m1879\u001b[39m -> \u001b[33mCity\u001b[39m(\u001b[32m1879\u001b[39m, \u001b[32m\"Taldyqorghan\"\u001b[39m, \u001b[32m\"KAZ\"\u001b[39m, \u001b[32m98000\u001b[39m),\n",
       "  \u001b[32m1337\u001b[39m -> \u001b[33mCity\u001b[39m(\u001b[32m1337\u001b[39m, \u001b[32m\"Sasaram\"\u001b[39m, \u001b[32m\"IND\"\u001b[39m, \u001b[32m98220\u001b[39m),\n",
       "  \u001b[32m1718\u001b[39m -> \u001b[33mCity\u001b[39m(\u001b[32m1718\u001b[39m, \u001b[32m\"Higashihiroshima\"\u001b[39m, \u001b[32m\"JPN\"\u001b[39m, \u001b[32m119166\u001b[39m),\n",
       "  \u001b[32m2094\u001b[39m -> \u001b[33mCity\u001b[39m(\u001b[32m2094\u001b[39m, \u001b[32m\"Jiutai\"\u001b[39m, \u001b[32m\"CHN\"\u001b[39m, \u001b[32m180130\u001b[39m),\n",
       "  \u001b[32m3944\u001b[39m -> \u001b[33mCity\u001b[39m(\u001b[32m3944\u001b[39m, \u001b[32m\"Hayward\"\u001b[39m, \u001b[32m\"USA\"\u001b[39m, \u001b[32m140030\u001b[39m),\n",
       "  \u001b[32m1411\u001b[39m -> \u001b[33mCity\u001b[39m(\u001b[32m1411\u001b[39m, \u001b[32m\"Khomeynishahr\"\u001b[39m, \u001b[32m\"IRN\"\u001b[39m, \u001b[32m165888\u001b[39m),\n",
       "  \u001b[32m629\u001b[39m -> \u001b[33mCity\u001b[39m(\u001b[32m629\u001b[39m, \u001b[32m\"Sawhaj\"\u001b[39m, \u001b[32m\"EGY\"\u001b[39m, \u001b[32m170125\u001b[39m),\n",
       "  \u001b[32m3883\u001b[39m -> \u001b[33mCity\u001b[39m(\u001b[32m3883\u001b[39m, \u001b[32m\"Chesapeake\"\u001b[39m, \u001b[32m\"USA\"\u001b[39m, \u001b[32m199184\u001b[39m),\n",
       "  \u001b[32m2612\u001b[39m -> \u001b[33mCity\u001b[39m(\u001b[32m2612\u001b[39m, \u001b[32m\"Minatitl\\u00e1n\"\u001b[39m, \u001b[32m\"MEX\"\u001b[39m, \u001b[32m152983\u001b[39m),\n",
       "  \u001b[32m1024\u001b[39m -> \u001b[33mCity\u001b[39m(\u001b[32m1024\u001b[39m, \u001b[32m\"Mumbai (Bombay)\"\u001b[39m, \u001b[32m\"IND\"\u001b[39m, \u001b[32m10500000\u001b[39m),\n",
       "  \u001b[32m1469\u001b[39m -> \u001b[33mCity\u001b[39m(\u001b[32m1469\u001b[39m, \u001b[32m\"Genova\"\u001b[39m, \u001b[32m\"ITA\"\u001b[39m, \u001b[32m636104\u001b[39m),\n",
       "  \u001b[32m365\u001b[39m -> \u001b[33mCity\u001b[39m(\u001b[32m365\u001b[39m, \u001b[32m\"Po\\u00e7os de Caldas\"\u001b[39m, \u001b[32m\"BRA\"\u001b[39m, \u001b[32m129683\u001b[39m),\n",
       "  \u001b[32m2744\u001b[39m -> \u001b[33mCity\u001b[39m(\u001b[32m2744\u001b[39m, \u001b[32m\"Kano\"\u001b[39m, \u001b[32m\"NGA\"\u001b[39m, \u001b[32m674100\u001b[39m),\n",
       "  \u001b[32m1369\u001b[39m -> \u001b[33mCity\u001b[39m(\u001b[32m1369\u001b[39m, \u001b[32m\"Basra\"\u001b[39m, \u001b[32m\"IRQ\"\u001b[39m, \u001b[32m406296\u001b[39m),\n",
       "  \u001b[32m138\u001b[39m -> \u001b[33mCity\u001b[39m(\u001b[32m138\u001b[39m, \u001b[32m\"Central Coast\"\u001b[39m, \u001b[32m\"AUS\"\u001b[39m, \u001b[32m227657\u001b[39m),\n",
       "  \u001b[32m2889\u001b[39m -> \u001b[33mCity\u001b[39m(\u001b[32m2889\u001b[39m, \u001b[32m\"Fernando de la Mora\"\u001b[39m, \u001b[32m\"PRY\"\u001b[39m, \u001b[32m95287\u001b[39m),\n",
       "  \u001b[32m1823\u001b[39m -> \u001b[33mCity\u001b[39m(\u001b[32m1823\u001b[39m, \u001b[32m\"Laval\"\u001b[39m, \u001b[32m\"CAN\"\u001b[39m, \u001b[32m330393\u001b[39m),\n",
       "  \u001b[32m1190\u001b[39m -> \u001b[33mCity\u001b[39m(\u001b[32m1190\u001b[39m, \u001b[32m\"Erode\"\u001b[39m, \u001b[32m\"IND\"\u001b[39m, \u001b[32m159232\u001b[39m),\n",
       "  \u001b[32m1168\u001b[39m -> \u001b[33mCity\u001b[39m(\u001b[32m1168\u001b[39m, \u001b[32m\"Ahmadnagar\"\u001b[39m, \u001b[32m\"IND\"\u001b[39m, \u001b[32m181339\u001b[39m),\n",
       "  \u001b[32m2295\u001b[39m -> \u001b[33mCity\u001b[39m(\u001b[32m2295\u001b[39m, \u001b[32m\"Moroni\"\u001b[39m, \u001b[32m\"COM\"\u001b[39m, \u001b[32m36000\u001b[39m),\n",
       "...\n",
       "\u001b[36mrealWorld\u001b[39m: \u001b[32mWorld\u001b[39m = \u001b[33mWorld\u001b[39m(\n",
       "  \u001b[33mHashMap\u001b[39m(\n",
       "    \u001b[32m\"CYM\"\u001b[39m -> \u001b[33mCountry\u001b[39m(\u001b[32m\"CYM\"\u001b[39m, \u001b[32m\"Cayman Islands\"\u001b[39m, \u001b[33mSome\u001b[39m(\u001b[32m553\u001b[39m)),\n",
       "    \u001b[32m\"MNG\"\u001b[39m -> \u001b[33mCountry\u001b[39m(\u001b[32m\"MNG\"\u001b[39m, \u001b[32m\"Mongolia\"\u001b[39m, \u001b[33mSome\u001b[39m(\u001b[32m2696\u001b[39m)),\n",
       "    \u001b[32m\"SYR\"\u001b[39m -> \u001b[33mCountry\u001b[39m(\u001b[32m\"SYR\"\u001b[39m, \u001b[32m\"Syria\"\u001b[39m, \u001b[33mSome\u001b[39m(\u001b[32m3250\u001b[39m)),\n",
       "    \u001b[32m\"LTU\"\u001b[39m -> \u001b[33mCountry\u001b[39m(\u001b[32m\"LTU\"\u001b[39m, \u001b[32m\"Lithuania\"\u001b[39m, \u001b[33mSome\u001b[39m(\u001b[32m2447\u001b[39m)),\n",
       "    \u001b[32m\"GMB\"\u001b[39m -> \u001b[33mCountry\u001b[39m(\u001b[32m\"GMB\"\u001b[39m, \u001b[32m\"Gambia\"\u001b[39m, \u001b[33mSome\u001b[39m(\u001b[32m904\u001b[39m)),\n",
       "    \u001b[32m\"UZB\"\u001b[39m -> \u001b[33mCountry\u001b[39m(\u001b[32m\"UZB\"\u001b[39m, \u001b[32m\"Uzbekistan\"\u001b[39m, \u001b[33mSome\u001b[39m(\u001b[32m3503\u001b[39m)),\n",
       "    \u001b[32m\"MAC\"\u001b[39m -> \u001b[33mCountry\u001b[39m(\u001b[32m\"MAC\"\u001b[39m, \u001b[32m\"Macao\"\u001b[39m, \u001b[33mSome\u001b[39m(\u001b[32m2454\u001b[39m)),\n",
       "    \u001b[32m\"KHM\"\u001b[39m -> \u001b[33mCountry\u001b[39m(\u001b[32m\"KHM\"\u001b[39m, \u001b[32m\"Cambodia\"\u001b[39m, \u001b[33mSome\u001b[39m(\u001b[32m1800\u001b[39m)),\n",
       "    \u001b[32m\"ROM\"\u001b[39m -> \u001b[33mCountry\u001b[39m(\u001b[32m\"ROM\"\u001b[39m, \u001b[32m\"Romania\"\u001b[39m, \u001b[33mSome\u001b[39m(\u001b[32m3018\u001b[39m)),\n",
       "    \u001b[32m\"BMU\"\u001b[39m -> \u001b[33mCountry\u001b[39m(\u001b[32m\"BMU\"\u001b[39m, \u001b[32m\"Bermuda\"\u001b[39m, \u001b[33mSome\u001b[39m(\u001b[32m191\u001b[39m)),\n",
       "    \u001b[32m\"GUF\"\u001b[39m -> \u001b[33mCountry\u001b[39m(\u001b[32m\"GUF\"\u001b[39m, \u001b[32m\"French Guiana\"\u001b[39m, \u001b[33mSome\u001b[39m(\u001b[32m3014\u001b[39m)),\n",
       "    \u001b[32m\"SWE\"\u001b[39m -> \u001b[33mCountry\u001b[39m(\u001b[32m\"SWE\"\u001b[39m, \u001b[32m\"Sweden\"\u001b[39m, \u001b[33mSome\u001b[39m(\u001b[32m3048\u001b[39m)),\n",
       "    \u001b[32m\"ARM\"\u001b[39m -> \u001b[33mCountry\u001b[39m(\u001b[32m\"ARM\"\u001b[39m, \u001b[32m\"Armenia\"\u001b[39m, \u001b[33mSome\u001b[39m(\u001b[32m126\u001b[39m)),\n",
       "    \u001b[32m\"LAO\"\u001b[39m -> \u001b[33mCountry\u001b[39m(\u001b[32m\"LAO\"\u001b[39m, \u001b[32m\"Laos\"\u001b[39m, \u001b[33mSome\u001b[39m(\u001b[32m2432\u001b[39m)),\n",
       "    \u001b[32m\"SPM\"\u001b[39m -> \u001b[33mCountry\u001b[39m(\u001b[32m\"SPM\"\u001b[39m, \u001b[32m\"Saint Pierre and Miquelon\"\u001b[39m, \u001b[33mSome\u001b[39m(\u001b[32m3067\u001b[39m)),\n",
       "    \u001b[32m\"GNQ\"\u001b[39m -> \u001b[33mCountry\u001b[39m(\u001b[32m\"GNQ\"\u001b[39m, \u001b[32m\"Equatorial Guinea\"\u001b[39m, \u001b[33mSome\u001b[39m(\u001b[32m2972\u001b[39m)),\n",
       "    \u001b[32m\"USA\"\u001b[39m -> \u001b[33mCountry\u001b[39m(\u001b[32m\"USA\"\u001b[39m, \u001b[32m\"United States\"\u001b[39m, \u001b[33mSome\u001b[39m(\u001b[32m3813\u001b[39m)),\n",
       "    \u001b[32m\"CXR\"\u001b[39m -> \u001b[33mCountry\u001b[39m(\u001b[32m\"CXR\"\u001b[39m, \u001b[32m\"Christmas Island\"\u001b[39m, \u001b[33mSome\u001b[39m(\u001b[32m1791\u001b[39m)),\n",
       "    \u001b[32m\"VAT\"\u001b[39m -> \u001b[33mCountry\u001b[39m(\u001b[32m\"VAT\"\u001b[39m, \u001b[32m\"Holy See (Vatican City State)\"\u001b[39m, \u001b[33mSome\u001b[39m(\u001b[32m3538\u001b[39m)),\n",
       "    \u001b[32m\"MDV\"\u001b[39m -> \u001b[33mCountry\u001b[39m(\u001b[32m\"MDV\"\u001b[39m, \u001b[32m\"Maldives\"\u001b[39m, \u001b[33mSome\u001b[39m(\u001b[32m2463\u001b[39m)),\n",
       "    \u001b[32m\"FJI\"\u001b[39m -> \u001b[33mCountry\u001b[39m(\u001b[32m\"FJI\"\u001b[39m, \u001b[32m\"Fiji Islands\"\u001b[39m, \u001b[33mSome\u001b[39m(\u001b[32m764\u001b[39m)),\n",
       "    \u001b[32m\"HTI\"\u001b[39m -> \u001b[33mCountry\u001b[39m(\u001b[32m\"HTI\"\u001b[39m, \u001b[32m\"Haiti\"\u001b[39m, \u001b[33mSome\u001b[39m(\u001b[32m929\u001b[39m)),\n",
       "    \u001b[32m\"IDN\"\u001b[39m -> \u001b[33mCountry\u001b[39m(\u001b[32m\"IDN\"\u001b[39m, \u001b[32m\"Indonesia\"\u001b[39m, \u001b[33mSome\u001b[39m(\u001b[32m939\u001b[39m)),\n",
       "    \u001b[32m\"LVA\"\u001b[39m -> \u001b[33mCountry\u001b[39m(\u001b[32m\"LVA\"\u001b[39m, \u001b[32m\"Latvia\"\u001b[39m, \u001b[33mSome\u001b[39m(\u001b[32m2434\u001b[39m)),\n",
       "    \u001b[32m\"HUN\"\u001b[39m -> \u001b[33mCountry\u001b[39m(\u001b[32m\"HUN\"\u001b[39m, \u001b[32m\"Hungary\"\u001b[39m, \u001b[33mSome\u001b[39m(\u001b[32m3483\u001b[39m)),\n",
       "    \u001b[32m\"BLR\"\u001b[39m -> \u001b[33mCountry\u001b[39m(\u001b[32m\"BLR\"\u001b[39m, \u001b[32m\"Belarus\"\u001b[39m, \u001b[33mSome\u001b[39m(\u001b[32m3520\u001b[39m)),\n",
       "    \u001b[32m\"MSR\"\u001b[39m -> \u001b[33mCountry\u001b[39m(\u001b[32m\"MSR\"\u001b[39m, \u001b[32m\"Montserrat\"\u001b[39m, \u001b[33mSome\u001b[39m(\u001b[32m2697\u001b[39m)),\n",
       "    \u001b[32m\"PNG\"\u001b[39m -> \u001b[33mCountry\u001b[39m(\u001b[32m\"PNG\"\u001b[39m, \u001b[32m\"Papua New Guinea\"\u001b[39m, \u001b[33mSome\u001b[39m(\u001b[32m2884\u001b[39m)),\n",
       "    \u001b[32m\"GUY\"\u001b[39m -> \u001b[33mCountry\u001b[39m(\u001b[32m\"GUY\"\u001b[39m, \u001b[32m\"Guyana\"\u001b[39m, \u001b[33mSome\u001b[39m(\u001b[32m928\u001b[39m)),\n",
       "    \u001b[32m\"DNK\"\u001b[39m -> \u001b[33mCountry\u001b[39m(\u001b[32m\"DNK\"\u001b[39m, \u001b[32m\"Denmark\"\u001b[39m, \u001b[33mSome\u001b[39m(\u001b[32m3315\u001b[39m)),\n",
       "    \u001b[32m\"FIN\"\u001b[39m -> \u001b[33mCountry\u001b[39m(\u001b[32m\"FIN\"\u001b[39m, \u001b[32m\"Finland\"\u001b[39m, \u001b[33mSome\u001b[39m(\u001b[32m3236\u001b[39m)),\n",
       "    \u001b[32m\"DMA\"\u001b[39m -> \u001b[33mCountry\u001b[39m(\u001b[32m\"DMA\"\u001b[39m, \u001b[32m\"Dominica\"\u001b[39m, \u001b[33mSome\u001b[39m(\u001b[32m586\u001b[39m)),\n",
       "    \u001b[32m\"COG\"\u001b[39m -> \u001b[33mCountry\u001b[39m(\u001b[32m\"COG\"\u001b[39m, \u001b[32m\"Congo\"\u001b[39m, \u001b[33mSome\u001b[39m(\u001b[32m2296\u001b[39m)),\n",
       "    \u001b[32m\"CIV\"\u001b[39m -> \u001b[33mCountry\u001b[39m(\u001b[32m\"CIV\"\u001b[39m, \u001b[32m\"C\\u00f4te d\\u0092Ivoire\"\u001b[39m, \u001b[33mSome\u001b[39m(\u001b[32m2814\u001b[39m)),\n",
       "    \u001b[32m\"SDN\"\u001b[39m -> \u001b[33mCountry\u001b[39m(\u001b[32m\"SDN\"\u001b[39m, \u001b[32m\"Sudan\"\u001b[39m, \u001b[33mSome\u001b[39m(\u001b[32m3225\u001b[39m)),\n",
       "    \u001b[32m\"CHE\"\u001b[39m -> \u001b[33mCountry\u001b[39m(\u001b[32m\"CHE\"\u001b[39m, \u001b[32m\"Switzerland\"\u001b[39m, \u001b[33mSome\u001b[39m(\u001b[32m3248\u001b[39m)),\n",
       "    \u001b[32m\"VIR\"\u001b[39m -> \u001b[33mCountry\u001b[39m(\u001b[32m\"VIR\"\u001b[39m, \u001b[32m\"Virgin Islands, U.S.\"\u001b[39m, \u001b[33mSome\u001b[39m(\u001b[32m4067\u001b[39m)),\n",
       "..."
      ]
     },
     "execution_count": 23,
     "metadata": {},
     "output_type": "execute_result"
    }
   ],
   "source": [
    "val realCountries: List[Country] = \n",
    "    sql\"select code, name, capital from country\"\n",
    "        .query[Country].to[List].transact(xa).unsafeRunSync\n",
    "\n",
    "val realCities: List[City] = \n",
    "    sql\"select id, name, countryCode, population from city\"\n",
    "        .query[City].to[List].transact(xa).unsafeRunSync\n",
    "\n",
    "val realMapCities: Map[Int, City] = \n",
    "    Map.from(realCities.map(city => (city.id, city)))\n",
    "\n",
    "val realWorld = World(\n",
    "    Map.from(realCountries.map(c => (c.code, c))), realMapCities)"
   ]
  },
  {
   "cell_type": "code",
   "execution_count": 24,
   "metadata": {},
   "outputs": [
    {
     "name": "stdout",
     "output_type": "stream",
     "text": [
      "46 millis\n"
     ]
    },
    {
     "data": {
      "text/plain": [
       "\u001b[36mres23\u001b[39m: \u001b[32mList\u001b[39m[(\u001b[32mString\u001b[39m, \u001b[32mString\u001b[39m)] = \u001b[33mList\u001b[39m(\n",
       "  (\u001b[32m\"Jakarta\"\u001b[39m, \u001b[32m\"Indonesia\"\u001b[39m),\n",
       "  (\u001b[32m\"Ciudad de M\\u00e9xico\"\u001b[39m, \u001b[32m\"Mexico\"\u001b[39m),\n",
       "  (\u001b[32m\"Moscow\"\u001b[39m, \u001b[32m\"Russian Federation\"\u001b[39m),\n",
       "  (\u001b[32m\"Seoul\"\u001b[39m, \u001b[32m\"South Korea\"\u001b[39m)\n",
       ")"
      ]
     },
     "execution_count": 24,
     "metadata": {},
     "output_type": "execute_result"
    }
   ],
   "source": [
    "largeCapitals[WorldState]\n",
    "    .runA(realWorld)\n",
    "    .value\n",
    "    .timed"
   ]
  },
  {
   "cell_type": "code",
   "execution_count": null,
   "metadata": {},
   "outputs": [],
   "source": []
  },
  {
   "cell_type": "code",
   "execution_count": null,
   "metadata": {},
   "outputs": [],
   "source": []
  }
 ],
 "metadata": {
  "kernelspec": {
   "display_name": "Scala",
   "language": "scala",
   "name": "scala"
  },
  "language_info": {
   "codemirror_mode": "text/x-scala",
   "file_extension": ".scala",
   "mimetype": "text/x-scala",
   "name": "scala",
   "nbconvert_exporter": "script",
   "version": "2.13.0"
  }
 },
 "nbformat": 4,
 "nbformat_minor": 4
}
