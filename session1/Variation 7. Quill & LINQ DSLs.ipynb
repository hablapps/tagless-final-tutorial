{
 "cells": [
  {
   "cell_type": "code",
   "execution_count": 1,
   "metadata": {},
   "outputs": [
    {
     "data": {
      "text/plain": [
       "\u001b[32mimport \u001b[39m\u001b[36m$file.$     \n",
       "\u001b[39m\n",
       "\u001b[32mimport \u001b[39m\u001b[36mcommon._, dc._\n",
       "\u001b[39m\n",
       "\u001b[32mimport \u001b[39m\u001b[36mdoobie.implicits._\u001b[39m"
      ]
     },
     "execution_count": 1,
     "metadata": {},
     "output_type": "execute_result"
    }
   ],
   "source": [
    "import $file.common\n",
    "import common._, dc._\n",
    "import doobie.implicits._"
   ]
  },
  {
   "cell_type": "markdown",
   "metadata": {},
   "source": [
    "# Variation 7. The good: Quill & LINQ DSLs"
   ]
  },
  {
   "cell_type": "markdown",
   "metadata": {},
   "source": [
    "The data model is defined by case classes."
   ]
  },
  {
   "cell_type": "code",
   "execution_count": 2,
   "metadata": {},
   "outputs": [
    {
     "data": {
      "text/plain": [
       "defined \u001b[32mclass\u001b[39m \u001b[36mCountry\u001b[39m\n",
       "defined \u001b[32mclass\u001b[39m \u001b[36mCity\u001b[39m"
      ]
     },
     "execution_count": 2,
     "metadata": {},
     "output_type": "execute_result"
    }
   ],
   "source": [
    "case class Country(\n",
    "    code: String, \n",
    "    name: String, \n",
    "    capital: Option[Int])\n",
    "\n",
    "case class City(\n",
    "    id: Int, \n",
    "    name: String, \n",
    "    countryCode: String, \n",
    "    population: Int)"
   ]
  },
  {
   "cell_type": "markdown",
   "metadata": {},
   "source": [
    "Queries use Scala syntax and build upon case classes:"
   ]
  },
  {
   "cell_type": "code",
   "execution_count": 3,
   "metadata": {},
   "outputs": [
    {
     "data": {
      "text/plain": [
       "\u001b[36mlargeCapitals\u001b[39m: \u001b[32mAnyRef\u001b[39m with \u001b[32mQuoted\u001b[39m[\u001b[32mQuery\u001b[39m[(\u001b[32mString\u001b[39m, \u001b[32mString\u001b[39m)]]{def quoted: io.getquill.ast.FlatMap;def ast: io.getquill.ast.FlatMap;def id1759979198(): Unit;val liftings: Object} = querySchema(\"Country\").flatMap(country => querySchema(\"City\").filter(city => country.capital.exists((x1) => x1 == city.id)).filter(city => city.population > 8000000).map(city => (country.name, city.name)))"
      ]
     },
     "execution_count": 3,
     "metadata": {},
     "output_type": "execute_result"
    }
   ],
   "source": [
    "val largeCapitals = quote { for {\n",
    "    country <- query[Country] \n",
    "    city <- query[City] if country.capital.exists(_ == city.id) \n",
    "    if city.population > 8000000\n",
    "} yield (country.name, city.name) }"
   ]
  },
  {
   "cell_type": "markdown",
   "metadata": {},
   "source": [
    "But they are truly generic. It can be translated into an SQL query:"
   ]
  },
  {
   "cell_type": "code",
   "execution_count": 4,
   "metadata": {},
   "outputs": [
    {
     "name": "stdout",
     "output_type": "stream",
     "text": [
      "cmd3.sc:1: SELECT country.name, city.name FROM Country country, City city WHERE country.capital = city.id AND city.population > 8000000\n",
      "val res3 = run(largeCapitals).transact(xa).unsafeRunSync.timed\n",
      "              ^449 millis\n"
     ]
    },
    {
     "data": {
      "text/plain": [
       "\u001b[36mres3\u001b[39m: \u001b[32mList\u001b[39m[(\u001b[32mString\u001b[39m, \u001b[32mString\u001b[39m)] = \u001b[33mList\u001b[39m(\n",
       "  (\u001b[32m\"Indonesia\"\u001b[39m, \u001b[32m\"Jakarta\"\u001b[39m),\n",
       "  (\u001b[32m\"South Korea\"\u001b[39m, \u001b[32m\"Seoul\"\u001b[39m),\n",
       "  (\u001b[32m\"Mexico\"\u001b[39m, \u001b[32m\"Ciudad de M\\u00e9xico\"\u001b[39m),\n",
       "  (\u001b[32m\"Russian Federation\"\u001b[39m, \u001b[32m\"Moscow\"\u001b[39m)\n",
       ")"
      ]
     },
     "execution_count": 4,
     "metadata": {},
     "output_type": "execute_result"
    }
   ],
   "source": [
    "run(largeCapitals).transact(xa).unsafeRunSync.timed"
   ]
  },
  {
   "cell_type": "markdown",
   "metadata": {},
   "source": [
    "or into Cassandra (TBD)"
   ]
  },
  {
   "cell_type": "code",
   "execution_count": null,
   "metadata": {},
   "outputs": [],
   "source": []
  }
 ],
 "metadata": {
  "kernelspec": {
   "display_name": "Scala",
   "language": "scala",
   "name": "scala"
  },
  "language_info": {
   "codemirror_mode": "text/x-scala",
   "file_extension": ".scala",
   "mimetype": "text/x-scala",
   "name": "scala",
   "nbconvert_exporter": "script",
   "version": "2.13.0"
  }
 },
 "nbformat": 4,
 "nbformat_minor": 4
}
