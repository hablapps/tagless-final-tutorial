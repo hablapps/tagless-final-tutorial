{
 "cells": [
  {
   "cell_type": "code",
   "execution_count": 1,
   "metadata": {},
   "outputs": [
    {
     "data": {
      "text/plain": [
       "\u001b[32mimport \u001b[39m\u001b[36m$file.$     \n",
       "\u001b[39m\n",
       "\u001b[32mimport \u001b[39m\u001b[36mcommon._\n",
       "\u001b[39m\n",
       "\u001b[32mimport \u001b[39m\u001b[36mcats.data._, cats._, cats.implicits._\n",
       "\u001b[39m\n",
       "\u001b[32mimport \u001b[39m\u001b[36mdoobie.implicits._\n",
       "\u001b[39m\n",
       "\u001b[32mimport \u001b[39m\u001b[36mdoobie.util.fragment._\u001b[39m"
      ]
     },
     "execution_count": 1,
     "metadata": {},
     "output_type": "execute_result"
    }
   ],
   "source": [
    "import $file.common\n",
    "import common._\n",
    "import cats.data._, cats._, cats.implicits._\n",
    "import doobie.implicits._\n",
    "import doobie.util.fragment._"
   ]
  },
  {
   "cell_type": "markdown",
   "metadata": {},
   "source": [
    "# Variation 8a. Finally, QUEΛ"
   ]
  },
  {
   "cell_type": "code",
   "execution_count": 2,
   "metadata": {},
   "outputs": [
    {
     "data": {
      "text/plain": [
       "defined \u001b[32mtrait\u001b[39m \u001b[36mQUEΛ\u001b[39m\n",
       "defined \u001b[32mobject\u001b[39m \u001b[36mQUEΛ\u001b[39m"
      ]
     },
     "execution_count": 2,
     "metadata": {},
     "output_type": "execute_result"
    }
   ],
   "source": [
    "trait QUEΛ[Repr[_]]{\n",
    "    // base types\n",
    "    \n",
    "    def bool(b: Boolean): Repr[Boolean]\n",
    "    def int(i: Int): Repr[Int]\n",
    "    def str(s: String): Repr[String]\n",
    "    \n",
    "    def >(i1: Repr[Int], i2: Repr[Int]): Repr[Boolean]\n",
    "        \n",
    "    // ADTs\n",
    "    \n",
    "    def tuple2[A, B](a: Repr[A], b: Repr[B]): Repr[(A, B)]\n",
    "    \n",
    "    def none[A]: Repr[Option[A]]\n",
    "    def some[A](a: Repr[A]): Repr[Option[A]]\n",
    "    def exists[A](o: Repr[Option[A]])(\n",
    "        cond: Repr[A] => Repr[Boolean]): Repr[Boolean]\n",
    "    \n",
    "    // Comprehensions\n",
    "    \n",
    "    def bind[A, B](q: Repr[List[A]])(\n",
    "        f: Repr[A] => Repr[List[B]]): Repr[List[B]]\n",
    "    def pure[A](a: Repr[A]): Repr[List[A]]\n",
    "    def where[A](cond: Repr[Boolean])(q: Repr[List[A]]): Repr[List[A]]\n",
    "    \n",
    "    // Equality\n",
    "    \n",
    "    def ===[A](a1: Repr[A], a2: Repr[A]): Repr[Boolean]\n",
    "}\n",
    "\n",
    "object QUEΛ{\n",
    "    object syntax{\n",
    "        implicit class ComprehensionOps[Repr[_], A](la: Repr[List[A]])(implicit Q: QUEΛ[Repr]){\n",
    "            def flatMap[B](cont: Repr[A] => Repr[List[B]]): Repr[List[B]] = \n",
    "                Q.bind(la)(cont)\n",
    "            def map[B](f: Repr[A] => Repr[B]): Repr[List[B]] = \n",
    "                Q.bind(la)(a => Q.pure(f(a)))\n",
    "            def withFilter(p: Repr[A] => Repr[Boolean]): Repr[List[A]] = \n",
    "                Q.bind(la)(a => Q.where(p(a))(Q.pure(a)))\n",
    "        }\n",
    "\n",
    "        implicit class BinOps[Repr[_], A](a1: Repr[A])(implicit Q: QUEΛ[Repr]){\n",
    "            def ===(a2: Repr[A]): Repr[Boolean] = Q.===(a1, a2)\n",
    "            def >(a2: Repr[Int])(implicit eq: Repr[A] =:= Repr[Int]): Repr[Boolean] = \n",
    "                Q.>(eq(a1), a2)\n",
    "        }\n",
    "\n",
    "        implicit def Tuple2QUEΛ[Repr[_], A, B](t2: (Repr[A], Repr[B]))(implicit Q: QUEΛ[Repr]): Repr[(A, B)] = \n",
    "            Q.tuple2(t2._1, t2._2)\n",
    "        \n",
    "        implicit class OptionOps[Repr[_], A](o: Repr[Option[A]])(implicit Q: QUEΛ[Repr]){\n",
    "            def exists(cond: Repr[A] => Repr[Boolean]): Repr[Boolean] = \n",
    "                Q.exists(o)(cond)\n",
    "        }\n",
    "\n",
    "        implicit def IntQUEΛ[Repr[_]](i: Int)(implicit Q: QUEΛ[Repr]): Repr[Int] = \n",
    "            Q.int(i)\n",
    "    }\n",
    "}"
   ]
  },
  {
   "cell_type": "markdown",
   "metadata": {},
   "source": [
    "Our usual case classes, but used as phantom types in the API."
   ]
  },
  {
   "cell_type": "code",
   "execution_count": 3,
   "metadata": {},
   "outputs": [
    {
     "data": {
      "text/plain": [
       "defined \u001b[32mclass\u001b[39m \u001b[36mCountry\u001b[39m\n",
       "defined \u001b[32mclass\u001b[39m \u001b[36mCity\u001b[39m\n",
       "defined \u001b[32mclass\u001b[39m \u001b[36mWorld\u001b[39m"
      ]
     },
     "execution_count": 3,
     "metadata": {},
     "output_type": "execute_result"
    }
   ],
   "source": [
    "case class Country(\n",
    "    code: String, \n",
    "    name: String, \n",
    "    capital: Option[Int])\n",
    "\n",
    "case class City(\n",
    "    id: Int, \n",
    "    name: String, \n",
    "    countryCode: String, \n",
    "    district: String,\n",
    "    population: Int)\n",
    "\n",
    "case class World(\n",
    "    countries: Map[String, Country], \n",
    "    cities: Map[Int, City])"
   ]
  },
  {
   "cell_type": "code",
   "execution_count": 4,
   "metadata": {},
   "outputs": [
    {
     "data": {
      "text/plain": [
       "defined \u001b[32mtrait\u001b[39m \u001b[36mCityModel\u001b[39m\n",
       "defined \u001b[32mtrait\u001b[39m \u001b[36mCountryModel\u001b[39m\n",
       "defined \u001b[32mtrait\u001b[39m \u001b[36mWorldModel\u001b[39m\n",
       "defined \u001b[32mobject\u001b[39m \u001b[36mWorldModel\u001b[39m"
      ]
     },
     "execution_count": 4,
     "metadata": {},
     "output_type": "execute_result"
    }
   ],
   "source": [
    "trait CityModel[Repr[_]]{\n",
    "    def id(city: Repr[City]): Repr[Int]\n",
    "    def name(city: Repr[City]): Repr[String]\n",
    "    def country(country: Repr[City]): Repr[String]\n",
    "    def population(city: Repr[City]): Repr[Int]\n",
    "}\n",
    "\n",
    "trait CountryModel[Repr[_]]{\n",
    "    def code(country: Repr[Country]): Repr[String]\n",
    "    def name(country: Repr[Country]): Repr[String]\n",
    "    def capital(country: Repr[Country]): Repr[Option[Int]]\n",
    "}\n",
    "\n",
    "trait WorldModel[Repr[_]]{\n",
    "    val Ci: CityModel[Repr]\n",
    "    val Co: CountryModel[Repr]\n",
    "    def countries: Repr[List[Country]]\n",
    "    def cities: Repr[List[City]]\n",
    "}\n",
    "\n",
    "object WorldModel{\n",
    "    \n",
    "    object syntax{\n",
    "        def countries[Repr[_]](implicit W: WorldModel[Repr]) = \n",
    "            W.countries\n",
    "        def cities[Repr[_]](implicit W: WorldModel[Repr]) = \n",
    "            W.cities\n",
    "        def name[Repr[_]](c: Repr[Country])(implicit W: WorldModel[Repr]) = \n",
    "            W.Co.name(c)\n",
    "        def capital[Repr[_]](c: Repr[Country])(implicit W: WorldModel[Repr]) = \n",
    "            W.Co.capital(c)\n",
    "        def id[Repr[_]](c: Repr[City])(implicit W: WorldModel[Repr]) = \n",
    "            W.Ci.id(c)        \n",
    "        def cityName[Repr[_]](c: Repr[City])(implicit W: WorldModel[Repr]) = \n",
    "            W.Ci.name(c)        \n",
    "        def population[Repr[_]](c: Repr[City])(implicit W: WorldModel[Repr]) = \n",
    "            W.Ci.population(c)\n",
    "    }\n",
    "}"
   ]
  },
  {
   "cell_type": "code",
   "execution_count": 5,
   "metadata": {},
   "outputs": [
    {
     "data": {
      "text/plain": [
       "\u001b[32mimport \u001b[39m\u001b[36mQUEΛ.syntax._, WorldModel.syntax._\u001b[39m"
      ]
     },
     "execution_count": 5,
     "metadata": {},
     "output_type": "execute_result"
    }
   ],
   "source": [
    "import QUEΛ.syntax._, WorldModel.syntax._"
   ]
  },
  {
   "cell_type": "code",
   "execution_count": 6,
   "metadata": {},
   "outputs": [
    {
     "data": {
      "text/plain": [
       "defined \u001b[32mfunction\u001b[39m \u001b[36mlargeCapitals\u001b[39m"
      ]
     },
     "execution_count": 6,
     "metadata": {},
     "output_type": "execute_result"
    }
   ],
   "source": [
    "def largeCapitals[Repr[_]: QUEΛ: WorldModel]: Repr[List[(String, String)]] = \n",
    "    for {\n",
    "        country <- countries\n",
    "        city <- cities if capital(country).exists(_ === id(city))\n",
    "        if population(city) > 8000000\n",
    "    } yield (cityName(city), name(country))"
   ]
  },
  {
   "cell_type": "code",
   "execution_count": 6,
   "metadata": {},
   "outputs": [],
   "source": [
    "/*def query[Repr[_]](implicit Q: QUEΛ[Repr], W: WorldModel[Repr]): Repr[List[(String, String)]] = \n",
    "    Q.bind(W.countries){ country => \n",
    "        Q.bind(W.cities){ city => \n",
    "            Q.where(Q.===(W.Co.capital(country), W.Ci.id(city))){\n",
    "                Q.pure(Q.tuple2(W.Ci.name(city), W.Co.name(country)))\n",
    "            }\n",
    "        }\n",
    "    }\n",
    "  */  "
   ]
  },
  {
   "cell_type": "code",
   "execution_count": 7,
   "metadata": {},
   "outputs": [
    {
     "data": {
      "text/plain": [
       "defined \u001b[32mfunction\u001b[39m \u001b[36mStd\u001b[39m"
      ]
     },
     "execution_count": 7,
     "metadata": {},
     "output_type": "execute_result"
    }
   ],
   "source": [
    "implicit def Std[S, F[_]: Monad]: QUEΛ[ReaderT[F, S, ?]] = new QUEΛ[ReaderT[F, S, ?]]{\n",
    "    // BASE TYPES\n",
    "\n",
    "    def bool(b: Boolean): ReaderT[F, S, Boolean] = \n",
    "        Kleisli.pure(b)\n",
    "    def int(i: Int): ReaderT[F, S, Int] = \n",
    "        Kleisli.pure(i)\n",
    "    def str(s: String): ReaderT[F, S, String] = \n",
    "        Kleisli.pure(s)\n",
    "\n",
    "    def >(i1: ReaderT[F, S, Int], i2: ReaderT[F, S, Int]): ReaderT[F, S, Boolean] = \n",
    "        (i1, i2).mapN(_ > _)\n",
    "\n",
    "    // ADTs\n",
    "\n",
    "    def tuple2[A, B](a: ReaderT[F, S, A], b: ReaderT[F, S, B]): ReaderT[F, S, (A, B)] = \n",
    "        Applicative[ReaderT[F, S, ?]].tuple2(a,b)\n",
    "\n",
    "    def none[A]: ReaderT[F, S, Option[A]] = \n",
    "        Kleisli.pure(None)\n",
    "    def some[A](a: ReaderT[F, S, A]): ReaderT[F, S, Option[A]] = \n",
    "        a.map(Some(_))\n",
    "    def exists[A](a: ReaderT[F, S, Option[A]])(\n",
    "        cond: ReaderT[F, S, A] => ReaderT[F, S, Boolean]): ReaderT[F, S, Boolean] = \n",
    "        a.flatMap{ _.fold(Kleisli{ s: S => false.pure[F]}){\n",
    "            a => cond(Kleisli.pure(a))\n",
    "        }}\n",
    "\n",
    "    // COMPREHENSIONS\n",
    "\n",
    "    def bind[A, B](q: ReaderT[F, S, List[A]])(\n",
    "            f: ReaderT[F, S, A] => ReaderT[F, S, List[B]]): ReaderT[F, S, List[B]] = \n",
    "        q.flatMap{ _.traverse((a: A) => \n",
    "            f(Kleisli.pure(a))).map(_.flatten)\n",
    "        }\n",
    "    def pure[A](a: ReaderT[F, S, A]): ReaderT[F, S, List[A]] = \n",
    "        a.map(List(_))\n",
    "    def where[A](cond: ReaderT[F, S, Boolean])(q: ReaderT[F, S, List[A]]): ReaderT[F, S, List[A]] = \n",
    "        cond.flatMap{ if (_) q else Kleisli.pure(List()) }\n",
    "\n",
    "    // EQUALITY\n",
    "\n",
    "    def ===[A](a1: ReaderT[F, S, A], a2: ReaderT[F, S, A]): ReaderT[F, S, Boolean] = \n",
    "        (a1, a2).mapN(_ == _)\n",
    "}"
   ]
  },
  {
   "cell_type": "code",
   "execution_count": 8,
   "metadata": {},
   "outputs": [
    {
     "data": {
      "text/plain": [
       "defined \u001b[32mtype\u001b[39m \u001b[36mWorldReader\u001b[39m\n",
       "defined \u001b[32mobject\u001b[39m \u001b[36mWorldModelStd\u001b[39m"
      ]
     },
     "execution_count": 8,
     "metadata": {},
     "output_type": "execute_result"
    }
   ],
   "source": [
    "type WorldReader[T] = ReaderT[Eval, World, T]\n",
    "\n",
    "implicit object WorldModelStd extends WorldModel[WorldReader]{\n",
    "    val Ci = new CityModel[WorldReader]{\n",
    "        def id(city: WorldReader[City]): WorldReader[Int] = \n",
    "            city.map{_.id}\n",
    "        def name(city: WorldReader[City]): WorldReader[String] = \n",
    "            city.map{_.name}\n",
    "        def country(city: WorldReader[City]): WorldReader[String] = \n",
    "            city.map{_.countryCode}\n",
    "        def population(city: WorldReader[City]): WorldReader[Int] = \n",
    "            city.map{_.population}\n",
    "    }\n",
    "\n",
    "    val Co = new CountryModel[WorldReader]{\n",
    "        def code(country: WorldReader[Country]): WorldReader[String] = \n",
    "            country.map{_.code}\n",
    "        def name(country: WorldReader[Country]): WorldReader[String] = \n",
    "            country.map{_.name}\n",
    "        def capital(country: WorldReader[Country]): WorldReader[Option[Int]] = \n",
    "            country.map{_.capital}\n",
    "    }\n",
    "\n",
    "    def countries: WorldReader[List[Country]] = \n",
    "        Kleisli{ world => Eval.now(world.countries.values.toList) }\n",
    "\n",
    "    def cities: WorldReader[List[City]] = \n",
    "        Kleisli{ world => Eval.now(world.cities.values.toList) }\n",
    "}"
   ]
  },
  {
   "cell_type": "code",
   "execution_count": 10,
   "metadata": {},
   "outputs": [
    {
     "data": {
      "text/plain": [
       "\u001b[36mrealCountries\u001b[39m: \u001b[32mList\u001b[39m[\u001b[32mCountry\u001b[39m] = \u001b[33mList\u001b[39m(\n",
       "  \u001b[33mCountry\u001b[39m(\u001b[32m\"AFG\"\u001b[39m, \u001b[32m\"Afghanistan\"\u001b[39m, \u001b[33mSome\u001b[39m(\u001b[32m1\u001b[39m)),\n",
       "  \u001b[33mCountry\u001b[39m(\u001b[32m\"NLD\"\u001b[39m, \u001b[32m\"Netherlands\"\u001b[39m, \u001b[33mSome\u001b[39m(\u001b[32m5\u001b[39m)),\n",
       "  \u001b[33mCountry\u001b[39m(\u001b[32m\"ANT\"\u001b[39m, \u001b[32m\"Netherlands Antilles\"\u001b[39m, \u001b[33mSome\u001b[39m(\u001b[32m33\u001b[39m)),\n",
       "  \u001b[33mCountry\u001b[39m(\u001b[32m\"ALB\"\u001b[39m, \u001b[32m\"Albania\"\u001b[39m, \u001b[33mSome\u001b[39m(\u001b[32m34\u001b[39m)),\n",
       "  \u001b[33mCountry\u001b[39m(\u001b[32m\"DZA\"\u001b[39m, \u001b[32m\"Algeria\"\u001b[39m, \u001b[33mSome\u001b[39m(\u001b[32m35\u001b[39m)),\n",
       "  \u001b[33mCountry\u001b[39m(\u001b[32m\"ASM\"\u001b[39m, \u001b[32m\"American Samoa\"\u001b[39m, \u001b[33mSome\u001b[39m(\u001b[32m54\u001b[39m)),\n",
       "  \u001b[33mCountry\u001b[39m(\u001b[32m\"AND\"\u001b[39m, \u001b[32m\"Andorra\"\u001b[39m, \u001b[33mSome\u001b[39m(\u001b[32m55\u001b[39m)),\n",
       "  \u001b[33mCountry\u001b[39m(\u001b[32m\"AGO\"\u001b[39m, \u001b[32m\"Angola\"\u001b[39m, \u001b[33mSome\u001b[39m(\u001b[32m56\u001b[39m)),\n",
       "  \u001b[33mCountry\u001b[39m(\u001b[32m\"AIA\"\u001b[39m, \u001b[32m\"Anguilla\"\u001b[39m, \u001b[33mSome\u001b[39m(\u001b[32m62\u001b[39m)),\n",
       "  \u001b[33mCountry\u001b[39m(\u001b[32m\"ATG\"\u001b[39m, \u001b[32m\"Antigua and Barbuda\"\u001b[39m, \u001b[33mSome\u001b[39m(\u001b[32m63\u001b[39m)),\n",
       "  \u001b[33mCountry\u001b[39m(\u001b[32m\"ARE\"\u001b[39m, \u001b[32m\"United Arab Emirates\"\u001b[39m, \u001b[33mSome\u001b[39m(\u001b[32m65\u001b[39m)),\n",
       "  \u001b[33mCountry\u001b[39m(\u001b[32m\"ARG\"\u001b[39m, \u001b[32m\"Argentina\"\u001b[39m, \u001b[33mSome\u001b[39m(\u001b[32m69\u001b[39m)),\n",
       "  \u001b[33mCountry\u001b[39m(\u001b[32m\"ARM\"\u001b[39m, \u001b[32m\"Armenia\"\u001b[39m, \u001b[33mSome\u001b[39m(\u001b[32m126\u001b[39m)),\n",
       "  \u001b[33mCountry\u001b[39m(\u001b[32m\"ABW\"\u001b[39m, \u001b[32m\"Aruba\"\u001b[39m, \u001b[33mSome\u001b[39m(\u001b[32m129\u001b[39m)),\n",
       "  \u001b[33mCountry\u001b[39m(\u001b[32m\"AUS\"\u001b[39m, \u001b[32m\"Australia\"\u001b[39m, \u001b[33mSome\u001b[39m(\u001b[32m135\u001b[39m)),\n",
       "  \u001b[33mCountry\u001b[39m(\u001b[32m\"AZE\"\u001b[39m, \u001b[32m\"Azerbaijan\"\u001b[39m, \u001b[33mSome\u001b[39m(\u001b[32m144\u001b[39m)),\n",
       "  \u001b[33mCountry\u001b[39m(\u001b[32m\"BHS\"\u001b[39m, \u001b[32m\"Bahamas\"\u001b[39m, \u001b[33mSome\u001b[39m(\u001b[32m148\u001b[39m)),\n",
       "  \u001b[33mCountry\u001b[39m(\u001b[32m\"BHR\"\u001b[39m, \u001b[32m\"Bahrain\"\u001b[39m, \u001b[33mSome\u001b[39m(\u001b[32m149\u001b[39m)),\n",
       "  \u001b[33mCountry\u001b[39m(\u001b[32m\"BGD\"\u001b[39m, \u001b[32m\"Bangladesh\"\u001b[39m, \u001b[33mSome\u001b[39m(\u001b[32m150\u001b[39m)),\n",
       "  \u001b[33mCountry\u001b[39m(\u001b[32m\"BRB\"\u001b[39m, \u001b[32m\"Barbados\"\u001b[39m, \u001b[33mSome\u001b[39m(\u001b[32m174\u001b[39m)),\n",
       "  \u001b[33mCountry\u001b[39m(\u001b[32m\"BEL\"\u001b[39m, \u001b[32m\"Belgium\"\u001b[39m, \u001b[33mSome\u001b[39m(\u001b[32m179\u001b[39m)),\n",
       "  \u001b[33mCountry\u001b[39m(\u001b[32m\"BLZ\"\u001b[39m, \u001b[32m\"Belize\"\u001b[39m, \u001b[33mSome\u001b[39m(\u001b[32m185\u001b[39m)),\n",
       "  \u001b[33mCountry\u001b[39m(\u001b[32m\"BEN\"\u001b[39m, \u001b[32m\"Benin\"\u001b[39m, \u001b[33mSome\u001b[39m(\u001b[32m187\u001b[39m)),\n",
       "  \u001b[33mCountry\u001b[39m(\u001b[32m\"BMU\"\u001b[39m, \u001b[32m\"Bermuda\"\u001b[39m, \u001b[33mSome\u001b[39m(\u001b[32m191\u001b[39m)),\n",
       "  \u001b[33mCountry\u001b[39m(\u001b[32m\"BTN\"\u001b[39m, \u001b[32m\"Bhutan\"\u001b[39m, \u001b[33mSome\u001b[39m(\u001b[32m192\u001b[39m)),\n",
       "  \u001b[33mCountry\u001b[39m(\u001b[32m\"BOL\"\u001b[39m, \u001b[32m\"Bolivia\"\u001b[39m, \u001b[33mSome\u001b[39m(\u001b[32m194\u001b[39m)),\n",
       "  \u001b[33mCountry\u001b[39m(\u001b[32m\"BIH\"\u001b[39m, \u001b[32m\"Bosnia and Herzegovina\"\u001b[39m, \u001b[33mSome\u001b[39m(\u001b[32m201\u001b[39m)),\n",
       "  \u001b[33mCountry\u001b[39m(\u001b[32m\"BWA\"\u001b[39m, \u001b[32m\"Botswana\"\u001b[39m, \u001b[33mSome\u001b[39m(\u001b[32m204\u001b[39m)),\n",
       "  \u001b[33mCountry\u001b[39m(\u001b[32m\"BRA\"\u001b[39m, \u001b[32m\"Brazil\"\u001b[39m, \u001b[33mSome\u001b[39m(\u001b[32m211\u001b[39m)),\n",
       "  \u001b[33mCountry\u001b[39m(\u001b[32m\"GBR\"\u001b[39m, \u001b[32m\"United Kingdom\"\u001b[39m, \u001b[33mSome\u001b[39m(\u001b[32m456\u001b[39m)),\n",
       "  \u001b[33mCountry\u001b[39m(\u001b[32m\"VGB\"\u001b[39m, \u001b[32m\"Virgin Islands, British\"\u001b[39m, \u001b[33mSome\u001b[39m(\u001b[32m537\u001b[39m)),\n",
       "  \u001b[33mCountry\u001b[39m(\u001b[32m\"BRN\"\u001b[39m, \u001b[32m\"Brunei\"\u001b[39m, \u001b[33mSome\u001b[39m(\u001b[32m538\u001b[39m)),\n",
       "  \u001b[33mCountry\u001b[39m(\u001b[32m\"BGR\"\u001b[39m, \u001b[32m\"Bulgaria\"\u001b[39m, \u001b[33mSome\u001b[39m(\u001b[32m539\u001b[39m)),\n",
       "  \u001b[33mCountry\u001b[39m(\u001b[32m\"BFA\"\u001b[39m, \u001b[32m\"Burkina Faso\"\u001b[39m, \u001b[33mSome\u001b[39m(\u001b[32m549\u001b[39m)),\n",
       "  \u001b[33mCountry\u001b[39m(\u001b[32m\"BDI\"\u001b[39m, \u001b[32m\"Burundi\"\u001b[39m, \u001b[33mSome\u001b[39m(\u001b[32m552\u001b[39m)),\n",
       "  \u001b[33mCountry\u001b[39m(\u001b[32m\"CYM\"\u001b[39m, \u001b[32m\"Cayman Islands\"\u001b[39m, \u001b[33mSome\u001b[39m(\u001b[32m553\u001b[39m)),\n",
       "  \u001b[33mCountry\u001b[39m(\u001b[32m\"CHL\"\u001b[39m, \u001b[32m\"Chile\"\u001b[39m, \u001b[33mSome\u001b[39m(\u001b[32m554\u001b[39m)),\n",
       "  \u001b[33mCountry\u001b[39m(\u001b[32m\"COK\"\u001b[39m, \u001b[32m\"Cook Islands\"\u001b[39m, \u001b[33mSome\u001b[39m(\u001b[32m583\u001b[39m)),\n",
       "...\n",
       "\u001b[36mrealCities\u001b[39m: \u001b[32mList\u001b[39m[\u001b[32mCity\u001b[39m] = \u001b[33mList\u001b[39m(\n",
       "  \u001b[33mCity\u001b[39m(\u001b[32m1\u001b[39m, \u001b[32m\"Kabul\"\u001b[39m, \u001b[32m\"AFG\"\u001b[39m, \u001b[32m\"Kabol\"\u001b[39m, \u001b[32m1780000\u001b[39m),\n",
       "  \u001b[33mCity\u001b[39m(\u001b[32m2\u001b[39m, \u001b[32m\"Qandahar\"\u001b[39m, \u001b[32m\"AFG\"\u001b[39m, \u001b[32m\"Qandahar\"\u001b[39m, \u001b[32m237500\u001b[39m),\n",
       "  \u001b[33mCity\u001b[39m(\u001b[32m3\u001b[39m, \u001b[32m\"Herat\"\u001b[39m, \u001b[32m\"AFG\"\u001b[39m, \u001b[32m\"Herat\"\u001b[39m, \u001b[32m186800\u001b[39m),\n",
       "  \u001b[33mCity\u001b[39m(\u001b[32m4\u001b[39m, \u001b[32m\"Mazar-e-Sharif\"\u001b[39m, \u001b[32m\"AFG\"\u001b[39m, \u001b[32m\"Balkh\"\u001b[39m, \u001b[32m127800\u001b[39m),\n",
       "  \u001b[33mCity\u001b[39m(\u001b[32m5\u001b[39m, \u001b[32m\"Amsterdam\"\u001b[39m, \u001b[32m\"NLD\"\u001b[39m, \u001b[32m\"Noord-Holland\"\u001b[39m, \u001b[32m731200\u001b[39m),\n",
       "  \u001b[33mCity\u001b[39m(\u001b[32m6\u001b[39m, \u001b[32m\"Rotterdam\"\u001b[39m, \u001b[32m\"NLD\"\u001b[39m, \u001b[32m\"Zuid-Holland\"\u001b[39m, \u001b[32m593321\u001b[39m),\n",
       "  \u001b[33mCity\u001b[39m(\u001b[32m7\u001b[39m, \u001b[32m\"Haag\"\u001b[39m, \u001b[32m\"NLD\"\u001b[39m, \u001b[32m\"Zuid-Holland\"\u001b[39m, \u001b[32m440900\u001b[39m),\n",
       "  \u001b[33mCity\u001b[39m(\u001b[32m8\u001b[39m, \u001b[32m\"Utrecht\"\u001b[39m, \u001b[32m\"NLD\"\u001b[39m, \u001b[32m\"Utrecht\"\u001b[39m, \u001b[32m234323\u001b[39m),\n",
       "  \u001b[33mCity\u001b[39m(\u001b[32m9\u001b[39m, \u001b[32m\"Eindhoven\"\u001b[39m, \u001b[32m\"NLD\"\u001b[39m, \u001b[32m\"Noord-Brabant\"\u001b[39m, \u001b[32m201843\u001b[39m),\n",
       "  \u001b[33mCity\u001b[39m(\u001b[32m10\u001b[39m, \u001b[32m\"Tilburg\"\u001b[39m, \u001b[32m\"NLD\"\u001b[39m, \u001b[32m\"Noord-Brabant\"\u001b[39m, \u001b[32m193238\u001b[39m),\n",
       "  \u001b[33mCity\u001b[39m(\u001b[32m11\u001b[39m, \u001b[32m\"Groningen\"\u001b[39m, \u001b[32m\"NLD\"\u001b[39m, \u001b[32m\"Groningen\"\u001b[39m, \u001b[32m172701\u001b[39m),\n",
       "  \u001b[33mCity\u001b[39m(\u001b[32m12\u001b[39m, \u001b[32m\"Breda\"\u001b[39m, \u001b[32m\"NLD\"\u001b[39m, \u001b[32m\"Noord-Brabant\"\u001b[39m, \u001b[32m160398\u001b[39m),\n",
       "  \u001b[33mCity\u001b[39m(\u001b[32m13\u001b[39m, \u001b[32m\"Apeldoorn\"\u001b[39m, \u001b[32m\"NLD\"\u001b[39m, \u001b[32m\"Gelderland\"\u001b[39m, \u001b[32m153491\u001b[39m),\n",
       "  \u001b[33mCity\u001b[39m(\u001b[32m14\u001b[39m, \u001b[32m\"Nijmegen\"\u001b[39m, \u001b[32m\"NLD\"\u001b[39m, \u001b[32m\"Gelderland\"\u001b[39m, \u001b[32m152463\u001b[39m),\n",
       "  \u001b[33mCity\u001b[39m(\u001b[32m15\u001b[39m, \u001b[32m\"Enschede\"\u001b[39m, \u001b[32m\"NLD\"\u001b[39m, \u001b[32m\"Overijssel\"\u001b[39m, \u001b[32m149544\u001b[39m),\n",
       "  \u001b[33mCity\u001b[39m(\u001b[32m16\u001b[39m, \u001b[32m\"Haarlem\"\u001b[39m, \u001b[32m\"NLD\"\u001b[39m, \u001b[32m\"Noord-Holland\"\u001b[39m, \u001b[32m148772\u001b[39m),\n",
       "  \u001b[33mCity\u001b[39m(\u001b[32m17\u001b[39m, \u001b[32m\"Almere\"\u001b[39m, \u001b[32m\"NLD\"\u001b[39m, \u001b[32m\"Flevoland\"\u001b[39m, \u001b[32m142465\u001b[39m),\n",
       "  \u001b[33mCity\u001b[39m(\u001b[32m18\u001b[39m, \u001b[32m\"Arnhem\"\u001b[39m, \u001b[32m\"NLD\"\u001b[39m, \u001b[32m\"Gelderland\"\u001b[39m, \u001b[32m138020\u001b[39m),\n",
       "  \u001b[33mCity\u001b[39m(\u001b[32m19\u001b[39m, \u001b[32m\"Zaanstad\"\u001b[39m, \u001b[32m\"NLD\"\u001b[39m, \u001b[32m\"Noord-Holland\"\u001b[39m, \u001b[32m135621\u001b[39m),\n",
       "  \u001b[33mCity\u001b[39m(\u001b[32m20\u001b[39m, \u001b[32m\"\\u00b4s-Hertogenbosch\"\u001b[39m, \u001b[32m\"NLD\"\u001b[39m, \u001b[32m\"Noord-Brabant\"\u001b[39m, \u001b[32m129170\u001b[39m),\n",
       "  \u001b[33mCity\u001b[39m(\u001b[32m21\u001b[39m, \u001b[32m\"Amersfoort\"\u001b[39m, \u001b[32m\"NLD\"\u001b[39m, \u001b[32m\"Utrecht\"\u001b[39m, \u001b[32m126270\u001b[39m),\n",
       "  \u001b[33mCity\u001b[39m(\u001b[32m22\u001b[39m, \u001b[32m\"Maastricht\"\u001b[39m, \u001b[32m\"NLD\"\u001b[39m, \u001b[32m\"Limburg\"\u001b[39m, \u001b[32m122087\u001b[39m),\n",
       "  \u001b[33mCity\u001b[39m(\u001b[32m23\u001b[39m, \u001b[32m\"Dordrecht\"\u001b[39m, \u001b[32m\"NLD\"\u001b[39m, \u001b[32m\"Zuid-Holland\"\u001b[39m, \u001b[32m119811\u001b[39m),\n",
       "  \u001b[33mCity\u001b[39m(\u001b[32m24\u001b[39m, \u001b[32m\"Leiden\"\u001b[39m, \u001b[32m\"NLD\"\u001b[39m, \u001b[32m\"Zuid-Holland\"\u001b[39m, \u001b[32m117196\u001b[39m),\n",
       "  \u001b[33mCity\u001b[39m(\u001b[32m25\u001b[39m, \u001b[32m\"Haarlemmermeer\"\u001b[39m, \u001b[32m\"NLD\"\u001b[39m, \u001b[32m\"Noord-Holland\"\u001b[39m, \u001b[32m110722\u001b[39m),\n",
       "  \u001b[33mCity\u001b[39m(\u001b[32m26\u001b[39m, \u001b[32m\"Zoetermeer\"\u001b[39m, \u001b[32m\"NLD\"\u001b[39m, \u001b[32m\"Zuid-Holland\"\u001b[39m, \u001b[32m110214\u001b[39m),\n",
       "  \u001b[33mCity\u001b[39m(\u001b[32m27\u001b[39m, \u001b[32m\"Emmen\"\u001b[39m, \u001b[32m\"NLD\"\u001b[39m, \u001b[32m\"Drenthe\"\u001b[39m, \u001b[32m105853\u001b[39m),\n",
       "  \u001b[33mCity\u001b[39m(\u001b[32m28\u001b[39m, \u001b[32m\"Zwolle\"\u001b[39m, \u001b[32m\"NLD\"\u001b[39m, \u001b[32m\"Overijssel\"\u001b[39m, \u001b[32m105819\u001b[39m),\n",
       "  \u001b[33mCity\u001b[39m(\u001b[32m29\u001b[39m, \u001b[32m\"Ede\"\u001b[39m, \u001b[32m\"NLD\"\u001b[39m, \u001b[32m\"Gelderland\"\u001b[39m, \u001b[32m101574\u001b[39m),\n",
       "  \u001b[33mCity\u001b[39m(\u001b[32m30\u001b[39m, \u001b[32m\"Delft\"\u001b[39m, \u001b[32m\"NLD\"\u001b[39m, \u001b[32m\"Zuid-Holland\"\u001b[39m, \u001b[32m95268\u001b[39m),\n",
       "  \u001b[33mCity\u001b[39m(\u001b[32m31\u001b[39m, \u001b[32m\"Heerlen\"\u001b[39m, \u001b[32m\"NLD\"\u001b[39m, \u001b[32m\"Limburg\"\u001b[39m, \u001b[32m95052\u001b[39m),\n",
       "  \u001b[33mCity\u001b[39m(\u001b[32m32\u001b[39m, \u001b[32m\"Alkmaar\"\u001b[39m, \u001b[32m\"NLD\"\u001b[39m, \u001b[32m\"Noord-Holland\"\u001b[39m, \u001b[32m92713\u001b[39m),\n",
       "  \u001b[33mCity\u001b[39m(\u001b[32m33\u001b[39m, \u001b[32m\"Willemstad\"\u001b[39m, \u001b[32m\"ANT\"\u001b[39m, \u001b[32m\"Cura\\u00e7ao\"\u001b[39m, \u001b[32m2345\u001b[39m),\n",
       "  \u001b[33mCity\u001b[39m(\u001b[32m34\u001b[39m, \u001b[32m\"Tirana\"\u001b[39m, \u001b[32m\"ALB\"\u001b[39m, \u001b[32m\"Tirana\"\u001b[39m, \u001b[32m270000\u001b[39m),\n",
       "  \u001b[33mCity\u001b[39m(\u001b[32m35\u001b[39m, \u001b[32m\"Alger\"\u001b[39m, \u001b[32m\"DZA\"\u001b[39m, \u001b[32m\"Alger\"\u001b[39m, \u001b[32m2168000\u001b[39m),\n",
       "  \u001b[33mCity\u001b[39m(\u001b[32m36\u001b[39m, \u001b[32m\"Oran\"\u001b[39m, \u001b[32m\"DZA\"\u001b[39m, \u001b[32m\"Oran\"\u001b[39m, \u001b[32m609823\u001b[39m),\n",
       "  \u001b[33mCity\u001b[39m(\u001b[32m37\u001b[39m, \u001b[32m\"Constantine\"\u001b[39m, \u001b[32m\"DZA\"\u001b[39m, \u001b[32m\"Constantine\"\u001b[39m, \u001b[32m443727\u001b[39m),\n",
       "  \u001b[33mCity\u001b[39m(\u001b[32m38\u001b[39m, \u001b[32m\"Annaba\"\u001b[39m, \u001b[32m\"DZA\"\u001b[39m, \u001b[32m\"Annaba\"\u001b[39m, \u001b[32m222518\u001b[39m),\n",
       "...\n",
       "\u001b[36mrealMapCities\u001b[39m: \u001b[32mMap\u001b[39m[\u001b[32mInt\u001b[39m, \u001b[32mCity\u001b[39m] = \u001b[33mHashMap\u001b[39m(\n",
       "  \u001b[32m3927\u001b[39m -> \u001b[33mCity\u001b[39m(\u001b[32m3927\u001b[39m, \u001b[32m\"Salinas\"\u001b[39m, \u001b[32m\"USA\"\u001b[39m, \u001b[32m\"California\"\u001b[39m, \u001b[32m151060\u001b[39m),\n",
       "  \u001b[32m2163\u001b[39m -> \u001b[33mCity\u001b[39m(\u001b[32m2163\u001b[39m, \u001b[32m\"Wuwei\"\u001b[39m, \u001b[32m\"CHN\"\u001b[39m, \u001b[32m\"Gansu\"\u001b[39m, \u001b[32m133101\u001b[39m),\n",
       "  \u001b[32m645\u001b[39m -> \u001b[33mCity\u001b[39m(\u001b[32m645\u001b[39m, \u001b[32m\"San Salvador\"\u001b[39m, \u001b[32m\"SLV\"\u001b[39m, \u001b[32m\"San Salvador\"\u001b[39m, \u001b[32m415346\u001b[39m),\n",
       "  \u001b[32m892\u001b[39m -> \u001b[33mCity\u001b[39m(\u001b[32m892\u001b[39m, \u001b[32m\"Capas\"\u001b[39m, \u001b[32m\"PHL\"\u001b[39m, \u001b[32m\"Central Luzon\"\u001b[39m, \u001b[32m95219\u001b[39m),\n",
       "  \u001b[32m69\u001b[39m -> \u001b[33mCity\u001b[39m(\u001b[32m69\u001b[39m, \u001b[32m\"Buenos Aires\"\u001b[39m, \u001b[32m\"ARG\"\u001b[39m, \u001b[32m\"Distrito Federal\"\u001b[39m, \u001b[32m2982146\u001b[39m),\n",
       "  \u001b[32m2199\u001b[39m -> \u001b[33mCity\u001b[39m(\u001b[32m2199\u001b[39m, \u001b[32m\"Yuyao\"\u001b[39m, \u001b[32m\"CHN\"\u001b[39m, \u001b[32m\"Zhejiang\"\u001b[39m, \u001b[32m114065\u001b[39m),\n",
       "  \u001b[32m3021\u001b[39m -> \u001b[33mCity\u001b[39m(\u001b[32m3021\u001b[39m, \u001b[32m\"Cluj-Napoca\"\u001b[39m, \u001b[32m\"ROM\"\u001b[39m, \u001b[32m\"Cluj\"\u001b[39m, \u001b[32m332498\u001b[39m),\n",
       "  \u001b[32m1322\u001b[39m -> \u001b[33mCity\u001b[39m(\u001b[32m1322\u001b[39m, \u001b[32m\"Bhuj\"\u001b[39m, \u001b[32m\"IND\"\u001b[39m, \u001b[32m\"Gujarat\"\u001b[39m, \u001b[32m102176\u001b[39m),\n",
       "  \u001b[32m1665\u001b[39m -> \u001b[33mCity\u001b[39m(\u001b[32m1665\u001b[39m, \u001b[32m\"Kumagaya\"\u001b[39m, \u001b[32m\"JPN\"\u001b[39m, \u001b[32m\"Saitama\"\u001b[39m, \u001b[32m157171\u001b[39m),\n",
       "  \u001b[32m1036\u001b[39m -> \u001b[33mCity\u001b[39m(\u001b[32m1036\u001b[39m, \u001b[32m\"Jaipur\"\u001b[39m, \u001b[32m\"IND\"\u001b[39m, \u001b[32m\"Rajasthan\"\u001b[39m, \u001b[32m1458483\u001b[39m),\n",
       "  \u001b[32m2822\u001b[39m -> \u001b[33mCity\u001b[39m(\u001b[32m2822\u001b[39m, \u001b[32m\"Karachi\"\u001b[39m, \u001b[32m\"PAK\"\u001b[39m, \u001b[32m\"Sindh\"\u001b[39m, \u001b[32m9269265\u001b[39m),\n",
       "  \u001b[32m2630\u001b[39m -> \u001b[33mCity\u001b[39m(\u001b[32m2630\u001b[39m, \u001b[32m\"Colima\"\u001b[39m, \u001b[32m\"MEX\"\u001b[39m, \u001b[32m\"Colima\"\u001b[39m, \u001b[32m129454\u001b[39m),\n",
       "  \u001b[32m3873\u001b[39m -> \u001b[33mCity\u001b[39m(\u001b[32m3873\u001b[39m, \u001b[32m\"Akron\"\u001b[39m, \u001b[32m\"USA\"\u001b[39m, \u001b[32m\"Ohio\"\u001b[39m, \u001b[32m217074\u001b[39m),\n",
       "  \u001b[32m1586\u001b[39m -> \u001b[33mCity\u001b[39m(\u001b[32m1586\u001b[39m, \u001b[32m\"Takamatsu\"\u001b[39m, \u001b[32m\"JPN\"\u001b[39m, \u001b[32m\"Kagawa\"\u001b[39m, \u001b[32m332471\u001b[39m),\n",
       "  \u001b[32m1501\u001b[39m -> \u001b[33mCity\u001b[39m(\u001b[32m1501\u001b[39m, \u001b[32m\"Terni\"\u001b[39m, \u001b[32m\"ITA\"\u001b[39m, \u001b[32m\"Umbria\"\u001b[39m, \u001b[32m107770\u001b[39m),\n",
       "  \u001b[32m2452\u001b[39m -> \u001b[33mCity\u001b[39m(\n",
       "    \u001b[32m2452\u001b[39m,\n",
       "    \u001b[32m\"Luxembourg [Luxemburg/L\\u00ebtzebuerg]\"\u001b[39m,\n",
       "    \u001b[32m\"LUX\"\u001b[39m,\n",
       "    \u001b[32m\"Luxembourg\"\u001b[39m,\n",
       "    \u001b[32m80700\u001b[39m\n",
       "  ),\n",
       "  \u001b[32m809\u001b[39m -> \u001b[33mCity\u001b[39m(\u001b[32m809\u001b[39m, \u001b[32m\"Imus\"\u001b[39m, \u001b[32m\"PHL\"\u001b[39m, \u001b[32m\"Southern Tagalog\"\u001b[39m, \u001b[32m195482\u001b[39m),\n",
       "  \u001b[32m3962\u001b[39m -> \u001b[33mCity\u001b[39m(\u001b[32m3962\u001b[39m, \u001b[32m\"Grand Prairie\"\u001b[39m, \u001b[32m\"USA\"\u001b[39m, \u001b[32m\"Texas\"\u001b[39m, \u001b[32m127427\u001b[39m),\n",
       "  \u001b[32m1879\u001b[39m -> \u001b[33mCity\u001b[39m(\u001b[32m1879\u001b[39m, \u001b[32m\"Taldyqorghan\"\u001b[39m, \u001b[32m\"KAZ\"\u001b[39m, \u001b[32m\"Almaty\"\u001b[39m, \u001b[32m98000\u001b[39m),\n",
       "  \u001b[32m1337\u001b[39m -> \u001b[33mCity\u001b[39m(\u001b[32m1337\u001b[39m, \u001b[32m\"Sasaram\"\u001b[39m, \u001b[32m\"IND\"\u001b[39m, \u001b[32m\"Bihar\"\u001b[39m, \u001b[32m98220\u001b[39m),\n",
       "  \u001b[32m1718\u001b[39m -> \u001b[33mCity\u001b[39m(\u001b[32m1718\u001b[39m, \u001b[32m\"Higashihiroshima\"\u001b[39m, \u001b[32m\"JPN\"\u001b[39m, \u001b[32m\"Hiroshima\"\u001b[39m, \u001b[32m119166\u001b[39m),\n",
       "  \u001b[32m2094\u001b[39m -> \u001b[33mCity\u001b[39m(\u001b[32m2094\u001b[39m, \u001b[32m\"Jiutai\"\u001b[39m, \u001b[32m\"CHN\"\u001b[39m, \u001b[32m\"Jilin\"\u001b[39m, \u001b[32m180130\u001b[39m),\n",
       "  \u001b[32m3944\u001b[39m -> \u001b[33mCity\u001b[39m(\u001b[32m3944\u001b[39m, \u001b[32m\"Hayward\"\u001b[39m, \u001b[32m\"USA\"\u001b[39m, \u001b[32m\"California\"\u001b[39m, \u001b[32m140030\u001b[39m),\n",
       "  \u001b[32m1411\u001b[39m -> \u001b[33mCity\u001b[39m(\u001b[32m1411\u001b[39m, \u001b[32m\"Khomeynishahr\"\u001b[39m, \u001b[32m\"IRN\"\u001b[39m, \u001b[32m\"Esfahan\"\u001b[39m, \u001b[32m165888\u001b[39m),\n",
       "  \u001b[32m629\u001b[39m -> \u001b[33mCity\u001b[39m(\u001b[32m629\u001b[39m, \u001b[32m\"Sawhaj\"\u001b[39m, \u001b[32m\"EGY\"\u001b[39m, \u001b[32m\"Sawhaj\"\u001b[39m, \u001b[32m170125\u001b[39m),\n",
       "  \u001b[32m3883\u001b[39m -> \u001b[33mCity\u001b[39m(\u001b[32m3883\u001b[39m, \u001b[32m\"Chesapeake\"\u001b[39m, \u001b[32m\"USA\"\u001b[39m, \u001b[32m\"Virginia\"\u001b[39m, \u001b[32m199184\u001b[39m),\n",
       "  \u001b[32m2612\u001b[39m -> \u001b[33mCity\u001b[39m(\u001b[32m2612\u001b[39m, \u001b[32m\"Minatitl\\u00e1n\"\u001b[39m, \u001b[32m\"MEX\"\u001b[39m, \u001b[32m\"Veracruz\"\u001b[39m, \u001b[32m152983\u001b[39m),\n",
       "  \u001b[32m1024\u001b[39m -> \u001b[33mCity\u001b[39m(\u001b[32m1024\u001b[39m, \u001b[32m\"Mumbai (Bombay)\"\u001b[39m, \u001b[32m\"IND\"\u001b[39m, \u001b[32m\"Maharashtra\"\u001b[39m, \u001b[32m10500000\u001b[39m),\n",
       "  \u001b[32m1469\u001b[39m -> \u001b[33mCity\u001b[39m(\u001b[32m1469\u001b[39m, \u001b[32m\"Genova\"\u001b[39m, \u001b[32m\"ITA\"\u001b[39m, \u001b[32m\"Liguria\"\u001b[39m, \u001b[32m636104\u001b[39m),\n",
       "  \u001b[32m365\u001b[39m -> \u001b[33mCity\u001b[39m(\u001b[32m365\u001b[39m, \u001b[32m\"Po\\u00e7os de Caldas\"\u001b[39m, \u001b[32m\"BRA\"\u001b[39m, \u001b[32m\"Minas Gerais\"\u001b[39m, \u001b[32m129683\u001b[39m),\n",
       "  \u001b[32m2744\u001b[39m -> \u001b[33mCity\u001b[39m(\u001b[32m2744\u001b[39m, \u001b[32m\"Kano\"\u001b[39m, \u001b[32m\"NGA\"\u001b[39m, \u001b[32m\"Kano & Jigawa\"\u001b[39m, \u001b[32m674100\u001b[39m),\n",
       "  \u001b[32m1369\u001b[39m -> \u001b[33mCity\u001b[39m(\u001b[32m1369\u001b[39m, \u001b[32m\"Basra\"\u001b[39m, \u001b[32m\"IRQ\"\u001b[39m, \u001b[32m\"Basra\"\u001b[39m, \u001b[32m406296\u001b[39m),\n",
       "...\n",
       "\u001b[36mrealWorld\u001b[39m: \u001b[32mWorld\u001b[39m = \u001b[33mWorld\u001b[39m(\n",
       "  \u001b[33mHashMap\u001b[39m(\n",
       "    \u001b[32m\"CYM\"\u001b[39m -> \u001b[33mCountry\u001b[39m(\u001b[32m\"CYM\"\u001b[39m, \u001b[32m\"Cayman Islands\"\u001b[39m, \u001b[33mSome\u001b[39m(\u001b[32m553\u001b[39m)),\n",
       "    \u001b[32m\"MNG\"\u001b[39m -> \u001b[33mCountry\u001b[39m(\u001b[32m\"MNG\"\u001b[39m, \u001b[32m\"Mongolia\"\u001b[39m, \u001b[33mSome\u001b[39m(\u001b[32m2696\u001b[39m)),\n",
       "    \u001b[32m\"SYR\"\u001b[39m -> \u001b[33mCountry\u001b[39m(\u001b[32m\"SYR\"\u001b[39m, \u001b[32m\"Syria\"\u001b[39m, \u001b[33mSome\u001b[39m(\u001b[32m3250\u001b[39m)),\n",
       "    \u001b[32m\"LTU\"\u001b[39m -> \u001b[33mCountry\u001b[39m(\u001b[32m\"LTU\"\u001b[39m, \u001b[32m\"Lithuania\"\u001b[39m, \u001b[33mSome\u001b[39m(\u001b[32m2447\u001b[39m)),\n",
       "    \u001b[32m\"GMB\"\u001b[39m -> \u001b[33mCountry\u001b[39m(\u001b[32m\"GMB\"\u001b[39m, \u001b[32m\"Gambia\"\u001b[39m, \u001b[33mSome\u001b[39m(\u001b[32m904\u001b[39m)),\n",
       "    \u001b[32m\"UZB\"\u001b[39m -> \u001b[33mCountry\u001b[39m(\u001b[32m\"UZB\"\u001b[39m, \u001b[32m\"Uzbekistan\"\u001b[39m, \u001b[33mSome\u001b[39m(\u001b[32m3503\u001b[39m)),\n",
       "    \u001b[32m\"MAC\"\u001b[39m -> \u001b[33mCountry\u001b[39m(\u001b[32m\"MAC\"\u001b[39m, \u001b[32m\"Macao\"\u001b[39m, \u001b[33mSome\u001b[39m(\u001b[32m2454\u001b[39m)),\n",
       "    \u001b[32m\"KHM\"\u001b[39m -> \u001b[33mCountry\u001b[39m(\u001b[32m\"KHM\"\u001b[39m, \u001b[32m\"Cambodia\"\u001b[39m, \u001b[33mSome\u001b[39m(\u001b[32m1800\u001b[39m)),\n",
       "    \u001b[32m\"ROM\"\u001b[39m -> \u001b[33mCountry\u001b[39m(\u001b[32m\"ROM\"\u001b[39m, \u001b[32m\"Romania\"\u001b[39m, \u001b[33mSome\u001b[39m(\u001b[32m3018\u001b[39m)),\n",
       "    \u001b[32m\"BMU\"\u001b[39m -> \u001b[33mCountry\u001b[39m(\u001b[32m\"BMU\"\u001b[39m, \u001b[32m\"Bermuda\"\u001b[39m, \u001b[33mSome\u001b[39m(\u001b[32m191\u001b[39m)),\n",
       "    \u001b[32m\"GUF\"\u001b[39m -> \u001b[33mCountry\u001b[39m(\u001b[32m\"GUF\"\u001b[39m, \u001b[32m\"French Guiana\"\u001b[39m, \u001b[33mSome\u001b[39m(\u001b[32m3014\u001b[39m)),\n",
       "    \u001b[32m\"SWE\"\u001b[39m -> \u001b[33mCountry\u001b[39m(\u001b[32m\"SWE\"\u001b[39m, \u001b[32m\"Sweden\"\u001b[39m, \u001b[33mSome\u001b[39m(\u001b[32m3048\u001b[39m)),\n",
       "    \u001b[32m\"ARM\"\u001b[39m -> \u001b[33mCountry\u001b[39m(\u001b[32m\"ARM\"\u001b[39m, \u001b[32m\"Armenia\"\u001b[39m, \u001b[33mSome\u001b[39m(\u001b[32m126\u001b[39m)),\n",
       "    \u001b[32m\"LAO\"\u001b[39m -> \u001b[33mCountry\u001b[39m(\u001b[32m\"LAO\"\u001b[39m, \u001b[32m\"Laos\"\u001b[39m, \u001b[33mSome\u001b[39m(\u001b[32m2432\u001b[39m)),\n",
       "    \u001b[32m\"SPM\"\u001b[39m -> \u001b[33mCountry\u001b[39m(\u001b[32m\"SPM\"\u001b[39m, \u001b[32m\"Saint Pierre and Miquelon\"\u001b[39m, \u001b[33mSome\u001b[39m(\u001b[32m3067\u001b[39m)),\n",
       "    \u001b[32m\"GNQ\"\u001b[39m -> \u001b[33mCountry\u001b[39m(\u001b[32m\"GNQ\"\u001b[39m, \u001b[32m\"Equatorial Guinea\"\u001b[39m, \u001b[33mSome\u001b[39m(\u001b[32m2972\u001b[39m)),\n",
       "    \u001b[32m\"USA\"\u001b[39m -> \u001b[33mCountry\u001b[39m(\u001b[32m\"USA\"\u001b[39m, \u001b[32m\"United States\"\u001b[39m, \u001b[33mSome\u001b[39m(\u001b[32m3813\u001b[39m)),\n",
       "    \u001b[32m\"CXR\"\u001b[39m -> \u001b[33mCountry\u001b[39m(\u001b[32m\"CXR\"\u001b[39m, \u001b[32m\"Christmas Island\"\u001b[39m, \u001b[33mSome\u001b[39m(\u001b[32m1791\u001b[39m)),\n",
       "    \u001b[32m\"VAT\"\u001b[39m -> \u001b[33mCountry\u001b[39m(\u001b[32m\"VAT\"\u001b[39m, \u001b[32m\"Holy See (Vatican City State)\"\u001b[39m, \u001b[33mSome\u001b[39m(\u001b[32m3538\u001b[39m)),\n",
       "    \u001b[32m\"MDV\"\u001b[39m -> \u001b[33mCountry\u001b[39m(\u001b[32m\"MDV\"\u001b[39m, \u001b[32m\"Maldives\"\u001b[39m, \u001b[33mSome\u001b[39m(\u001b[32m2463\u001b[39m)),\n",
       "    \u001b[32m\"FJI\"\u001b[39m -> \u001b[33mCountry\u001b[39m(\u001b[32m\"FJI\"\u001b[39m, \u001b[32m\"Fiji Islands\"\u001b[39m, \u001b[33mSome\u001b[39m(\u001b[32m764\u001b[39m)),\n",
       "    \u001b[32m\"HTI\"\u001b[39m -> \u001b[33mCountry\u001b[39m(\u001b[32m\"HTI\"\u001b[39m, \u001b[32m\"Haiti\"\u001b[39m, \u001b[33mSome\u001b[39m(\u001b[32m929\u001b[39m)),\n",
       "    \u001b[32m\"IDN\"\u001b[39m -> \u001b[33mCountry\u001b[39m(\u001b[32m\"IDN\"\u001b[39m, \u001b[32m\"Indonesia\"\u001b[39m, \u001b[33mSome\u001b[39m(\u001b[32m939\u001b[39m)),\n",
       "    \u001b[32m\"LVA\"\u001b[39m -> \u001b[33mCountry\u001b[39m(\u001b[32m\"LVA\"\u001b[39m, \u001b[32m\"Latvia\"\u001b[39m, \u001b[33mSome\u001b[39m(\u001b[32m2434\u001b[39m)),\n",
       "    \u001b[32m\"HUN\"\u001b[39m -> \u001b[33mCountry\u001b[39m(\u001b[32m\"HUN\"\u001b[39m, \u001b[32m\"Hungary\"\u001b[39m, \u001b[33mSome\u001b[39m(\u001b[32m3483\u001b[39m)),\n",
       "    \u001b[32m\"BLR\"\u001b[39m -> \u001b[33mCountry\u001b[39m(\u001b[32m\"BLR\"\u001b[39m, \u001b[32m\"Belarus\"\u001b[39m, \u001b[33mSome\u001b[39m(\u001b[32m3520\u001b[39m)),\n",
       "    \u001b[32m\"MSR\"\u001b[39m -> \u001b[33mCountry\u001b[39m(\u001b[32m\"MSR\"\u001b[39m, \u001b[32m\"Montserrat\"\u001b[39m, \u001b[33mSome\u001b[39m(\u001b[32m2697\u001b[39m)),\n",
       "    \u001b[32m\"PNG\"\u001b[39m -> \u001b[33mCountry\u001b[39m(\u001b[32m\"PNG\"\u001b[39m, \u001b[32m\"Papua New Guinea\"\u001b[39m, \u001b[33mSome\u001b[39m(\u001b[32m2884\u001b[39m)),\n",
       "    \u001b[32m\"GUY\"\u001b[39m -> \u001b[33mCountry\u001b[39m(\u001b[32m\"GUY\"\u001b[39m, \u001b[32m\"Guyana\"\u001b[39m, \u001b[33mSome\u001b[39m(\u001b[32m928\u001b[39m)),\n",
       "    \u001b[32m\"DNK\"\u001b[39m -> \u001b[33mCountry\u001b[39m(\u001b[32m\"DNK\"\u001b[39m, \u001b[32m\"Denmark\"\u001b[39m, \u001b[33mSome\u001b[39m(\u001b[32m3315\u001b[39m)),\n",
       "    \u001b[32m\"FIN\"\u001b[39m -> \u001b[33mCountry\u001b[39m(\u001b[32m\"FIN\"\u001b[39m, \u001b[32m\"Finland\"\u001b[39m, \u001b[33mSome\u001b[39m(\u001b[32m3236\u001b[39m)),\n",
       "    \u001b[32m\"DMA\"\u001b[39m -> \u001b[33mCountry\u001b[39m(\u001b[32m\"DMA\"\u001b[39m, \u001b[32m\"Dominica\"\u001b[39m, \u001b[33mSome\u001b[39m(\u001b[32m586\u001b[39m)),\n",
       "    \u001b[32m\"COG\"\u001b[39m -> \u001b[33mCountry\u001b[39m(\u001b[32m\"COG\"\u001b[39m, \u001b[32m\"Congo\"\u001b[39m, \u001b[33mSome\u001b[39m(\u001b[32m2296\u001b[39m)),\n",
       "    \u001b[32m\"CIV\"\u001b[39m -> \u001b[33mCountry\u001b[39m(\u001b[32m\"CIV\"\u001b[39m, \u001b[32m\"C\\u00f4te d\\u0092Ivoire\"\u001b[39m, \u001b[33mSome\u001b[39m(\u001b[32m2814\u001b[39m)),\n",
       "    \u001b[32m\"SDN\"\u001b[39m -> \u001b[33mCountry\u001b[39m(\u001b[32m\"SDN\"\u001b[39m, \u001b[32m\"Sudan\"\u001b[39m, \u001b[33mSome\u001b[39m(\u001b[32m3225\u001b[39m)),\n",
       "    \u001b[32m\"CHE\"\u001b[39m -> \u001b[33mCountry\u001b[39m(\u001b[32m\"CHE\"\u001b[39m, \u001b[32m\"Switzerland\"\u001b[39m, \u001b[33mSome\u001b[39m(\u001b[32m3248\u001b[39m)),\n",
       "    \u001b[32m\"VIR\"\u001b[39m -> \u001b[33mCountry\u001b[39m(\u001b[32m\"VIR\"\u001b[39m, \u001b[32m\"Virgin Islands, U.S.\"\u001b[39m, \u001b[33mSome\u001b[39m(\u001b[32m4067\u001b[39m)),\n",
       "..."
      ]
     },
     "execution_count": 10,
     "metadata": {},
     "output_type": "execute_result"
    }
   ],
   "source": [
    "val realCountries: List[Country] = \n",
    "    sql\"select code, name, capital from country\"\n",
    "        .query[Country].to[List].transact(xa).unsafeRunSync\n",
    "\n",
    "val realCities: List[City] = \n",
    "    sql\"select id, name, countryCode, district, population from city\"\n",
    "        .query[City].to[List].transact(xa).unsafeRunSync\n",
    "\n",
    "val realMapCities: Map[Int, City] = \n",
    "    Map.from(realCities.map(city => (city.id, city)))\n",
    "\n",
    "val realWorld = World(\n",
    "    Map.from(realCountries.map(c => (c.code, c))), realMapCities)"
   ]
  },
  {
   "cell_type": "code",
   "execution_count": 11,
   "metadata": {},
   "outputs": [
    {
     "name": "stdout",
     "output_type": "stream",
     "text": [
      "2725 millis\n"
     ]
    },
    {
     "data": {
      "text/plain": [
       "\u001b[36mres10\u001b[39m: \u001b[32mList\u001b[39m[(\u001b[32mString\u001b[39m, \u001b[32mString\u001b[39m)] = \u001b[33mList\u001b[39m(\n",
       "  (\u001b[32m\"Jakarta\"\u001b[39m, \u001b[32m\"Indonesia\"\u001b[39m),\n",
       "  (\u001b[32m\"Ciudad de M\\u00e9xico\"\u001b[39m, \u001b[32m\"Mexico\"\u001b[39m),\n",
       "  (\u001b[32m\"Moscow\"\u001b[39m, \u001b[32m\"Russian Federation\"\u001b[39m),\n",
       "  (\u001b[32m\"Seoul\"\u001b[39m, \u001b[32m\"South Korea\"\u001b[39m)\n",
       ")"
      ]
     },
     "execution_count": 11,
     "metadata": {},
     "output_type": "execute_result"
    }
   ],
   "source": [
    "largeCapitals[WorldReader]\n",
    "    .apply(realWorld)\n",
    "    .value\n",
    "    .timed"
   ]
  },
  {
   "cell_type": "markdown",
   "metadata": {},
   "source": [
    "TBD: really bad performance, why? boxing?"
   ]
  },
  {
   "cell_type": "markdown",
   "metadata": {},
   "source": [
    "TBD: Naive doobie instance.\n",
    "\n",
    "TBD: Optimum SQL instance\n",
    "\n",
    "TBD: Optimun MongoDB instance."
   ]
  },
  {
   "cell_type": "code",
   "execution_count": null,
   "metadata": {},
   "outputs": [],
   "source": []
  },
  {
   "cell_type": "code",
   "execution_count": null,
   "metadata": {},
   "outputs": [],
   "source": []
  }
 ],
 "metadata": {
  "kernelspec": {
   "display_name": "Scala",
   "language": "scala",
   "name": "scala"
  },
  "language_info": {
   "codemirror_mode": "text/x-scala",
   "file_extension": ".scala",
   "mimetype": "text/x-scala",
   "name": "scala",
   "nbconvert_exporter": "script",
   "version": "2.13.0"
  }
 },
 "nbformat": 4,
 "nbformat_minor": 4
}
