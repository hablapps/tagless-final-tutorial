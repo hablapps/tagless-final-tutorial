{
 "cells": [
  {
   "cell_type": "code",
   "execution_count": 1,
   "metadata": {},
   "outputs": [
    {
     "data": {
      "text/plain": [
       "\u001b[32mimport \u001b[39m\u001b[36m$file.$     \n",
       "\u001b[39m\n",
       "\u001b[32mimport \u001b[39m\u001b[36mcommon._\n",
       "\u001b[39m\n",
       "\u001b[32mimport \u001b[39m\u001b[36mcats.data._, cats._, cats.implicits._\n",
       "\u001b[39m\n",
       "\u001b[32mimport \u001b[39m\u001b[36mdoobie.implicits._\n",
       "\u001b[39m\n",
       "\u001b[32mimport \u001b[39m\u001b[36mdoobie.util.fragment._\u001b[39m"
      ]
     },
     "execution_count": 1,
     "metadata": {},
     "output_type": "execute_result"
    }
   ],
   "source": [
    "import $file.common\n",
    "import common._\n",
    "import cats.data._, cats._, cats.implicits._\n",
    "import doobie.implicits._\n",
    "import doobie.util.fragment._"
   ]
  },
  {
   "cell_type": "markdown",
   "metadata": {},
   "source": [
    "# Variation 8a. Finally, QUEΛ"
   ]
  },
  {
   "cell_type": "code",
   "execution_count": 2,
   "metadata": {},
   "outputs": [
    {
     "data": {
      "text/plain": [
       "defined \u001b[32mtrait\u001b[39m \u001b[36mQUEΛ\u001b[39m\n",
       "defined \u001b[32mobject\u001b[39m \u001b[36mQUEΛ\u001b[39m"
      ]
     },
     "execution_count": 2,
     "metadata": {},
     "output_type": "execute_result"
    }
   ],
   "source": [
    "trait QUEΛ[Repr[_]]{\n",
    "    // base types\n",
    "    \n",
    "    def bool(b: Boolean): Repr[Boolean]\n",
    "    def int(i: Int): Repr[Int]\n",
    "    def str(s: String): Repr[String]\n",
    "    \n",
    "    def >(i1: Repr[Int], i2: Repr[Int]): Repr[Boolean]\n",
    "        \n",
    "    // ADTs\n",
    "    \n",
    "    def tuple2[A, B](a: Repr[A], b: Repr[B]): Repr[(A, B)]\n",
    "    \n",
    "    def none[A]: Repr[Option[A]]\n",
    "    def some[A](a: Repr[A]): Repr[Option[A]]\n",
    "    def exists[A](o: Repr[Option[A]])(\n",
    "        cond: Repr[A] => Repr[Boolean]): Repr[Boolean]\n",
    "    \n",
    "    // Comprehensions\n",
    "    \n",
    "    def bind[A, B](q: Repr[List[A]])(\n",
    "        f: Repr[A] => Repr[List[B]]): Repr[List[B]]\n",
    "    def pure[A](a: Repr[A]): Repr[List[A]]\n",
    "    def where[A](cond: Repr[Boolean])(q: Repr[List[A]]): Repr[List[A]]\n",
    "    \n",
    "    // Equality\n",
    "    \n",
    "    def ===[A](a1: Repr[A], a2: Repr[A]): Repr[Boolean]\n",
    "}\n",
    "\n",
    "object QUEΛ{\n",
    "    object syntax{\n",
    "        implicit class ComprehensionOps[Repr[_], A](la: Repr[List[A]])(implicit Q: QUEΛ[Repr]){\n",
    "            def flatMap[B](cont: Repr[A] => Repr[List[B]]): Repr[List[B]] = \n",
    "                Q.bind(la)(cont)\n",
    "            def map[B](f: Repr[A] => Repr[B]): Repr[List[B]] = \n",
    "                Q.bind(la)(a => Q.pure(f(a)))\n",
    "            def withFilter(p: Repr[A] => Repr[Boolean]): Repr[List[A]] = \n",
    "                Q.bind(la)(a => Q.where(p(a))(Q.pure(a)))\n",
    "        }\n",
    "\n",
    "        implicit class BinOps[Repr[_], A](a1: Repr[A])(implicit Q: QUEΛ[Repr]){\n",
    "            def ===(a2: Repr[A]): Repr[Boolean] = Q.===(a1, a2)\n",
    "            def >(a2: Repr[Int])(implicit eq: Repr[A] =:= Repr[Int]): Repr[Boolean] = \n",
    "                Q.>(eq(a1), a2)\n",
    "        }\n",
    "\n",
    "        implicit def Tuple2QUEΛ[Repr[_], A, B](t2: (Repr[A], Repr[B]))(implicit Q: QUEΛ[Repr]): Repr[(A, B)] = \n",
    "            Q.tuple2(t2._1, t2._2)\n",
    "        \n",
    "        implicit class OptionOps[Repr[_], A](o: Repr[Option[A]])(implicit Q: QUEΛ[Repr]){\n",
    "            def exists(cond: Repr[A] => Repr[Boolean]): Repr[Boolean] = \n",
    "                Q.exists(o)(cond)\n",
    "        }\n",
    "\n",
    "        implicit def IntQUEΛ[Repr[_]](i: Int)(implicit Q: QUEΛ[Repr]): Repr[Int] = \n",
    "            Q.int(i)\n",
    "    }\n",
    "}"
   ]
  },
  {
   "cell_type": "markdown",
   "metadata": {},
   "source": [
    "Our usual case classes, but used as phantom types in the API."
   ]
  },
  {
   "cell_type": "code",
   "execution_count": 3,
   "metadata": {},
   "outputs": [
    {
     "data": {
      "text/plain": [
       "defined \u001b[32mclass\u001b[39m \u001b[36mCountry\u001b[39m\n",
       "defined \u001b[32mclass\u001b[39m \u001b[36mCity\u001b[39m\n",
       "defined \u001b[32mclass\u001b[39m \u001b[36mWorld\u001b[39m"
      ]
     },
     "execution_count": 3,
     "metadata": {},
     "output_type": "execute_result"
    }
   ],
   "source": [
    "case class Country(\n",
    "    code: String, \n",
    "    name: String, \n",
    "    capital: Option[Int])\n",
    "\n",
    "case class City(\n",
    "    id: Int, \n",
    "    name: String, \n",
    "    countryCode: String, \n",
    "    district: String,\n",
    "    population: Int)\n",
    "\n",
    "case class World(\n",
    "    countries: Map[String, Country], \n",
    "    cities: Map[Int, City])"
   ]
  },
  {
   "cell_type": "code",
   "execution_count": 4,
   "metadata": {},
   "outputs": [
    {
     "data": {
      "text/plain": [
       "defined \u001b[32mtrait\u001b[39m \u001b[36mCityModel\u001b[39m\n",
       "defined \u001b[32mtrait\u001b[39m \u001b[36mCountryModel\u001b[39m\n",
       "defined \u001b[32mtrait\u001b[39m \u001b[36mWorldModel\u001b[39m\n",
       "defined \u001b[32mobject\u001b[39m \u001b[36mWorldModel\u001b[39m"
      ]
     },
     "execution_count": 4,
     "metadata": {},
     "output_type": "execute_result"
    }
   ],
   "source": [
    "trait CityModel[Repr[_]]{\n",
    "    def id(city: Repr[City]): Repr[Int]\n",
    "    def name(city: Repr[City]): Repr[String]\n",
    "    def country(country: Repr[City]): Repr[String]\n",
    "    def population(city: Repr[City]): Repr[Int]\n",
    "}\n",
    "\n",
    "trait CountryModel[Repr[_]]{\n",
    "    def code(country: Repr[Country]): Repr[String]\n",
    "    def name(country: Repr[Country]): Repr[String]\n",
    "    def capital(country: Repr[Country]): Repr[Option[Int]]\n",
    "}\n",
    "\n",
    "trait WorldModel[Repr[_]]{\n",
    "    val Ci: CityModel[Repr]\n",
    "    val Co: CountryModel[Repr]\n",
    "    def countries: Repr[List[Country]]\n",
    "    def cities: Repr[List[City]]\n",
    "}\n",
    "\n",
    "object WorldModel{\n",
    "    \n",
    "    object syntax{\n",
    "        def countries[Repr[_]](implicit W: WorldModel[Repr]) = \n",
    "            W.countries\n",
    "        def cities[Repr[_]](implicit W: WorldModel[Repr]) = \n",
    "            W.cities\n",
    "        def name[Repr[_]](c: Repr[Country])(implicit W: WorldModel[Repr]) = \n",
    "            W.Co.name(c)\n",
    "        def capital[Repr[_]](c: Repr[Country])(implicit W: WorldModel[Repr]) = \n",
    "            W.Co.capital(c)\n",
    "        def id[Repr[_]](c: Repr[City])(implicit W: WorldModel[Repr]) = \n",
    "            W.Ci.id(c)        \n",
    "        def cityName[Repr[_]](c: Repr[City])(implicit W: WorldModel[Repr]) = \n",
    "            W.Ci.name(c)        \n",
    "        def population[Repr[_]](c: Repr[City])(implicit W: WorldModel[Repr]) = \n",
    "            W.Ci.population(c)\n",
    "    }\n",
    "}"
   ]
  },
  {
   "cell_type": "code",
   "execution_count": 5,
   "metadata": {},
   "outputs": [
    {
     "data": {
      "text/plain": [
       "\u001b[32mimport \u001b[39m\u001b[36mQUEΛ.syntax._, WorldModel.syntax._\u001b[39m"
      ]
     },
     "execution_count": 5,
     "metadata": {},
     "output_type": "execute_result"
    }
   ],
   "source": [
    "import QUEΛ.syntax._, WorldModel.syntax._"
   ]
  },
  {
   "cell_type": "code",
   "execution_count": 6,
   "metadata": {},
   "outputs": [
    {
     "data": {
      "text/plain": [
       "defined \u001b[32mfunction\u001b[39m \u001b[36mlargeCapitals\u001b[39m"
      ]
     },
     "execution_count": 6,
     "metadata": {},
     "output_type": "execute_result"
    }
   ],
   "source": [
    "def largeCapitals[Repr[_]: QUEΛ: WorldModel]: Repr[List[(String, String)]] = \n",
    "    for {\n",
    "        country <- countries\n",
    "        city <- cities if capital(country).exists(_ === id(city))\n",
    "        if population(city) > 8000000\n",
    "    } yield (cityName(city), name(country))"
   ]
  },
  {
   "cell_type": "code",
   "execution_count": 6,
   "metadata": {},
   "outputs": [],
   "source": [
    "/*def query[Repr[_]](implicit Q: QUEΛ[Repr], W: WorldModel[Repr]): Repr[List[(String, String)]] = \n",
    "    Q.bind(W.countries){ country => \n",
    "        Q.bind(W.cities){ city => \n",
    "            Q.where(Q.===(W.Co.capital(country), W.Ci.id(city))){\n",
    "                Q.pure(Q.tuple2(W.Ci.name(city), W.Co.name(country)))\n",
    "            }\n",
    "        }\n",
    "    }\n",
    "  */  "
   ]
  },
  {
   "cell_type": "code",
   "execution_count": 7,
   "metadata": {},
   "outputs": [
    {
     "data": {
      "text/plain": [
       "defined \u001b[32mclass\u001b[39m \u001b[36mStdQUEΛ\u001b[39m"
      ]
     },
     "execution_count": 7,
     "metadata": {},
     "output_type": "execute_result"
    }
   ],
   "source": [
    "class StdQUEΛ[F[_]: Monad, S] extends QUEΛ[ReaderT[F, S, ?]]{\n",
    "    // BASE TYPES\n",
    "\n",
    "    def bool(b: Boolean): ReaderT[F, S, Boolean] = \n",
    "        Kleisli.pure(b)\n",
    "    def int(i: Int): ReaderT[F, S, Int] = \n",
    "        Kleisli.pure(i)\n",
    "    def str(s: String): ReaderT[F, S, String] = \n",
    "        Kleisli.pure(s)\n",
    "\n",
    "    def >(i1: ReaderT[F, S, Int], i2: ReaderT[F, S, Int]): ReaderT[F, S, Boolean] = \n",
    "        (i1, i2).mapN(_ > _)\n",
    "\n",
    "    // ADTs\n",
    "\n",
    "    def tuple2[A, B](a: ReaderT[F, S, A], b: ReaderT[F, S, B]): ReaderT[F, S, (A, B)] = \n",
    "        Applicative[ReaderT[F, S, ?]].tuple2(a,b)\n",
    "\n",
    "    def none[A]: ReaderT[F, S, Option[A]] = \n",
    "        Kleisli.pure(None)\n",
    "    def some[A](a: ReaderT[F, S, A]): ReaderT[F, S, Option[A]] = \n",
    "        a.map(Some(_))\n",
    "    def exists[A](a: ReaderT[F, S, Option[A]])(\n",
    "        cond: ReaderT[F, S, A] => ReaderT[F, S, Boolean]): ReaderT[F, S, Boolean] = \n",
    "        a.flatMap{ _.fold(Kleisli{ s: S => false.pure[F]}){\n",
    "            a => cond(Kleisli.pure(a))\n",
    "        }}\n",
    "\n",
    "    // COMPREHENSIONS\n",
    "\n",
    "    def bind[A, B](q: ReaderT[F, S, List[A]])(\n",
    "            f: ReaderT[F, S, A] => ReaderT[F, S, List[B]]): ReaderT[F, S, List[B]] = \n",
    "        q.flatMap{ _.traverse((a: A) => \n",
    "            f(Kleisli.pure(a))).map(_.flatten)\n",
    "        }\n",
    "    def pure[A](a: ReaderT[F, S, A]): ReaderT[F, S, List[A]] = \n",
    "        a.map(List(_))\n",
    "    def where[A](cond: ReaderT[F, S, Boolean])(q: ReaderT[F, S, List[A]]): ReaderT[F, S, List[A]] = \n",
    "        cond.flatMap{ if (_) q else Kleisli.pure(List()) }\n",
    "\n",
    "    // EQUALITY\n",
    "\n",
    "    def ===[A](a1: ReaderT[F, S, A], a2: ReaderT[F, S, A]): ReaderT[F, S, Boolean] = \n",
    "        (a1, a2).mapN(_ == _)\n",
    "}"
   ]
  },
  {
   "cell_type": "code",
   "execution_count": 7,
   "metadata": {},
   "outputs": [
    {
     "name": "stderr",
     "output_type": "stream",
     "text": [
      "cmd7.sc:6: could not find implicit value for parameter e: Helper.this.WR[String] =:= cats.data.Kleisli[cats.Eval,cmd7.this.cmd2.World,String] @@ Int\n",
      "val res7_4 = implicitly[WR[String] =:= Kleisli[Eval, World, String] @@ Int]\n",
      "                       ^Compilation Failed"
     ]
    },
    {
     "ename": "",
     "evalue": "",
     "output_type": "error",
     "traceback": [
      "Compilation Failed"
     ]
    }
   ],
   "source": [
    "import $ivy.`com.softwaremill.common::tagging:2.2.1`\n",
    "import com.softwaremill.tagging._\n",
    "\n",
    "type WR[T] = Kleisli[Eval, World, T] @@ Int\n",
    "val w: WR[String] = Kleisli.pure[Eval, World, String](\"a\").taggedWith[Int]\n",
    "implicitly[WR[String] =:= Kleisli[Eval, World, String] @@ Int]"
   ]
  },
  {
   "cell_type": "code",
   "execution_count": null,
   "metadata": {},
   "outputs": [],
   "source": [
    "/* TBD\n",
    "import $ivy.`com.softwaremill.common::tagging:2.2.1`\n",
    "import com.softwaremill.tagging._\n",
    "type WorldReader[T] = ReaderT[Eval, World, T] @@  WRC\n",
    "*/\n",
    "\n",
    "type WorldReader[T] = ReaderT[Eval, World, T]\n",
    "\n",
    "object WorldReader{    \n",
    "    \n",
    "    implicit val QUEΛ = new StdQUEΛ[Eval, World]\n",
    "\n",
    "    implicit object Model extends WorldModel[WorldReader]{\n",
    "        val Ci = new CityModel[WorldReader]{\n",
    "            def id(city: WorldReader[City]): WorldReader[Int] = \n",
    "                city.map{_.id}\n",
    "            def name(city: WorldReader[City]): WorldReader[String] = \n",
    "                city.map{_.name}\n",
    "            def country(city: WorldReader[City]): WorldReader[String] = \n",
    "                city.map{_.countryCode}\n",
    "            def population(city: WorldReader[City]): WorldReader[Int] = \n",
    "                city.map{_.population}\n",
    "        }\n",
    "\n",
    "        val Co = new CountryModel[WorldReader]{\n",
    "            def code(country: WorldReader[Country]): WorldReader[String] = \n",
    "                country.map{_.code}\n",
    "            def name(country: WorldReader[Country]): WorldReader[String] = \n",
    "                country.map{_.name}\n",
    "            def capital(country: WorldReader[Country]): WorldReader[Option[Int]] = \n",
    "                country.map{_.capital}\n",
    "        }\n",
    "\n",
    "        def countries: WorldReader[List[Country]] = \n",
    "            Kleisli{ world => Eval.now(world.countries.values.toList) }\n",
    "\n",
    "        def cities: WorldReader[List[City]] = \n",
    "            Kleisli{ world => Eval.now(world.cities.values.toList) }\n",
    "    }\n",
    "}"
   ]
  },
  {
   "cell_type": "code",
   "execution_count": null,
   "metadata": {},
   "outputs": [],
   "source": [
    "val realCountries: List[Country] = \n",
    "    sql\"select code, name, capital from country\"\n",
    "        .query[Country].to[List].transact(xa).unsafeRunSync\n",
    "\n",
    "val realCities: List[City] = \n",
    "    sql\"select id, name, countryCode, district, population from city\"\n",
    "        .query[City].to[List].transact(xa).unsafeRunSync\n",
    "\n",
    "val realMapCities: Map[Int, City] = \n",
    "    Map.from(realCities.map(city => (city.id, city)))\n",
    "\n",
    "val realWorld = World(\n",
    "    Map.from(realCountries.map(c => (c.code, c))), realMapCities)"
   ]
  },
  {
   "cell_type": "code",
   "execution_count": null,
   "metadata": {},
   "outputs": [],
   "source": [
    "largeCapitals(WorldReader.QUEΛ, WorldReader.Model)\n",
    "    .apply(realWorld)\n",
    "    .value\n",
    "    .timed"
   ]
  },
  {
   "cell_type": "markdown",
   "metadata": {},
   "source": [
    "TBD: really bad performance, why? boxing?"
   ]
  },
  {
   "cell_type": "markdown",
   "metadata": {},
   "source": [
    "TBD: Naive doobie instance.\n",
    "\n",
    "TBD: Optimum SQL instance\n",
    "\n",
    "TBD: Optimun MongoDB instance."
   ]
  },
  {
   "cell_type": "code",
   "execution_count": null,
   "metadata": {},
   "outputs": [],
   "source": []
  },
  {
   "cell_type": "code",
   "execution_count": null,
   "metadata": {},
   "outputs": [],
   "source": []
  }
 ],
 "metadata": {
  "kernelspec": {
   "display_name": "Scala",
   "language": "scala",
   "name": "scala"
  },
  "language_info": {
   "codemirror_mode": "text/x-scala",
   "file_extension": ".scala",
   "mimetype": "text/x-scala",
   "name": "scala",
   "nbconvert_exporter": "script",
   "version": "2.13.0"
  }
 },
 "nbformat": 4,
 "nbformat_minor": 4
}
