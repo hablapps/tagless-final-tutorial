{
 "cells": [
  {
   "cell_type": "markdown",
   "metadata": {},
   "source": [
    "# Variation 8b. QUEΛ to SQL "
   ]
  },
  {
   "cell_type": "markdown",
   "metadata": {},
   "source": [
    "Warm up exercise: a string representation for QUEΛ queries"
   ]
  },
  {
   "cell_type": "code",
   "execution_count": 15,
   "metadata": {},
   "outputs": [
    {
     "data": {
      "text/plain": [
       "defined \u001b[32mtype\u001b[39m \u001b[36mStringRep\u001b[39m\n",
       "defined \u001b[32mobject\u001b[39m \u001b[36mStringQUEΛ\u001b[39m"
      ]
     },
     "execution_count": 15,
     "metadata": {},
     "output_type": "execute_result"
    }
   ],
   "source": [
    "type StringRep[T] = String => Int => String\n",
    "\n",
    "implicit object StringQUEΛ extends QUEΛ[StringRep]{\n",
    "    // base types\n",
    "    \n",
    "    def bool(b: Boolean): StringRep[Boolean] = \n",
    "        _ => _ => b.toString\n",
    "    \n",
    "    def int(i: Int): StringRep[Int] = \n",
    "        _ => _ => i.toString\n",
    "    \n",
    "    def str(s: String): StringRep[String] = \n",
    "        _ => _ => s\n",
    "    \n",
    "    def >(i1: StringRep[Int], i2: StringRep[Int]): StringRep[Boolean] = \n",
    "        t => i => s\"${i1(t)(i)} > ${i2(t)(i)}\"\n",
    "        \n",
    "    // ADTs\n",
    "    \n",
    "    def tuple2[A, B](a: StringRep[A], b: StringRep[B]): StringRep[(A, B)] = \n",
    "        t => i => s\"\"\"(${a(t)(i)}, ${b(t)(i)})\"\"\"\n",
    "    \n",
    "    def none[A]: StringRep[Option[A]] = \n",
    "        _ => _ => \"none\"\n",
    "    \n",
    "    def some[A](a: StringRep[A]): StringRep[Option[A]] = \n",
    "        t => i => s\"some(${a(t)(i)})\"\n",
    "    \n",
    "    def exists[A](o: StringRep[A])(cond: StringRep[A] => StringRep[Boolean]): StringRep[Boolean] = \n",
    "        t => i => s\"\"\"exists(${o(t)(i)})(x$i => ${cond(_ => _ => s\"x$i\")(t)(i)})\"\"\"\n",
    "    \n",
    "    // Comprehensions\n",
    "    \n",
    "    def bind[A, B](q: StringRep[List[A]])(f: StringRep[A] => StringRep[List[B]]): StringRep[List[B]] = \n",
    "        t => i => \n",
    "            s\"\"\"|${t}bind(\n",
    "                |${q(t+\"    \")(i)}\n",
    "                |${t}){ x$i => \n",
    "                |${f(_ => _ => s\"x$i\")(t+\"    \")(i+1)}\n",
    "                |${t}}\"\"\".stripMargin\n",
    "    \n",
    "    def pure[A](a: StringRep[A]): StringRep[A] = \n",
    "        t => i => t + s\"pure(${a(t)(i)})\"\n",
    "    \n",
    "    def where[A](cond: StringRep[Boolean])(q: StringRep[List[A]]): StringRep[List[A]] = \n",
    "        t => i => \n",
    "            s\"\"\"|${t}where(${cond(t)(i)})(\n",
    "                |${q(t+\"    \")(i)}\n",
    "                |${t})\"\"\".stripMargin\n",
    "    \n",
    "    // Equality\n",
    "    \n",
    "    def ===[A](a1: StringRep[A], a2: StringRep[A]): StringRep[Boolean] = \n",
    "        t => i => s\"===(${a1(t)(i)}, ${a2(t)(i)})\"\n",
    "}"
   ]
  },
  {
   "cell_type": "code",
   "execution_count": 16,
   "metadata": {},
   "outputs": [
    {
     "data": {
      "text/plain": [
       "defined \u001b[32mobject\u001b[39m \u001b[36mCityStringRep\u001b[39m\n",
       "defined \u001b[32mobject\u001b[39m \u001b[36mCountryStringRep\u001b[39m\n",
       "defined \u001b[32mobject\u001b[39m \u001b[36mWorldStringRep\u001b[39m"
      ]
     },
     "execution_count": 16,
     "metadata": {},
     "output_type": "execute_result"
    }
   ],
   "source": [
    "object CityStringRep extends CityModel[StringRep]{\n",
    "    def id(city: StringRep[City]): StringRep[Int] = \n",
    "        t => i => s\"id(${city(t)(i)})\"\n",
    "    \n",
    "    def name(city: StringRep[City]): StringRep[String] = \n",
    "        t => i => s\"cityName(${city(t)(i)})\"\n",
    "    \n",
    "    def country(city: StringRep[City]): StringRep[String] = \n",
    "        t => i => s\"country(${city(t)(i)})\"\n",
    "    \n",
    "    def population(city: StringRep[City]): StringRep[Int] = \n",
    "        t => i => s\"population(${city(t)(i)})\"\n",
    "}\n",
    "\n",
    "object CountryStringRep extends CountryModel[StringRep]{\n",
    "    def code(country: StringRep[Country]): StringRep[String] = \n",
    "        t => i => s\"code(${country(t)(i)})\"\n",
    "    \n",
    "    def name(country: StringRep[Country]): StringRep[String] = \n",
    "        t => i => s\"name(${country(t)(i)})\"\n",
    "    \n",
    "    def capital(country: StringRep[Country]): StringRep[Int] = \n",
    "        t => i => s\"capital(${country(t)(i)})\"\n",
    "}\n",
    "\n",
    "implicit object WorldStringRep extends WorldModel[StringRep]{\n",
    "    val Ci = CityStringRep\n",
    "    val Co = CountryStringRep\n",
    "    \n",
    "    def countries: StringRep[List[Country]] = \n",
    "        t => _ => t + s\"countries\"\n",
    "    \n",
    "    def cities: StringRep[List[City]] = \n",
    "        t => _ => t + s\"cities\"\n",
    "}"
   ]
  },
  {
   "cell_type": "code",
   "execution_count": 17,
   "metadata": {},
   "outputs": [
    {
     "data": {
      "text/plain": [
       "defined \u001b[32mfunction\u001b[39m \u001b[36mtest1\u001b[39m"
      ]
     },
     "execution_count": 17,
     "metadata": {},
     "output_type": "execute_result"
    }
   ],
   "source": [
    "def test1[Repr[_]](implicit Q: QUEΛ[Repr], W: WorldModel[Repr]): Repr[List[(Country, (Country, Country))]] = \n",
    "    W.countries.flatMap{ c1 => \n",
    "        W.countries.flatMap{ c2 => \n",
    "            W.countries.flatMap{ c3 => \n",
    "                Q.pure((c1, (c2, c3): Repr[(Country, Country)]))\n",
    "            }\n",
    "        }\n",
    "    }"
   ]
  },
  {
   "cell_type": "code",
   "execution_count": 18,
   "metadata": {},
   "outputs": [
    {
     "data": {
      "text/plain": [
       "defined \u001b[32mfunction\u001b[39m \u001b[36mtest2\u001b[39m"
      ]
     },
     "execution_count": 18,
     "metadata": {},
     "output_type": "execute_result"
    }
   ],
   "source": [
    "def test2[Repr[_]](implicit Q: QUEΛ[Repr], W: WorldModel[Repr]): Repr[List[((Country, Country), Country)]] = \n",
    "    (W.countries.flatMap{ c1 => \n",
    "        W.countries.flatMap{ c2 => \n",
    "            Q.pure((c1, c2))\n",
    "        }\n",
    "    }).flatMap{ c1c2 => \n",
    "        W.countries.flatMap{ c3 => \n",
    "            Q.pure((c1c2, c3))\n",
    "        }\n",
    "    }"
   ]
  },
  {
   "cell_type": "code",
   "execution_count": 19,
   "metadata": {},
   "outputs": [
    {
     "name": "stdout",
     "output_type": "stream",
     "text": [
      "bind(\n",
      "    countries\n",
      "){ x0 => \n",
      "    bind(\n",
      "        countries\n",
      "    ){ x1 => \n",
      "        bind(\n",
      "            countries\n",
      "        ){ x2 => \n",
      "            pure((x0, (x1, x2)))\n",
      "        }\n",
      "    }\n",
      "}\n",
      "bind(\n",
      "    bind(\n",
      "        countries\n",
      "    ){ x0 => \n",
      "        bind(\n",
      "            countries\n",
      "        ){ x1 => \n",
      "            pure((x0, x1))\n",
      "        }\n",
      "    }\n",
      "){ x0 => \n",
      "    bind(\n",
      "        countries\n",
      "    ){ x1 => \n",
      "        pure((x0, x1))\n",
      "    }\n",
      "}\n"
     ]
    }
   ],
   "source": [
    "println(test1[StringRep].apply(\"\")(0))\n",
    "println(test2[StringRep].apply(\"\")(0))"
   ]
  },
  {
   "cell_type": "code",
   "execution_count": 20,
   "metadata": {},
   "outputs": [
    {
     "name": "stdout",
     "output_type": "stream",
     "text": [
      "bind(\n",
      "    countries\n",
      "){ x0 => \n",
      "    bind(\n",
      "        bind(\n",
      "            bind(\n",
      "                cities\n",
      "            ){ x1 => \n",
      "                where(exists(capital(x0))(x2 => ===(x2, id(x1))))(\n",
      "                    pure(x1)\n",
      "                )\n",
      "            }\n",
      "        ){ x1 => \n",
      "            where(population(x1) > 8000000)(\n",
      "                pure(x1)\n",
      "            )\n",
      "        }\n",
      "    ){ x1 => \n",
      "        pure((cityName(x1), name(x0)))\n",
      "    }\n",
      "}\n"
     ]
    }
   ],
   "source": [
    "println(largeCapitals[StringRep].apply(\"\")(0))"
   ]
  },
  {
   "cell_type": "code",
   "execution_count": 21,
   "metadata": {},
   "outputs": [
    {
     "data": {
      "text/plain": [
       "defined \u001b[32mfunction\u001b[39m \u001b[36mlargeCapitalsNormalized\u001b[39m"
      ]
     },
     "execution_count": 21,
     "metadata": {},
     "output_type": "execute_result"
    }
   ],
   "source": [
    "def largeCapitalsNormalized[Repr[_]](implicit Q: QUEΛ[Repr], W: WorldModel[Repr]): Repr[List[(String, String)]] = \n",
    "    W.countries.flatMap{ x0 => \n",
    "        W.cities.flatMap{ x1 => \n",
    "            Q.where(capital(x0).exists(x2 => x2 === id(x1)))(\n",
    "                Q.where(population(x1) > Q.int(8000000))(\n",
    "                    Q.pure((cityName(x1), name(x0)))\n",
    "                )\n",
    "            )\n",
    "        }\n",
    "    }"
   ]
  },
  {
   "cell_type": "code",
   "execution_count": 22,
   "metadata": {},
   "outputs": [
    {
     "name": "stdout",
     "output_type": "stream",
     "text": [
      "bind(\n",
      "    countries\n",
      "){ x0 => \n",
      "    bind(\n",
      "        cities\n",
      "    ){ x1 => \n",
      "        where(exists(capital(x0))(x2 => ===(x2, id(x1))))(\n",
      "            where(population(x1) > 8000000)(\n",
      "                pure((cityName(x1), name(x0)))\n",
      "            )\n",
      "        )\n",
      "    }\n",
      "}\n"
     ]
    }
   ],
   "source": [
    "println(largeCapitalsNormalized[StringRep].apply(\"\")(0))"
   ]
  },
  {
   "cell_type": "code",
   "execution_count": 23,
   "metadata": {},
   "outputs": [
    {
     "name": "stdout",
     "output_type": "stream",
     "text": [
      "2368 millis\n"
     ]
    },
    {
     "data": {
      "text/plain": [
       "\u001b[36mres22\u001b[39m: \u001b[32mList\u001b[39m[(\u001b[32mString\u001b[39m, \u001b[32mString\u001b[39m)] = \u001b[33mList\u001b[39m(\n",
       "  (\u001b[32m\"Jakarta\"\u001b[39m, \u001b[32m\"Indonesia\"\u001b[39m),\n",
       "  (\u001b[32m\"Ciudad de M\\u00e9xico\"\u001b[39m, \u001b[32m\"Mexico\"\u001b[39m),\n",
       "  (\u001b[32m\"Moscow\"\u001b[39m, \u001b[32m\"Russian Federation\"\u001b[39m),\n",
       "  (\u001b[32m\"Seoul\"\u001b[39m, \u001b[32m\"South Korea\"\u001b[39m)\n",
       ")"
      ]
     },
     "execution_count": 23,
     "metadata": {},
     "output_type": "execute_result"
    }
   ],
   "source": [
    "largeCapitalsNormalized[WorldReader]\n",
    "    .apply(realWorld)\n",
    "    .value\n",
    "    .timed"
   ]
  },
  {
   "cell_type": "markdown",
   "metadata": {},
   "source": [
    "## SQL interpreter"
   ]
  },
  {
   "cell_type": "code",
   "execution_count": 24,
   "metadata": {},
   "outputs": [
    {
     "data": {
      "text/plain": [
       "defined \u001b[32mclass\u001b[39m \u001b[36mDoobieRep\u001b[39m\n",
       "defined \u001b[32mclass\u001b[39m \u001b[36mSQLVar\u001b[39m\n",
       "defined \u001b[32mclass\u001b[39m \u001b[36mSQLInt\u001b[39m\n",
       "defined \u001b[32mclass\u001b[39m \u001b[36mSQLBoolean\u001b[39m\n",
       "defined \u001b[32mclass\u001b[39m \u001b[36mSQLString\u001b[39m\n",
       "defined \u001b[32mclass\u001b[39m \u001b[36mSQLOption\u001b[39m\n",
       "defined \u001b[32mclass\u001b[39m \u001b[36mSQLTuple\u001b[39m\n",
       "defined \u001b[32mclass\u001b[39m \u001b[36mSQLStatement\u001b[39m\n",
       "defined \u001b[32mobject\u001b[39m \u001b[36mDoobieRep\u001b[39m"
      ]
     },
     "execution_count": 24,
     "metadata": {},
     "output_type": "execute_result"
    }
   ],
   "source": [
    "sealed abstract class DoobieRep[T]{ val fragment: Fragment }\n",
    "case class SQLVar[A](fragment: Fragment) extends DoobieRep[A]\n",
    "case class SQLInt(fragment: Fragment) extends DoobieRep[Int]\n",
    "case class SQLBoolean(fragment: Fragment) extends DoobieRep[Boolean]\n",
    "case class SQLString(fragment: Fragment) extends DoobieRep[String]\n",
    "case class SQLOption[A](rep: DoobieRep[A]) extends DoobieRep[Option[A]]{\n",
    "    val fragment = rep.fragment\n",
    "}\n",
    "case class SQLTuple[A, B](\n",
    "    fr1: Fragment, \n",
    "    fr2: Fragment) extends DoobieRep[(A, B)]{\n",
    "    val fragment = fr1 ++ fr\", \" ++ fr2\n",
    "}\n",
    "case class SQLStatement[A](\n",
    "    select: Fragment, \n",
    "    from: List[Fragment], \n",
    "    where: List[Fragment]\n",
    ") extends DoobieRep[List[A]]{\n",
    "    val fragment = \n",
    "        fr\"select\" ++ select ++ \n",
    "        fr\"from\" ++ from.combineAll ++ \n",
    "        fr\"where\" ++ where.combineAll\n",
    "}\n",
    "\n",
    "object DoobieRep{\n",
    "\n",
    "    implicit object DoobieQUEΛ extends QUEΛ[DoobieRep]{\n",
    "        // base types\n",
    "\n",
    "        def bool(b: Boolean): DoobieRep[Boolean] = \n",
    "            SQLBoolean(Fragment.const(b.toString))\n",
    "\n",
    "        def int(i: Int): DoobieRep[Int] = \n",
    "            SQLInt(Fragment.const(i.toString))\n",
    "\n",
    "        def str(s: String): DoobieRep[String] = \n",
    "            SQLString(Fragment.const(s))\n",
    "\n",
    "        def >(i1: DoobieRep[Int], i2: DoobieRep[Int]): DoobieRep[Boolean] = \n",
    "            SQLBoolean(i1.fragment ++ fr\" > \" ++ i2.fragment)\n",
    "\n",
    "        // ADTs\n",
    "\n",
    "        def tuple2[A, B](a: DoobieRep[A], b: DoobieRep[B]): DoobieRep[(A, B)] = \n",
    "            SQLTuple(a.fragment, b.fragment) \n",
    "\n",
    "        def none[A]: DoobieRep[Option[A]] = \n",
    "            ???\n",
    "\n",
    "        def some[A](a: DoobieRep[A]): DoobieRep[Option[A]] = \n",
    "            ???\n",
    "\n",
    "        def exists[A](o: DoobieRep[Option[A]])(cond: DoobieRep[A] => DoobieRep[Boolean]): DoobieRep[Boolean] = {\n",
    "            val SQLOption(a) = o\n",
    "            cond(a)\n",
    "        }\n",
    "\n",
    "        // Comprehensions\n",
    "\n",
    "        def bind[A, B](q: DoobieRep[List[A]])(f: DoobieRep[A] => DoobieRep[List[B]]): DoobieRep[List[B]] = {\n",
    "            val SQLStatement(select, from, where) = f(SQLVar(fr\"x0\"))\n",
    "            SQLStatement(select, q.fragment :: from, where)\n",
    "        }\n",
    "\n",
    "        def pure[A](a: DoobieRep[A]): DoobieRep[List[A]] = \n",
    "            SQLStatement(a.fragment, List(), List())\n",
    "\n",
    "        def where[A](cond: DoobieRep[Boolean])(q: DoobieRep[List[A]]): DoobieRep[List[A]] = {\n",
    "            val SQLStatement(select, from, where) = q\n",
    "            SQLStatement(select, from, cond.fragment :: where)\n",
    "        }\n",
    "        \n",
    "        // Equality\n",
    "\n",
    "        def ===[A](a1: DoobieRep[A], a2: DoobieRep[A]): DoobieRep[Boolean] = \n",
    "            SQLBoolean(a1.fragment ++ fr\"=\" ++ a2.fragment)\n",
    "    }\n",
    "}"
   ]
  },
  {
   "cell_type": "code",
   "execution_count": 28,
   "metadata": {},
   "outputs": [
    {
     "data": {
      "text/plain": [
       "defined \u001b[32mobject\u001b[39m \u001b[36mCityDoobieRep\u001b[39m\n",
       "defined \u001b[32mobject\u001b[39m \u001b[36mCountryDoobieRep\u001b[39m\n",
       "defined \u001b[32mobject\u001b[39m \u001b[36mWorldDoobieRep\u001b[39m"
      ]
     },
     "execution_count": 28,
     "metadata": {},
     "output_type": "execute_result"
    }
   ],
   "source": [
    "object CityDoobieRep extends CityModel[DoobieRep]{\n",
    "    def id(city: DoobieRep[City]): DoobieRep[Int] = \n",
    "        SQLInt(city.fragment ++ fr\"id\")\n",
    "    \n",
    "    def name(city: DoobieRep[City]): DoobieRep[String] = \n",
    "        SQLString(city.fragment ++ fr\".name\")\n",
    "    \n",
    "    def country(city: DoobieRep[City]): DoobieRep[String] = \n",
    "        SQLString(city.fragment ++ fr\".country\")\n",
    "    \n",
    "    def population(city: DoobieRep[City]): DoobieRep[Int] = \n",
    "        SQLInt(city.fragment ++ fr\".population\")\n",
    "}\n",
    "\n",
    "object CountryDoobieRep extends CountryModel[DoobieRep]{\n",
    "    def code(country: DoobieRep[Country]): DoobieRep[String] = \n",
    "        SQLString(country.fragment ++ fr\".code\")\n",
    "    \n",
    "    def name(country: DoobieRep[Country]): DoobieRep[String] = \n",
    "        SQLString(country.fragment ++ fr\".name\")\n",
    "    \n",
    "    def capital(country: DoobieRep[Country]): DoobieRep[Option[Int]] = \n",
    "        SQLOption(SQLInt(country.fragment ++ fr\".capital\"))\n",
    "}\n",
    "\n",
    "implicit object WorldDoobieRep extends WorldModel[DoobieRep]{\n",
    "    val Ci = CityDoobieRep\n",
    "    val Co = CountryDoobieRep\n",
    "    \n",
    "    def countries: DoobieRep[List[Country]] = \n",
    "        SQLVar[List[Country]](fr\"countries\")\n",
    "    \n",
    "    def cities: DoobieRep[List[City]] = \n",
    "        SQLVar[List[City]](fr\"cities\")\n",
    "}"
   ]
  },
  {
   "cell_type": "code",
   "execution_count": 30,
   "metadata": {},
   "outputs": [
    {
     "data": {
      "text/plain": [
       "\u001b[36mres29_0\u001b[39m: \u001b[32mFragment\u001b[39m = Fragment(\"select x0 .name ,  x0 .name from countries cities where x0 .capital = x0 id x0 .population  >  8000000 \")\n",
       "\u001b[36mres29_1\u001b[39m: \u001b[32mFragment\u001b[39m = Fragment(\"select x0 .name ,  x0 .name from countries select x0 from select x0 from cities where x0 .capital = x0 id where x0 .population  >  8000000 where \")"
      ]
     },
     "execution_count": 30,
     "metadata": {},
     "output_type": "execute_result"
    }
   ],
   "source": [
    "largeCapitalsNormalized[DoobieRep].fragment\n",
    "largeCapitals[DoobieRep].fragment"
   ]
  },
  {
   "cell_type": "code",
   "execution_count": null,
   "metadata": {},
   "outputs": [],
   "source": []
  }
 ],
 "metadata": {
  "kernelspec": {
   "display_name": "Scala",
   "language": "scala",
   "name": "scala"
  },
  "language_info": {
   "codemirror_mode": "text/x-scala",
   "file_extension": ".scala",
   "mimetype": "text/x-scala",
   "name": "scala",
   "nbconvert_exporter": "script",
   "version": "2.13.0"
  }
 },
 "nbformat": 4,
 "nbformat_minor": 4
}
