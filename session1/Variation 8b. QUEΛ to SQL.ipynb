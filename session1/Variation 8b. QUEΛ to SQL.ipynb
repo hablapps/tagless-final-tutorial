{
 "cells": [
  {
   "cell_type": "markdown",
   "metadata": {},
   "source": [
    "// WARNING: Run with Scala kernel from Variation8a (in jupyter-lab)"
   ]
  },
  {
   "cell_type": "markdown",
   "metadata": {},
   "source": [
    "# Variation 8b. QUEΛ to SQL "
   ]
  },
  {
   "cell_type": "markdown",
   "metadata": {},
   "source": [
    "Warm up exercise: a string representation for QUEΛ queries"
   ]
  },
  {
   "cell_type": "code",
   "execution_count": 24,
   "metadata": {},
   "outputs": [
    {
     "data": {
      "text/plain": [
       "defined \u001b[32mclass\u001b[39m \u001b[36mStringRep\u001b[39m\n",
       "defined \u001b[32mobject\u001b[39m \u001b[36mStringRep\u001b[39m"
      ]
     },
     "execution_count": 24,
     "metadata": {},
     "output_type": "execute_result"
    }
   ],
   "source": [
    "abstract class StringRep[T] extends (String => Int => String)\n",
    "\n",
    "object StringRep{\n",
    "    \n",
    "     def apply[T](f: String => Int => String): StringRep[T] = \n",
    "        new StringRep[T]{\n",
    "            def apply(i: String): Int => String = f(i)\n",
    "        }\n",
    "\n",
    "    implicit object StringQUEΛ extends QUEΛ[StringRep]{\n",
    "        // base types\n",
    "\n",
    "        def bool(b: Boolean): StringRep[Boolean] = \n",
    "            StringRep(_ => _ => b.toString)\n",
    "\n",
    "        def int(i: Int): StringRep[Int] = \n",
    "            StringRep(_ => _ => i.toString)\n",
    "\n",
    "        def str(s: String): StringRep[String] = \n",
    "            StringRep(_ => _ => s)\n",
    "\n",
    "        def >(i1: StringRep[Int], i2: StringRep[Int]): StringRep[Boolean] = \n",
    "            StringRep(t => i => s\"${i1(t)(i)} > ${i2(t)(i)}\")\n",
    "\n",
    "        // ADTs\n",
    "\n",
    "        def tuple2[A, B](a: StringRep[A], b: StringRep[B]): StringRep[(A, B)] = \n",
    "            StringRep(t => i => s\"\"\"(${a(t)(i)}, ${b(t)(i)})\"\"\")\n",
    "\n",
    "        def none[A]: StringRep[Option[A]] = \n",
    "            StringRep(_ => _ => \"none\")\n",
    "\n",
    "        def some[A](a: StringRep[A]): StringRep[Option[A]] = \n",
    "            StringRep(t => i => s\"some(${a(t)(i)})\")\n",
    "\n",
    "        def exists[A](o: StringRep[Option[A]])(cond: StringRep[A] => StringRep[Boolean]): StringRep[Boolean] = \n",
    "            StringRep(t => i => s\"\"\"exists(${o(t)(i)})(x$i => ${cond(_ => _ => s\"x$i\")(t)(i)})\"\"\")\n",
    "\n",
    "        // Comprehensions\n",
    "\n",
    "        def bind[A, B](q: StringRep[List[A]])(f: StringRep[A] => StringRep[List[B]]): StringRep[List[B]] = \n",
    "            StringRep(t => i => \n",
    "                s\"\"\"|${t}bind(\n",
    "                    |${q(t+\"    \")(i)}\n",
    "                    |${t}){ x$i => \n",
    "                    |${f(_ => _ => s\"x$i\")(t+\"    \")(i+1)}\n",
    "                    |${t}}\"\"\".stripMargin)\n",
    "\n",
    "        def pure[A](a: StringRep[A]): StringRep[List[A]] = \n",
    "            StringRep(t => i => t + s\"pure(${a(t)(i)})\")\n",
    "\n",
    "        def where[A](cond: StringRep[Boolean])(q: StringRep[List[A]]): StringRep[List[A]] = \n",
    "            StringRep(t => i => \n",
    "                s\"\"\"|${t}where(${cond(t)(i)})(\n",
    "                    |${q(t+\"    \")(i)}\n",
    "                    |${t})\"\"\".stripMargin)\n",
    "\n",
    "        // Equality\n",
    "\n",
    "        def ===[A](a1: StringRep[A], a2: StringRep[A]): StringRep[Boolean] = \n",
    "            StringRep(t => i => s\"===(${a1(t)(i)}, ${a2(t)(i)})\")\n",
    "    }\n",
    "    \n",
    "    object CityStringRep extends CityModel[StringRep]{\n",
    "        def id(city: StringRep[City]): StringRep[Int] = \n",
    "            StringRep(t => i => s\"id(${city(t)(i)})\")\n",
    "\n",
    "        def name(city: StringRep[City]): StringRep[String] = \n",
    "            StringRep(t => i => s\"cityName(${city(t)(i)})\")\n",
    "\n",
    "        def country(city: StringRep[City]): StringRep[String] = \n",
    "            StringRep(t => i => s\"country(${city(t)(i)})\")\n",
    "\n",
    "        def population(city: StringRep[City]): StringRep[Int] = \n",
    "            StringRep(t => i => s\"population(${city(t)(i)})\")\n",
    "    }\n",
    "\n",
    "    object CountryStringRep extends CountryModel[StringRep]{\n",
    "        def code(country: StringRep[Country]): StringRep[String] = \n",
    "            StringRep(t => i => s\"code(${country(t)(i)})\")\n",
    "\n",
    "        def name(country: StringRep[Country]): StringRep[String] = \n",
    "            StringRep(t => i => s\"name(${country(t)(i)})\")\n",
    "\n",
    "        def capital(country: StringRep[Country]): StringRep[Option[Int]] = \n",
    "            StringRep(t => i => s\"capital(${country(t)(i)})\")\n",
    "    }\n",
    "\n",
    "    implicit object WorldStringRep extends WorldModel[StringRep]{\n",
    "        val Ci = CityStringRep\n",
    "        val Co = CountryStringRep\n",
    "\n",
    "        def countries: StringRep[List[Country]] = \n",
    "            StringRep(t => _ => t + s\"countries\")\n",
    "\n",
    "        def cities: StringRep[List[City]] = \n",
    "            StringRep(t => _ => t + s\"cities\")\n",
    "    }\n",
    "}"
   ]
  },
  {
   "cell_type": "code",
   "execution_count": 25,
   "metadata": {},
   "outputs": [
    {
     "name": "stdout",
     "output_type": "stream",
     "text": [
      "bind(\n",
      "    countries\n",
      "){ x0 => \n",
      "    bind(\n",
      "        bind(\n",
      "            bind(\n",
      "                cities\n",
      "            ){ x1 => \n",
      "                where(exists(capital(x0))(x2 => ===(x2, id(x1))))(\n",
      "                    pure(x1)\n",
      "                )\n",
      "            }\n",
      "        ){ x1 => \n",
      "            where(population(x1) > 8000000)(\n",
      "                pure(x1)\n",
      "            )\n",
      "        }\n",
      "    ){ x1 => \n",
      "        pure((cityName(x1), name(x0)))\n",
      "    }\n",
      "}\n"
     ]
    }
   ],
   "source": [
    "println(largeCapitals[StringRep].apply(\"\")(0))"
   ]
  },
  {
   "cell_type": "code",
   "execution_count": 26,
   "metadata": {},
   "outputs": [
    {
     "data": {
      "text/plain": [
       "defined \u001b[32mfunction\u001b[39m \u001b[36mlargeCapitalsNormalized\u001b[39m"
      ]
     },
     "execution_count": 26,
     "metadata": {},
     "output_type": "execute_result"
    }
   ],
   "source": [
    "def largeCapitalsNormalized[Repr[_]](implicit Q: QUEΛ[Repr], W: WorldModel[Repr]): Repr[List[(String, String)]] = \n",
    "    W.countries.flatMap{ x0 => \n",
    "        W.cities.flatMap{ x1 => \n",
    "            Q.where(capital(x0).exists(x2 => x2 === id(x1)))(\n",
    "                Q.where(population(x1) > Q.int(8000000))(\n",
    "                    Q.pure((cityName(x1), name(x0)))\n",
    "                )\n",
    "            )\n",
    "        }\n",
    "    }"
   ]
  },
  {
   "cell_type": "code",
   "execution_count": 27,
   "metadata": {},
   "outputs": [
    {
     "name": "stdout",
     "output_type": "stream",
     "text": [
      "bind(\n",
      "    countries\n",
      "){ x0 => \n",
      "    bind(\n",
      "        cities\n",
      "    ){ x1 => \n",
      "        where(exists(capital(x0))(x2 => ===(x2, id(x1))))(\n",
      "            where(population(x1) > 8000000)(\n",
      "                pure((cityName(x1), name(x0)))\n",
      "            )\n",
      "        )\n",
      "    }\n",
      "}\n"
     ]
    }
   ],
   "source": [
    "println(largeCapitalsNormalized[StringRep].apply(\"\")(0))"
   ]
  },
  {
   "cell_type": "markdown",
   "metadata": {},
   "source": [
    "## SQL interpreter"
   ]
  },
  {
   "cell_type": "code",
   "execution_count": 28,
   "metadata": {},
   "outputs": [
    {
     "data": {
      "text/plain": [
       "defined \u001b[32mclass\u001b[39m \u001b[36mDoobieRep\u001b[39m\n",
       "defined \u001b[32mclass\u001b[39m \u001b[36mSQLVar\u001b[39m\n",
       "defined \u001b[32mclass\u001b[39m \u001b[36mSQLInt\u001b[39m\n",
       "defined \u001b[32mclass\u001b[39m \u001b[36mSQLBoolean\u001b[39m\n",
       "defined \u001b[32mclass\u001b[39m \u001b[36mSQLString\u001b[39m\n",
       "defined \u001b[32mclass\u001b[39m \u001b[36mSQLOption\u001b[39m\n",
       "defined \u001b[32mclass\u001b[39m \u001b[36mSQLTuple\u001b[39m\n",
       "defined \u001b[32mclass\u001b[39m \u001b[36mSQLStatement\u001b[39m\n",
       "defined \u001b[32mobject\u001b[39m \u001b[36mDoobieRep\u001b[39m\n",
       "defined \u001b[32mtrait\u001b[39m \u001b[36mModelConstructors\u001b[39m\n",
       "defined \u001b[32mtrait\u001b[39m \u001b[36mQueryInterpreter\u001b[39m\n",
       "defined \u001b[32mtrait\u001b[39m \u001b[36mQUEΛInterpreter\u001b[39m"
      ]
     },
     "execution_count": 28,
     "metadata": {},
     "output_type": "execute_result"
    }
   ],
   "source": [
    "sealed abstract class DoobieRep[T]\n",
    "case class SQLVar[A](fragment: Fragment) extends DoobieRep[A]\n",
    "case class SQLInt(fragment: Fragment) extends DoobieRep[Int]\n",
    "case class SQLBoolean(fragment: Fragment) extends DoobieRep[Boolean]\n",
    "case class SQLString(fragment: Fragment) extends DoobieRep[String]\n",
    "case class SQLOption[A](rep: DoobieRep[A]) extends DoobieRep[Option[A]] // TBD: Option[DoobieRep[A]]\n",
    "case class SQLTuple[A, B](_1: DoobieRep[A], _2: DoobieRep[B]) extends DoobieRep[(A, B)]\n",
    "case class SQLStatement[A](\n",
    "    from: List[DoobieRep.Table], \n",
    "    where: List[DoobieRep[Boolean]], \n",
    "    select: DoobieRep[A]) extends DoobieRep[List[A]]\n",
    "\n",
    "object DoobieRep extends ModelConstructors with QueryInterpreter with QUEΛInterpreter\n",
    "\n",
    "trait ModelConstructors{ self: DoobieRep.type => \n",
    "\n",
    "    case class Table(name: String, varName: String)\n",
    "    \n",
    "    object Table{\n",
    "        def fragment(table: Table): Fragment = \n",
    "            Fragment.const(table.name) ++ Fragment.const0(table.varName)\n",
    "    }\n",
    "        \n",
    "    def statement[A](table: Table): SQLStatement[A] = \n",
    "        SQLStatement(List(table), List(), SQLVar(Fragment.const0(table.varName)))\n",
    "    \n",
    "    def intSelector[A](d: DoobieRep[A], field: String): DoobieRep[Int] = \n",
    "        SQLInt(d.fragment ++ Fragment.const0(s\".$field\"))\n",
    "\n",
    "    def stringSelector[A](d: DoobieRep[A], field: String): DoobieRep[String] = \n",
    "        SQLString(d.fragment ++ Fragment.const0(s\".$field\"))\n",
    "\n",
    "    def boolSelector[A](d: DoobieRep[A], field: String): DoobieRep[Boolean] = \n",
    "        SQLBoolean(d.fragment ++ Fragment.const0(s\".field\"))\n",
    "\n",
    "}\n",
    "\n",
    "trait QueryInterpreter{\n",
    "    \n",
    "    import doobie.util._, query._\n",
    "    import cats.evidence.Is\n",
    "\n",
    "    trait IsList[L]{\n",
    "        type A\n",
    "        val read: Read[A]\n",
    "    }\n",
    "\n",
    "    object IsList{\n",
    "        type Aux[L, _A] = IsList[L]{ type A = _A }\n",
    "\n",
    "        implicit def isList[_A: Read]: IsList.Aux[List[_A], _A] = \n",
    "            new IsList[List[_A]]{\n",
    "                type A = _A\n",
    "                val read = Read[_A]\n",
    "            }\n",
    "    }\n",
    "    \n",
    "    implicit class FragmentDoobieRep[T](d: DoobieRep[T]){ \n",
    "        val fragment: Fragment = d match {\n",
    "            case SQLVar(fragment) => \n",
    "                fragment\n",
    "            \n",
    "            case d: SQLInt => \n",
    "                d.fragment\n",
    "            \n",
    "            case d: SQLBoolean => \n",
    "                d.fragment\n",
    "            \n",
    "            case d: SQLString => \n",
    "                d.fragment\n",
    "            \n",
    "            case d: SQLOption[_] => \n",
    "                d.rep.fragment\n",
    "            \n",
    "            case d: SQLTuple[_, _] => \n",
    "                d._1.fragment ++ fr0\", \" ++ d._2.fragment\n",
    "            \n",
    "            case d: SQLStatement[_] => {\n",
    "                val fromFr: List[Fragment] = \n",
    "                    if (d.from.isEmpty) List() \n",
    "                    else List(fr\"from\" ++ d.from.map(DoobieRep.Table.fragment).mkFragment(fr0\",\", false))\n",
    "                val whereFr: List[Fragment] = \n",
    "                    if (d.where.isEmpty) List() \n",
    "                    else List(fr\"where\" ++ d.where.map(_.fragment).mkFragment(fr0\"and\"))\n",
    "                (List(fr\"select\" ++ d.select.fragment) ++ fromFr ++ whereFr).mkFragment(fr0\" \", false, false)\n",
    "            }\n",
    "        }\n",
    "        \n",
    "        def query[A](implicit ev: IsList.Aux[T, A]): Query0[A] = \n",
    "            fragment.query[A](ev.read)\n",
    "    }\n",
    "}\n",
    "\n",
    "trait QUEΛInterpreter{\n",
    "    \n",
    "    implicit object QUEΛ extends QUEΛ[DoobieRep]{\n",
    "        // base types\n",
    "\n",
    "        def bool(b: Boolean): DoobieRep[Boolean] = \n",
    "            SQLBoolean(Fragment.const(b.toString))\n",
    "\n",
    "        def int(i: Int): DoobieRep[Int] = \n",
    "            SQLInt(Fragment.const0(i.toString))\n",
    "\n",
    "        def str(s: String): DoobieRep[String] = \n",
    "            SQLString(Fragment.const(s))\n",
    "\n",
    "        def >(i1: DoobieRep[Int], i2: DoobieRep[Int]): DoobieRep[Boolean] = \n",
    "            SQLBoolean(i1.fragment ++ fr0\" > \" ++ i2.fragment)\n",
    "\n",
    "        // ADTs\n",
    "\n",
    "        def tuple2[A, B](a: DoobieRep[A], b: DoobieRep[B]): DoobieRep[(A, B)] = \n",
    "            SQLTuple(a, b) \n",
    "\n",
    "        def none[A]: DoobieRep[Option[A]] = \n",
    "            ???\n",
    "\n",
    "        def some[A](a: DoobieRep[A]): DoobieRep[Option[A]] = \n",
    "            SQLOption(a)\n",
    "\n",
    "        def exists[A](o: DoobieRep[Option[A]])(cond: DoobieRep[A] => DoobieRep[Boolean]): DoobieRep[Boolean] = {\n",
    "            val SQLOption(a) = o\n",
    "            cond(a)\n",
    "        }\n",
    "\n",
    "        // Comprehensions\n",
    "\n",
    "        def bind[A, B](q: DoobieRep[List[A]])(f: DoobieRep[A] => DoobieRep[List[B]]): DoobieRep[List[B]] = {\n",
    "            val SQLStatement(from1, where1, select1) = q\n",
    "            val SQLStatement(from2, where2, select2) = f(select1)\n",
    "            SQLStatement(from1 ++ from2, where1 ++ where2, select2)\n",
    "        }\n",
    "\n",
    "        def pure[A](a: DoobieRep[A]): DoobieRep[List[A]] = \n",
    "            SQLStatement(List(), List(), a)\n",
    "\n",
    "        def where[A](cond: DoobieRep[Boolean])(q: DoobieRep[List[A]]): DoobieRep[List[A]] = {\n",
    "            val SQLStatement(from, where, select) = q\n",
    "            SQLStatement(from, cond :: where, select)\n",
    "        }        \n",
    "        \n",
    "        // Equality\n",
    "\n",
    "        def ===[A](a1: DoobieRep[A], a2: DoobieRep[A]): DoobieRep[Boolean] = \n",
    "            SQLBoolean(a1.fragment ++ fr\" =\" ++ a2.fragment)\n",
    "    }\n",
    "    \n",
    "    object CityDoobieRep extends CityModel[DoobieRep]{\n",
    "\n",
    "        def id(city: DoobieRep[City]): DoobieRep[Int] = \n",
    "            DoobieRep.intSelector(city, \"id\")\n",
    "\n",
    "        def name(city: DoobieRep[City]): DoobieRep[String] = \n",
    "            DoobieRep.stringSelector(city, \"name\")\n",
    "\n",
    "        def country(city: DoobieRep[City]): DoobieRep[String] = \n",
    "            DoobieRep.stringSelector(city, \"country\")\n",
    "\n",
    "        def population(city: DoobieRep[City]): DoobieRep[Int] = \n",
    "            DoobieRep.intSelector(city, \"population\")\n",
    "    }\n",
    "\n",
    "    object CountryDoobieRep extends CountryModel[DoobieRep]{\n",
    "\n",
    "        def code(country: DoobieRep[Country]): DoobieRep[String] = \n",
    "            DoobieRep.stringSelector(country, \"code\")\n",
    "\n",
    "        def name(country: DoobieRep[Country]): DoobieRep[String] = \n",
    "            DoobieRep.stringSelector(country, \"name\")\n",
    "\n",
    "        def capital(country: DoobieRep[Country]): DoobieRep[Option[Int]] = \n",
    "            SQLOption(DoobieRep.intSelector(country, \"capital\"))\n",
    "    }\n",
    "\n",
    "    implicit object WorldDoobieRep extends WorldModel[DoobieRep]{\n",
    "        val Ci = CityDoobieRep\n",
    "        val Co = CountryDoobieRep\n",
    "\n",
    "        def countries: DoobieRep[List[Country]] =\n",
    "            DoobieRep.statement(DoobieRep.Table(\"country\", \"x0\"))\n",
    "\n",
    "        def cities: DoobieRep[List[City]] = \n",
    "            DoobieRep.statement(DoobieRep.Table(\"city\", \"x1\"))\n",
    "    }\n",
    "}"
   ]
  },
  {
   "cell_type": "code",
   "execution_count": 29,
   "metadata": {},
   "outputs": [
    {
     "name": "stdout",
     "output_type": "stream",
     "text": [
      "163 millis\n"
     ]
    },
    {
     "data": {
      "text/plain": [
       "\u001b[36mres28_0\u001b[39m: \u001b[32mList\u001b[39m[(\u001b[32mString\u001b[39m, \u001b[32mString\u001b[39m)] = \u001b[33mList\u001b[39m(\n",
       "  (\u001b[32m\"Jakarta\"\u001b[39m, \u001b[32m\"Indonesia\"\u001b[39m),\n",
       "  (\u001b[32m\"Seoul\"\u001b[39m, \u001b[32m\"South Korea\"\u001b[39m),\n",
       "  (\u001b[32m\"Ciudad de M\\u00e9xico\"\u001b[39m, \u001b[32m\"Mexico\"\u001b[39m),\n",
       "  (\u001b[32m\"Moscow\"\u001b[39m, \u001b[32m\"Russian Federation\"\u001b[39m)\n",
       ")\n",
       "\u001b[36mres28_1\u001b[39m: \u001b[32mFragment\u001b[39m = Fragment(\"select x1.name, x0.name from country x0, city x1 where x0.capital = x1.id and x1.population > 8000000\")\n",
       "\u001b[36mres28_2\u001b[39m: \u001b[32mFragment\u001b[39m = Fragment(\"select x1.name, x0.name from country x0, city x1 where x0.capital = x1.id and x1.population > 8000000\")"
      ]
     },
     "execution_count": 29,
     "metadata": {},
     "output_type": "execute_result"
    }
   ],
   "source": [
    "largeCapitals[DoobieRep].query.to[List].transact(xa).unsafeRunSync.timed\n",
    "largeCapitalsNormalized[DoobieRep].fragment\n",
    "largeCapitals[DoobieRep].fragment"
   ]
  },
  {
   "cell_type": "markdown",
   "metadata": {},
   "source": [
    "### Modular queries"
   ]
  },
  {
   "cell_type": "code",
   "execution_count": 30,
   "metadata": {},
   "outputs": [
    {
     "data": {
      "text/plain": [
       "defined \u001b[32mfunction\u001b[39m \u001b[36mcity\u001b[39m\n",
       "defined \u001b[32mfunction\u001b[39m \u001b[36mlargeCity\u001b[39m\n",
       "defined \u001b[32mfunction\u001b[39m \u001b[36mlargeCapitalsModular\u001b[39m"
      ]
     },
     "execution_count": 30,
     "metadata": {},
     "output_type": "execute_result"
    }
   ],
   "source": [
    "def city[Repr[_]: QUEΛ: WorldModel](idCity: Repr[Option[Int]]): Repr[List[City]] = \n",
    "    for {\n",
    "        c <- cities if idCity.exists{ _ === id(c) }\n",
    "    } yield c\n",
    "\n",
    "def largeCity[Repr[_]: QUEΛ: WorldModel](idCity: Repr[Option[Int]]): Repr[List[City]] = \n",
    "    for {\n",
    "        c <- city(idCity)\n",
    "        if population(c) > 8000000\n",
    "    } yield c\n",
    "\n",
    "def largeCapitalsModular[Repr[_]: QUEΛ: WorldModel]: Repr[List[(Int, (String, String))]] = \n",
    "    for {\n",
    "        country <- countries\n",
    "        city <- largeCity(capital(country))\n",
    "    } yield (id(city), (cityName(city), name(country)): Repr[(String, String)])"
   ]
  },
  {
   "cell_type": "code",
   "execution_count": 38,
   "metadata": {},
   "outputs": [
    {
     "name": "stdout",
     "output_type": "stream",
     "text": [
      "37 millis\n"
     ]
    },
    {
     "data": {
      "text/plain": [
       "\u001b[36mres37_0\u001b[39m: \u001b[32mFragment\u001b[39m = Fragment(\"select x1.id, x1.name, x0.name from country x0, city x1 where x0.capital = x1.id and x1.population > 8000000\")\n",
       "\u001b[36mres37_1\u001b[39m: \u001b[32mList\u001b[39m[(\u001b[32mInt\u001b[39m, (\u001b[32mString\u001b[39m, \u001b[32mString\u001b[39m))] = \u001b[33mList\u001b[39m(\n",
       "  (\u001b[32m939\u001b[39m, (\u001b[32m\"Jakarta\"\u001b[39m, \u001b[32m\"Indonesia\"\u001b[39m)),\n",
       "  (\u001b[32m2331\u001b[39m, (\u001b[32m\"Seoul\"\u001b[39m, \u001b[32m\"South Korea\"\u001b[39m)),\n",
       "  (\u001b[32m2515\u001b[39m, (\u001b[32m\"Ciudad de M\\u00e9xico\"\u001b[39m, \u001b[32m\"Mexico\"\u001b[39m)),\n",
       "  (\u001b[32m3580\u001b[39m, (\u001b[32m\"Moscow\"\u001b[39m, \u001b[32m\"Russian Federation\"\u001b[39m))\n",
       ")"
      ]
     },
     "execution_count": 38,
     "metadata": {},
     "output_type": "execute_result"
    }
   ],
   "source": [
    "largeCapitalsModular[DoobieRep].fragment\n",
    "largeCapitalsModular[DoobieRep].query.to[List].transact(xa).unsafeRunSync.timed"
   ]
  },
  {
   "cell_type": "code",
   "execution_count": 32,
   "metadata": {},
   "outputs": [
    {
     "name": "stdout",
     "output_type": "stream",
     "text": [
      "31 millis\n"
     ]
    },
    {
     "data": {
      "text/plain": [
       "\u001b[36mres31\u001b[39m: \u001b[32mList\u001b[39m[(\u001b[32mInt\u001b[39m, (\u001b[32mString\u001b[39m, \u001b[32mString\u001b[39m))] = \u001b[33mList\u001b[39m(\n",
       "  (\u001b[32m939\u001b[39m, (\u001b[32m\"Jakarta\"\u001b[39m, \u001b[32m\"Indonesia\"\u001b[39m)),\n",
       "  (\u001b[32m2331\u001b[39m, (\u001b[32m\"Seoul\"\u001b[39m, \u001b[32m\"South Korea\"\u001b[39m)),\n",
       "  (\u001b[32m2515\u001b[39m, (\u001b[32m\"Ciudad de M\\u00e9xico\"\u001b[39m, \u001b[32m\"Mexico\"\u001b[39m)),\n",
       "  (\u001b[32m3580\u001b[39m, (\u001b[32m\"Moscow\"\u001b[39m, \u001b[32m\"Russian Federation\"\u001b[39m))\n",
       ")"
      ]
     },
     "execution_count": 32,
     "metadata": {},
     "output_type": "execute_result"
    }
   ],
   "source": [
    "xa.trans.apply(largeCapitalsModular[DoobieRep].query.to[List]).unsafeRunSync.timed"
   ]
  },
  {
   "cell_type": "code",
   "execution_count": 33,
   "metadata": {},
   "outputs": [
    {
     "name": "stdout",
     "output_type": "stream",
     "text": [
      "34 millis\n"
     ]
    },
    {
     "data": {
      "text/plain": [
       "\u001b[36mres32\u001b[39m: \u001b[32mList\u001b[39m[(\u001b[32mInt\u001b[39m, (\u001b[32mString\u001b[39m, \u001b[32mString\u001b[39m))] = \u001b[33mList\u001b[39m(\n",
       "  (\u001b[32m939\u001b[39m, (\u001b[32m\"Jakarta\"\u001b[39m, \u001b[32m\"Indonesia\"\u001b[39m)),\n",
       "  (\u001b[32m2331\u001b[39m, (\u001b[32m\"Seoul\"\u001b[39m, \u001b[32m\"South Korea\"\u001b[39m)),\n",
       "  (\u001b[32m2515\u001b[39m, (\u001b[32m\"Ciudad de M\\u00e9xico\"\u001b[39m, \u001b[32m\"Mexico\"\u001b[39m)),\n",
       "  (\u001b[32m3580\u001b[39m, (\u001b[32m\"Moscow\"\u001b[39m, \u001b[32m\"Russian Federation\"\u001b[39m))\n",
       ")"
      ]
     },
     "execution_count": 33,
     "metadata": {},
     "output_type": "execute_result"
    }
   ],
   "source": [
    "xa.rawTrans.apply(largeCapitalsModular[DoobieRep].query.to[List]).unsafeRunSync.timed"
   ]
  },
  {
   "cell_type": "markdown",
   "metadata": {},
   "source": [
    "### All fields .*"
   ]
  },
  {
   "cell_type": "markdown",
   "metadata": {},
   "source": [
    "TBD"
   ]
  },
  {
   "cell_type": "code",
   "execution_count": 35,
   "metadata": {},
   "outputs": [
    {
     "data": {
      "text/plain": [
       "\u001b[36mres34\u001b[39m: \u001b[32mDoobieRep\u001b[39m[\u001b[32mList\u001b[39m[\u001b[32mCity\u001b[39m]] = \u001b[33mSQLStatement\u001b[39m(\n",
       "  \u001b[33mList\u001b[39m(\u001b[33mTable\u001b[39m(\u001b[32m\"city\"\u001b[39m, \u001b[32m\"x1\"\u001b[39m)),\n",
       "  \u001b[33mList\u001b[39m(\n",
       "    \u001b[33mSQLBoolean\u001b[39m(Fragment(\"939 = x1.id\")),\n",
       "    \u001b[33mSQLBoolean\u001b[39m(Fragment(\"x1.population > 8000000\"))\n",
       "  ),\n",
       "  \u001b[33mSQLVar\u001b[39m(Fragment(\"x1\"))\n",
       ")"
      ]
     },
     "execution_count": 35,
     "metadata": {},
     "output_type": "execute_result"
    }
   ],
   "source": [
    "largeCity[DoobieRep](DoobieRep.QUEΛ.some(DoobieRep.QUEΛ.int(939))) // query.to[List].transact(xa).unsafeRunSync"
   ]
  },
  {
   "cell_type": "code",
   "execution_count": 36,
   "metadata": {},
   "outputs": [
    {
     "data": {
      "text/plain": [
       "\u001b[36mres35\u001b[39m: \u001b[32mList\u001b[39m[(\u001b[32mCity\u001b[39m, \u001b[32mCity\u001b[39m)] = \u001b[33mList\u001b[39m(\n",
       "  (\n",
       "    \u001b[33mCity\u001b[39m(\u001b[32m939\u001b[39m, \u001b[32m\"Jakarta\"\u001b[39m, \u001b[32m\"IDN\"\u001b[39m, \u001b[32m\"Jakarta Raya\"\u001b[39m, \u001b[32m9604900\u001b[39m),\n",
       "    \u001b[33mCity\u001b[39m(\u001b[32m939\u001b[39m, \u001b[32m\"Jakarta\"\u001b[39m, \u001b[32m\"IDN\"\u001b[39m, \u001b[32m\"Jakarta Raya\"\u001b[39m, \u001b[32m9604900\u001b[39m)\n",
       "  )\n",
       ")"
      ]
     },
     "execution_count": 36,
     "metadata": {},
     "output_type": "execute_result"
    }
   ],
   "source": [
    "sql\"select x1.*, x1.* from city x1 where 939 = x1.id\".query[(City, City)].to[List].transact(xa).unsafeRunSync"
   ]
  },
  {
   "cell_type": "code",
   "execution_count": 37,
   "metadata": {},
   "outputs": [
    {
     "data": {
      "text/plain": [
       "\u001b[36mres36\u001b[39m: \u001b[32mList\u001b[39m[(\u001b[32mString\u001b[39m, \u001b[32mString\u001b[39m, \u001b[32mCity\u001b[39m)] = \u001b[33mList\u001b[39m(\n",
       "  (\n",
       "    \u001b[32m\"(\\\"(939,Jakarta,IDN,\\\"\\\"Jakarta Raya\\\"\\\",9604900)\\\")\"\u001b[39m,\n",
       "    \u001b[32m\"(939,Jakarta,IDN,\\\"Jakarta Raya\\\",9604900)\"\u001b[39m,\n",
       "    \u001b[33mCity\u001b[39m(\u001b[32m939\u001b[39m, \u001b[32m\"Jakarta\"\u001b[39m, \u001b[32m\"IDN\"\u001b[39m, \u001b[32m\"Jakarta Raya\"\u001b[39m, \u001b[32m9604900\u001b[39m)\n",
       "  )\n",
       ")"
      ]
     },
     "execution_count": 37,
     "metadata": {},
     "output_type": "execute_result"
    }
   ],
   "source": [
    "sql\"select row(x1), x1, x1.* from city x1 where 939 = x1.id\".query[(String, String, City)].to[List].transact(xa).unsafeRunSync"
   ]
  },
  {
   "cell_type": "code",
   "execution_count": null,
   "metadata": {},
   "outputs": [],
   "source": []
  },
  {
   "cell_type": "code",
   "execution_count": null,
   "metadata": {},
   "outputs": [],
   "source": []
  }
 ],
 "metadata": {
  "kernelspec": {
   "display_name": "Scala",
   "language": "scala",
   "name": "scala"
  },
  "language_info": {
   "codemirror_mode": "text/x-scala",
   "file_extension": ".scala",
   "mimetype": "text/x-scala",
   "name": "scala",
   "nbconvert_exporter": "script",
   "version": "2.13.0"
  }
 },
 "nbformat": 4,
 "nbformat_minor": 4
}
