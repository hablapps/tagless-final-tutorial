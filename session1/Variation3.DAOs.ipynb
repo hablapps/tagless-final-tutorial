{
 "cells": [
  {
   "cell_type": "code",
   "execution_count": 4,
   "metadata": {},
   "outputs": [
    {
     "data": {
      "text/plain": [
       "\u001b[32mimport \u001b[39m\u001b[36m$file.$     \n",
       "\u001b[39m\n",
       "\u001b[32mimport \u001b[39m\u001b[36mcommon._\n",
       "\u001b[39m\n",
       "\u001b[32mimport \u001b[39m\u001b[36mdoobie._, doobie.implicits._\n",
       "\u001b[39m\n",
       "\u001b[32mimport \u001b[39m\u001b[36mcats.effect.IO\u001b[39m"
      ]
     },
     "execution_count": 4,
     "metadata": {},
     "output_type": "execute_result"
    }
   ],
   "source": [
    "import $file.common\n",
    "import common._\n",
    "import doobie._, doobie.implicits._\n",
    "import cats.effect.IO"
   ]
  },
  {
   "cell_type": "markdown",
   "metadata": {},
   "source": [
    "# Variation 3. Plain Old DAOs"
   ]
  },
  {
   "cell_type": "markdown",
   "metadata": {},
   "source": [
    "So, we want to abstract the persistence layer from our business logic. The common answer to this problem, at least in the Java community, is based on [Data Object Access](https://en.wikipedia.org/wiki/Data_access_object) components. Basically, the persistence layer is isolated using conventional interfaces, as follows:"
   ]
  },
  {
   "cell_type": "code",
   "execution_count": 5,
   "metadata": {},
   "outputs": [
    {
     "data": {
      "text/plain": [
       "defined \u001b[32mclass\u001b[39m \u001b[36mCountry\u001b[39m\n",
       "defined \u001b[32mclass\u001b[39m \u001b[36mCity\u001b[39m\n",
       "defined \u001b[32mtrait\u001b[39m \u001b[36mCityDAO\u001b[39m\n",
       "defined \u001b[32mtrait\u001b[39m \u001b[36mCountryDAO\u001b[39m\n",
       "defined \u001b[32mtrait\u001b[39m \u001b[36mWorldDAO\u001b[39m"
      ]
     },
     "execution_count": 5,
     "metadata": {},
     "output_type": "execute_result"
    }
   ],
   "source": [
    "// Case classes\n",
    "\n",
    "case class Country(code: String, name: String, capital: Option[Int])\n",
    "case class City(id: Int, name: String, countryCode: String, population: Int)\n",
    "\n",
    "// DAOs\n",
    "\n",
    "trait CityDAO{\n",
    "    def city(id: Int): City\n",
    "    def cityName(id: Int): String\n",
    "    def cityPopulation(id: Int): Int\n",
    "    def cityCountryCode(id: Int): String\n",
    "}\n",
    "\n",
    "trait CountryDAO{\n",
    "    def country(code: String): Country\n",
    "    def countryName(code: String): String\n",
    "    def countryCapital(code: String): Option[Int]\n",
    "}\n",
    "\n",
    "trait WorldDAO extends CityDAO with CountryDAO{\n",
    "    def allCountries: List[Country]\n",
    "    def allCountryCodes: List[String]\n",
    "    def allCityIds: List[Int]\n",
    "}"
   ]
  },
  {
   "cell_type": "markdown",
   "metadata": {},
   "source": [
    "Our query is implemented almost exactly as we did in the pure in-memory solution, only that the world dependency does not represent the actual data, but an interface to it:"
   ]
  },
  {
   "cell_type": "code",
   "execution_count": 6,
   "metadata": {},
   "outputs": [
    {
     "data": {
      "text/plain": [
       "defined \u001b[32mfunction\u001b[39m \u001b[36mlargeCities\u001b[39m"
      ]
     },
     "execution_count": 6,
     "metadata": {},
     "output_type": "execute_result"
    }
   ],
   "source": [
    "def largeCities(implicit W: WorldDAO): List[(String, String)] = \n",
    "    for {\n",
    "        Country(_, name, Some(capitalId)) <- W.allCountries\n",
    "        city = W.city(capitalId) \n",
    "        if city.population > 8000000\n",
    "    } yield (city.name, name)"
   ]
  },
  {
   "cell_type": "markdown",
   "metadata": {},
   "source": [
    "This interface can be implemented the DAO interfaces so that they access the real world database through doobie:"
   ]
  },
  {
   "cell_type": "code",
   "execution_count": 7,
   "metadata": {},
   "outputs": [
    {
     "data": {
      "text/plain": [
       "defined \u001b[32mclass\u001b[39m \u001b[36mDoobieWorld\u001b[39m\n",
       "defined \u001b[32mobject\u001b[39m \u001b[36mDoobieWorld\u001b[39m"
      ]
     },
     "execution_count": 7,
     "metadata": {},
     "output_type": "execute_result"
    }
   ],
   "source": [
    "class DoobieWorld(xa: Transactor[IO]) extends WorldDAO{\n",
    "    def city(id: Int): City = \n",
    "        sql\"select id, name, countryCode, population from city where id = $id\"\n",
    "            .query[City].unique.transact(xa).unsafeRunSync\n",
    "\n",
    "    def cityName(id: Int): String =\n",
    "        sql\"select name from city where id = $id\"\n",
    "            .query[String].unique.transact(xa).unsafeRunSync\n",
    "    \n",
    "    def cityPopulation(id: Int): Int = \n",
    "        sql\"select population from city where id = $id\"\n",
    "            .query[Int].unique.transact(xa).unsafeRunSync\n",
    "    \n",
    "    def cityCountryCode(id: Int): String = \n",
    "        sql\"select countryCode from city where id = $id\"\n",
    "            .query[String].unique.transact(xa).unsafeRunSync\n",
    "\n",
    "    def country(code: String): Country = \n",
    "        sql\"select code, name, capital from country where code = $code\"\n",
    "            .query[Country].unique.transact(xa).unsafeRunSync\n",
    "    \n",
    "    def countryName(code: String): String =\n",
    "        sql\"select name from country where code = $code\"\n",
    "            .query[String].unique.transact(xa).unsafeRunSync\n",
    "    \n",
    "    def countryCapital(code: String): Option[Int] =\n",
    "        sql\"select capital from country where code = $code\"\n",
    "            .query[Int].option.transact(xa).unsafeRunSync\n",
    "    \n",
    "    def allCountries: List[Country] = \n",
    "        sql\"select code, name, capital from country\"\n",
    "            .query[Country].to[List].transact(xa).unsafeRunSync\n",
    "    \n",
    "    def allCountryCodes: List[String] = \n",
    "        sql\"select code from country\"\n",
    "            .query[String].to[List].transact(xa).unsafeRunSync\n",
    "    \n",
    "    def allCityIds: List[Int] = \n",
    "        sql\"select id from city\"\n",
    "            .query[Int].to[List].transact(xa).unsafeRunSync\n",
    "}\n",
    "\n",
    "object DoobieWorld extends DoobieWorld(xa)"
   ]
  },
  {
   "cell_type": "markdown",
   "metadata": {},
   "source": [
    "So that, we can query the actual database by injecting this dependency to our generic program:"
   ]
  },
  {
   "cell_type": "code",
   "execution_count": 8,
   "metadata": {},
   "outputs": [
    {
     "data": {
      "text/plain": [
       "\u001b[36mres7\u001b[39m: \u001b[32mList\u001b[39m[(\u001b[32mString\u001b[39m, \u001b[32mString\u001b[39m)] = \u001b[33mList\u001b[39m(\n",
       "  (\u001b[32m\"Jakarta\"\u001b[39m, \u001b[32m\"Indonesia\"\u001b[39m),\n",
       "  (\u001b[32m\"Seoul\"\u001b[39m, \u001b[32m\"South Korea\"\u001b[39m),\n",
       "  (\u001b[32m\"Ciudad de M\\u00e9xico\"\u001b[39m, \u001b[32m\"Mexico\"\u001b[39m),\n",
       "  (\u001b[32m\"Moscow\"\u001b[39m, \u001b[32m\"Russian Federation\"\u001b[39m)\n",
       ")"
      ]
     },
     "execution_count": 8,
     "metadata": {},
     "output_type": "execute_result"
    }
   ],
   "source": [
    "largeCities(DoobieWorld)"
   ]
  },
  {
   "cell_type": "markdown",
   "metadata": {},
   "source": [
    "Which other instances of DAO APIs we would like to have? Well, not exactly proper instances, but we may mock the APIs in order to unit test our business logic. So, great! We got idiomatic code, modularity (we may decompose the `largeCities` query in smaller query fragments), and unit testing. And, since we are programming against an abstract interface, we may later add new instances without breaking our code, in case that we eventually change our persistence layer, right?"
   ]
  },
  {
   "cell_type": "markdown",
   "metadata": {},
   "source": [
    "### Asynchronous DAOs"
   ]
  },
  {
   "cell_type": "markdown",
   "metadata": {},
   "source": [
    "Well, not exactly. The APIs we just wrote seems to be purely generic, but they unadvertently commit to a particular class of implementations, namely __synchronous__ ones. Indeed, there is no asynchronous instance of the previous APIs. So, if we want to benefit from accessing the database asynchronously, we have to change our API, and ... all the business logic that builds upon it. "
   ]
  },
  {
   "cell_type": "markdown",
   "metadata": {},
   "source": [
    "This asynchronous version of the DAO APIs may look like follows:"
   ]
  },
  {
   "cell_type": "code",
   "execution_count": 9,
   "metadata": {},
   "outputs": [
    {
     "data": {
      "text/plain": [
       "defined \u001b[32mtrait\u001b[39m \u001b[36mCityDAOAsync\u001b[39m\n",
       "defined \u001b[32mtrait\u001b[39m \u001b[36mCountryDAOAsync\u001b[39m\n",
       "defined \u001b[32mtrait\u001b[39m \u001b[36mWorldDAOAsync\u001b[39m"
      ]
     },
     "execution_count": 9,
     "metadata": {},
     "output_type": "execute_result"
    }
   ],
   "source": [
    "trait CityDAOAsync{\n",
    "    def city(id: Int): IO[City]\n",
    "    def cityName(id: Int): IO[String]\n",
    "    def cityPopulation(id: Int): IO[Int]\n",
    "    def cityCountryCode(id: Int): IO[String]\n",
    "}\n",
    "\n",
    "trait CountryDAOAsync{\n",
    "    def country(code: String): IO[Country]\n",
    "    def countryName(code: String): IO[String]\n",
    "    def countryCapital(code: String): IO[Option[Int]]\n",
    "}\n",
    "\n",
    "trait WorldDAOAsync extends CityDAOAsync with CountryDAOAsync{\n",
    "    def allCountries: IO[List[Country]]\n",
    "    def allCountryCodes: IO[List[String]]\n",
    "    def allCityIds: IO[List[Int]]\n",
    "}"
   ]
  },
  {
   "cell_type": "markdown",
   "metadata": {},
   "source": [
    "Admittedly, we are committing ourselves to a particular IO monad, namely `cats.effect.IO`, but this doesn't matter, right? Well, chances are there that we may need to implement our DAOs using libraries based on alternative IO monads (`monix.Task`, `scalaz.Task`, `scala.concurrent.Future`, `ZIO`, etc.). That wouldn't be a stopper, but it would definitely require adaptor. Similarly, unit testing, which is far from being asynchronous, would have also to deal with IO. All this makes our code more complex than needed, and points towards a huge leak into our DAO abstractions. Can we do it better? Enter [MTL-based repositories](Variation4.MTL.ipynb)!"
   ]
  }
 ],
 "metadata": {
  "kernelspec": {
   "display_name": "Scala",
   "language": "scala",
   "name": "scala"
  },
  "language_info": {
   "codemirror_mode": "text/x-scala",
   "file_extension": ".scala",
   "mimetype": "text/x-scala",
   "name": "scala",
   "nbconvert_exporter": "script",
   "version": "2.13.0"
  }
 },
 "nbformat": 4,
 "nbformat_minor": 4
}
