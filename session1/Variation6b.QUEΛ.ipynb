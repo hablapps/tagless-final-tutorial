{
 "cells": [
  {
   "cell_type": "code",
   "execution_count": 1,
   "metadata": {},
   "outputs": [
    {
     "data": {
      "text/plain": [
       "\u001b[32mimport \u001b[39m\u001b[36m$file.$     , common._\n",
       "\u001b[39m\n",
       "\u001b[32mimport \u001b[39m\u001b[36m$file.$   , quel._\n",
       "\u001b[39m\n",
       "\u001b[32mimport \u001b[39m\u001b[36mcats.data._, cats._, cats.implicits._\n",
       "\u001b[39m\n",
       "\u001b[32mimport \u001b[39m\u001b[36mdoobie.implicits._\n",
       "\u001b[39m\n",
       "\u001b[32mimport \u001b[39m\u001b[36mdoobie.util.fragment._\n",
       "\u001b[39m\n",
       "\u001b[32mimport \u001b[39m\u001b[36mdoobie.util._, query._\n",
       "\u001b[39m\n",
       "\u001b[32mimport \u001b[39m\u001b[36mcats.evidence.Is\u001b[39m"
      ]
     },
     "execution_count": 1,
     "metadata": {},
     "output_type": "execute_result"
    }
   ],
   "source": [
    "import $file.common, common._\n",
    "import $file.quel, quel._\n",
    "import cats.data._, cats._, cats.implicits._\n",
    "import doobie.implicits._\n",
    "import doobie.util.fragment._\n",
    "import doobie.util._, query._\n",
    "import cats.evidence.Is"
   ]
  },
  {
   "cell_type": "markdown",
   "metadata": {},
   "source": [
    "# Variation 6b. From QUEΛ to SQL "
   ]
  },
  {
   "cell_type": "markdown",
   "metadata": {},
   "source": [
    "The main purpose of this notebook is showing how can we generate efficient SQL queries from QUEΛ programs. Before that, however, we will do a simpler exercise to demonstrate the power of tagless-final APIs."
   ]
  },
  {
   "cell_type": "markdown",
   "metadata": {},
   "source": [
    "### A pretty-printer of QUEΛ programs"
   ]
  },
  {
   "cell_type": "markdown",
   "metadata": {},
   "source": [
    "The question is this: can we actually write a pretty printer for the `largeCapitals` MTL-based query in [variance 4](Variance4.MTL.ipynb)?\n",
    "\n",
    "`def largeCapitals[F[_]: Monad: FunctorFilter](implicit W: WorldRepo[F]): F[(String, String)]`\n",
    "\n",
    "The answer is we can't. This pretty printer would require instantiating the corresponding APIs with a constant type constructor like `F[T] = String`. This could be certainly be done for the `WorldRepo` API, but not for `Monad` and `FunctorFilter`. Indeed, how could we implement the following signatures?"
   ]
  },
  {
   "cell_type": "code",
   "execution_count": 2,
   "metadata": {},
   "outputs": [
    {
     "data": {
      "text/plain": [
       "defined \u001b[32mtype\u001b[39m \u001b[36mConstString\u001b[39m\n",
       "defined \u001b[32mobject\u001b[39m \u001b[36mStringMonad\u001b[39m\n",
       "defined \u001b[32mobject\u001b[39m \u001b[36mStringFunctorFilter\u001b[39m"
      ]
     },
     "execution_count": 2,
     "metadata": {},
     "output_type": "execute_result"
    }
   ],
   "source": [
    "type ConstString[T] = String \n",
    "\n",
    "object StringMonad extends Monad[ConstString]{\n",
    "    def flatMap[A, B](fa: String)(f: A => String): String = ???\n",
    "    def pure[A](a: A): String = ???\n",
    "    def tailRecM[A, B](a: A)(f: A => String): String = ???\n",
    "}\n",
    "\n",
    "object StringFunctorFilter extends FunctorFilter[ConstString]{\n",
    "    def functor = ???\n",
    "    def mapFilter[A, B](fa: String)(f: A => Option[B]): String = ???\n",
    "}"
   ]
  },
  {
   "cell_type": "markdown",
   "metadata": {},
   "source": [
    "The only thing we could implement in these instantiations is the `functor` field of `FunctorFilter`. The other components, we can't - not even the `pure[A]` component of `Monad` (we would need a `Show[A]` instance). For example, in the case of `flatMap`, how are we suppose to obtain a representation of the continuation `A => String`? The `A` is supposed to be computed from its argument `fa`, but `String` is no computation at all. What we are looking for is a _representation_ of that continuation, and tagless-final APIs fit the bill! \n",
    "\n",
    "Let's give a non-standard semantics for QUEΛ for pretty-printing:"
   ]
  },
  {
   "cell_type": "code",
   "execution_count": 3,
   "metadata": {},
   "outputs": [
    {
     "data": {
      "text/plain": [
       "defined \u001b[32mclass\u001b[39m \u001b[36mStringRep\u001b[39m\n",
       "defined \u001b[32mobject\u001b[39m \u001b[36mStringRep\u001b[39m"
      ]
     },
     "execution_count": 3,
     "metadata": {},
     "output_type": "execute_result"
    }
   ],
   "source": [
    "abstract class StringRep[T] extends (String => Int => String)\n",
    "\n",
    "object StringRep{\n",
    "    \n",
    "    def apply[T](f: String => Int => String): StringRep[T] = \n",
    "        new StringRep[T]{\n",
    "            def apply(i: String): Int => String = f(i)\n",
    "        }\n",
    "\n",
    "    implicit object StringQUEΛ extends QUEΛ[StringRep]{\n",
    "        // Base types\n",
    "\n",
    "        def bool(b: Boolean): StringRep[Boolean] = \n",
    "            StringRep(_ => _ => s\"Q.bool(${b.toString})\")\n",
    "\n",
    "        def int(i: Int): StringRep[Int] = \n",
    "            StringRep(_ => _ => s\"Q.int(${i.toString})\")\n",
    "\n",
    "        def str(s: String): StringRep[String] = \n",
    "            StringRep(_ => _ => s\"Q.str($s)\")\n",
    "                \n",
    "        def ===(a1: StringRep[Int], a2: StringRep[Int]): StringRep[Boolean] = \n",
    "            StringRep(t => i => s\"Q.===(${a1(t)(i)}, ${a2(t)(i)})\")\n",
    "\n",
    "        def >(i1: StringRep[Int], i2: StringRep[Int]): StringRep[Boolean] = \n",
    "            StringRep(t => i => s\"Q.>(${i1(t)(i)}, ${i2(t)(i)})\")\n",
    "\n",
    "        // ADTs\n",
    "\n",
    "        def tuple2[A, B](a: StringRep[A], b: StringRep[B]): StringRep[(A, B)] = \n",
    "            StringRep(t => i => s\"\"\"Q.tuple2(${a(t)(i)}, ${b(t)(i)})\"\"\")\n",
    "\n",
    "        def none[A]: StringRep[Option[A]] = \n",
    "            StringRep(_ => _ => \"none\")\n",
    "\n",
    "        def some[A](a: StringRep[A]): StringRep[Option[A]] = \n",
    "            StringRep(t => i => s\"some(${a(t)(i)})\")\n",
    "\n",
    "        def exists[A](o: StringRep[Option[A]])(cond: StringRep[A] => StringRep[Boolean]): StringRep[Boolean] = \n",
    "            StringRep(t => i => s\"\"\"Q.exists(${o(t)(i)})(x$i => ${cond(_ => _ => s\"x$i\")(t)(i)})\"\"\")\n",
    "\n",
    "        // Comprehensions\n",
    "\n",
    "        def from[A, B](q: StringRep[List[A]])(f: StringRep[A] => StringRep[List[B]]): StringRep[List[B]] = \n",
    "            StringRep(t => i => \n",
    "                s\"\"\"|${t}Q.from(\n",
    "                    |${q(t+\"    \")(i)}\n",
    "                    |${t}){ x$i => \n",
    "                    |${f(_ => _ => s\"x$i\")(t+\"    \")(i+1)}\n",
    "                    |${t}}\"\"\".stripMargin)\n",
    "\n",
    "        def select[A](a: StringRep[A]): StringRep[List[A]] = \n",
    "            StringRep(t => i => t + s\"Q.select(${a(t)(i)})\")\n",
    "\n",
    "        def where[A](cond: StringRep[Boolean])(q: StringRep[List[A]]): StringRep[List[A]] = \n",
    "            StringRep(t => i => \n",
    "                s\"\"\"|${t}Q.where(${cond(t)(i)})(\n",
    "                    |${q(t+\"    \")(i)}\n",
    "                    |${t})\"\"\".stripMargin)\n",
    "    }\n",
    "    \n",
    "    implicit object StringRepWorldModel extends WorldModel[StringRep]{\n",
    "        // Cities\n",
    "        \n",
    "        def cityId(city: StringRep[City]): StringRep[Int] = \n",
    "            StringRep(t => i => s\"W.cityId(${city(t)(i)})\")\n",
    "\n",
    "        def cityName(city: StringRep[City]): StringRep[String] = \n",
    "            StringRep(t => i => s\"W.cityName(${city(t)(i)})\")\n",
    "\n",
    "        def cityCountry(city: StringRep[City]): StringRep[String] = \n",
    "            StringRep(t => i => s\"W.cityCountry(${city(t)(i)})\")\n",
    "\n",
    "        def cityPopulation(city: StringRep[City]): StringRep[Int] = \n",
    "            StringRep(t => i => s\"W.cityPopulation(${city(t)(i)})\")\n",
    "\n",
    "        // Countries\n",
    "        \n",
    "        def countryCode(country: StringRep[Country]): StringRep[String] = \n",
    "            StringRep(t => i => s\"W.countryCode(${country(t)(i)})\")\n",
    "\n",
    "        def countryName(country: StringRep[Country]): StringRep[String] = \n",
    "            StringRep(t => i => s\"W.countryName(${country(t)(i)})\")\n",
    "\n",
    "        def countryCapital(country: StringRep[Country]): StringRep[Option[Int]] = \n",
    "            StringRep(t => i => s\"W.countryCapital(${country(t)(i)})\")\n",
    "\n",
    "        // World\n",
    "        \n",
    "        def allCountries: StringRep[List[Country]] = \n",
    "            StringRep(t => _ => t + s\"W.allCountries\")\n",
    "\n",
    "        def allCities: StringRep[List[City]] = \n",
    "            StringRep(t => _ => t + s\"W.allCities\")\n",
    "    }\n",
    "}"
   ]
  },
  {
   "cell_type": "markdown",
   "metadata": {},
   "source": [
    "The first argument in `String => Int => String` takes into account tabbing, and the second one is a counter used for giving names to variables (which appear in `exist` and `from`). But `from` is certainly similar to `flatMap`, how is it that we could implement it? Let's pay attention to the `from` signature:\n",
    "\n",
    "`def from[A, B](q: Repr[List[A]])(f: Repr[A] => Repr[List[B]]): Repr[List[B]]`\n",
    "\n",
    "As we can see, the continuation's type does not demand an `A` but a `Repr[A]`, i.e. we don't need a computation of `A`, but just a representation, which we can certainly provide. "
   ]
  },
  {
   "cell_type": "markdown",
   "metadata": {},
   "source": [
    "Let's obtain the pretty print representation of our `largeCapitals` query: "
   ]
  },
  {
   "cell_type": "code",
   "execution_count": 4,
   "metadata": {},
   "outputs": [
    {
     "data": {
      "text/plain": [
       "\u001b[32mimport \u001b[39m\u001b[36mQUEΛSyntax._, WorldModelSyntax._\n",
       "\n",
       "\u001b[39m\n",
       "defined \u001b[32mfunction\u001b[39m \u001b[36mlargeCapitals\u001b[39m"
      ]
     },
     "execution_count": 4,
     "metadata": {},
     "output_type": "execute_result"
    }
   ],
   "source": [
    "import QUEΛSyntax._, WorldModelSyntax._\n",
    "\n",
    "def largeCapitals[Repr[_]: QUEΛ: WorldModel]: Repr[List[(String, String)]] = \n",
    "    for {\n",
    "        country <- allCountries\n",
    "        city <- allCities if country.capital.exists(_ === city.id)\n",
    "        if city.population > 8000000\n",
    "    } yield (city.name, country.name)"
   ]
  },
  {
   "cell_type": "code",
   "execution_count": 5,
   "metadata": {},
   "outputs": [
    {
     "name": "stdout",
     "output_type": "stream",
     "text": [
      "    Q.from(\n",
      "        W.allCountries\n",
      "    ){ x0 => \n",
      "        Q.from(\n",
      "            Q.from(\n",
      "                Q.from(\n",
      "                    W.allCities\n",
      "                ){ x1 => \n",
      "                    Q.where(Q.exists(W.countryCapital(x0))(x2 => Q.===(x2, W.cityId(x1))))(\n",
      "                        Q.select(x1)\n",
      "                    )\n",
      "                }\n",
      "            ){ x1 => \n",
      "                Q.where(Q.>(W.cityPopulation(x1), Q.int(8000000)))(\n",
      "                    Q.select(x1)\n",
      "                )\n",
      "            }\n",
      "        ){ x1 => \n",
      "            Q.select(Q.tuple2(W.cityName(x1), W.countryName(x0)))\n",
      "        }\n",
      "    }\n"
     ]
    }
   ],
   "source": [
    "println(largeCapitals[StringRep].apply(\"    \")(0))"
   ]
  },
  {
   "cell_type": "markdown",
   "metadata": {},
   "source": [
    "Note that there is no trace of the for-comprehension syntax, since the Scala preprocessor desugars these expressions into corresponding `flatMap`, `filter` and `map` calls. However, we can't see either these calls, where are they? They were also desugared, this time by our interpreter. In fact, tagless-final interpreters behave like preprocessors, and derived functions like `flatMap`, `map` and `filter` implemented in the `QUEΛSyntax` module, are actually much like macros!"
   ]
  },
  {
   "cell_type": "markdown",
   "metadata": {},
   "source": [
    "Last, note that we obtain valid Scala code as we can manually check by copy-pasting the resulting `String` in the following signature:"
   ]
  },
  {
   "cell_type": "code",
   "execution_count": 6,
   "metadata": {},
   "outputs": [
    {
     "data": {
      "text/plain": [
       "defined \u001b[32mfunction\u001b[39m \u001b[36mlargeCapitalsPP\u001b[39m"
      ]
     },
     "execution_count": 6,
     "metadata": {},
     "output_type": "execute_result"
    }
   ],
   "source": [
    "def largeCapitalsPP[Repr[_]](implicit Q: QUEΛ[Repr], W: WorldModel[Repr]): Repr[List[(String, String)]] = \n",
    "    Q.from(\n",
    "        W.allCountries\n",
    "    ){ x0 => \n",
    "        Q.from(\n",
    "            Q.from(\n",
    "                Q.from(\n",
    "                    W.allCities\n",
    "                ){ x1 => \n",
    "                    Q.where(Q.exists(W.countryCapital(x0))(x2 => Q.===(x2, W.cityId(x1))))(\n",
    "                        Q.select(x1)\n",
    "                    )\n",
    "                }\n",
    "            ){ x1 => \n",
    "                Q.where(Q.>(W.cityPopulation(x1), Q.int(8000000)))(\n",
    "                    Q.select(x1)\n",
    "                )\n",
    "            }\n",
    "        ){ x1 => \n",
    "            Q.select(Q.tuple2(W.cityName(x1), W.countryName(x0)))\n",
    "        }\n",
    "    }"
   ]
  },
  {
   "cell_type": "code",
   "execution_count": 7,
   "metadata": {},
   "outputs": [
    {
     "data": {
      "text/plain": [
       "\u001b[36mres6\u001b[39m: \u001b[32mBoolean\u001b[39m = true"
      ]
     },
     "execution_count": 7,
     "metadata": {},
     "output_type": "execute_result"
    }
   ],
   "source": [
    "largeCapitalsPP[StringRep].apply(\"\")(0) == largeCapitals[StringRep].apply(\"\")(0)"
   ]
  },
  {
   "cell_type": "markdown",
   "metadata": {},
   "source": [
    "### Show me the SQL query!"
   ]
  },
  {
   "cell_type": "markdown",
   "metadata": {},
   "source": [
    "We are ready now to face the real challenge: generate SQL expressions from `QUEΛ` queries. Informally, there seems to be a close correspondence between comprehensions and SQL: loosely speaking, `from` expressions generates a whole SQL statement; `where` expressions contribute to the SQL `WHERE` clause; and `select` expressions to the SQL `SELECT` one. Where do basic tables for the SQL `FROM` clause come from? The correspond to domain model expressions of type `List[A]`, for some type `A`. In the world domain model these are defined by `allCountries` and `allCities`. Ok, but if we analyse the pretty print result of `largeCapitals` we stumbled upon a mess of nested `from` expressions, that would certainly lead to nested subqueries, if at all correct. Right, let's look to the following _normalized_ query instead, in order to see the correspondence of `QUEΛ` to `SQL` more directly:"
   ]
  },
  {
   "cell_type": "code",
   "execution_count": 8,
   "metadata": {},
   "outputs": [
    {
     "data": {
      "text/plain": [
       "defined \u001b[32mfunction\u001b[39m \u001b[36mlargeCapitalsNormalized\u001b[39m"
      ]
     },
     "execution_count": 8,
     "metadata": {},
     "output_type": "execute_result"
    }
   ],
   "source": [
    "def largeCapitalsNormalized[Repr[_]](implicit Q: QUEΛ[Repr], W: WorldModel[Repr]): Repr[List[(String, String)]] = \n",
    "    Q.from(W.allCountries){ x0 => \n",
    "        Q.from(W.allCities){ x1 => \n",
    "            Q.where(W.countryCapital(x0).exists(_ === W.cityId(x1)))(\n",
    "                Q.where(W.cityPopulation(x1) > Q.int(8000000))(\n",
    "                    Q.select((W.cityName(x1), W.countryName(x0)))\n",
    "                )\n",
    "            )\n",
    "        }\n",
    "    }"
   ]
  },
  {
   "cell_type": "code",
   "execution_count": 9,
   "metadata": {},
   "outputs": [
    {
     "name": "stdout",
     "output_type": "stream",
     "text": [
      "    Q.from(\n",
      "        W.allCountries\n",
      "    ){ x0 => \n",
      "        Q.from(\n",
      "            W.allCities\n",
      "        ){ x1 => \n",
      "            Q.where(Q.exists(W.countryCapital(x0))(x2 => Q.===(x2, W.cityId(x1))))(\n",
      "                Q.where(Q.>(W.cityPopulation(x1), Q.int(8000000)))(\n",
      "                    Q.select(Q.tuple2(W.cityName(x1), W.countryName(x0)))\n",
      "                )\n",
      "            )\n",
      "        }\n",
      "    }\n"
     ]
    }
   ],
   "source": [
    "println(largeCapitalsNormalized[StringRep].apply(\"    \")(0))"
   ]
  },
  {
   "cell_type": "markdown",
   "metadata": {},
   "source": [
    "This query is said to be in _normal form_: very informally, we can understand this query as a linearly ordered sequence of `from` expressions, followed by `where` expressions, and ended by the `select` one. This can be easily translated to SQL. But the problem is, then, how to transform any arbitrary, possibly messy, `QUEΛ` expression into its normal form. There are two major alternatives: we may implement a re-writing interpreter that performs syntactic transformations until the normal form is found; or we may perform the bulk of the normalization process at the semantic level, coming back to the syntactic level to generate the normal form as a simple step. This second strategy is called _normalization by evaluation_ and it's explained in the following [paper](http://okmij.org/ftp/meta-programming/#SQUR) by Oleg and Tatsuya:"
   ]
  },
  {
   "cell_type": "markdown",
   "metadata": {},
   "source": [
    "![](images/maintainingpaper.png)"
   ]
  },
  {
   "cell_type": "markdown",
   "metadata": {},
   "source": [
    "In what follows, we will apply the normalization-by-evaluation strategy introduced in this paper. The only minor difference is that we won't come back to the syntactic level to obtain the normalized query, but we will generate SQL directly from the chosen semantic representation (as it seems to be done in the [implementation](http://okmij.org/ftp/meta-programming/Sqr/) of the paper itself). Well, talk of the devil, here it is!"
   ]
  },
  {
   "cell_type": "code",
   "execution_count": 49,
   "metadata": {},
   "outputs": [
    {
     "data": {
      "text/plain": [
       "defined \u001b[32mclass\u001b[39m \u001b[36mDoobieRep\u001b[39m\n",
       "defined \u001b[32mclass\u001b[39m \u001b[36mSQLVar\u001b[39m\n",
       "defined \u001b[32mclass\u001b[39m \u001b[36mSQLInt\u001b[39m\n",
       "defined \u001b[32mclass\u001b[39m \u001b[36mSQLBoolean\u001b[39m\n",
       "defined \u001b[32mclass\u001b[39m \u001b[36mSQLString\u001b[39m\n",
       "defined \u001b[32mclass\u001b[39m \u001b[36mSQLOption\u001b[39m\n",
       "defined \u001b[32mclass\u001b[39m \u001b[36mSQLTuple\u001b[39m\n",
       "defined \u001b[32mclass\u001b[39m \u001b[36mSQLList\u001b[39m\n",
       "defined \u001b[32mobject\u001b[39m \u001b[36mDoobieRep\u001b[39m"
      ]
     },
     "execution_count": 49,
     "metadata": {},
     "output_type": "execute_result"
    }
   ],
   "source": [
    "sealed abstract class DoobieRep[T]\n",
    "case class SQLVar[A](fragment: Fragment) extends DoobieRep[A] // TBD: This makes pattern matching unsafe\n",
    "case class SQLInt(fragment: Fragment) extends DoobieRep[Int]\n",
    "case class SQLBoolean(fragment: Fragment) extends DoobieRep[Boolean]\n",
    "case class SQLString(fragment: Fragment) extends DoobieRep[String]\n",
    "case class SQLOption[A](rep: Option[DoobieRep[A]]) extends DoobieRep[Option[A]]\n",
    "case class SQLTuple[A, B](_1: DoobieRep[A], _2: DoobieRep[B]) extends DoobieRep[(A, B)]\n",
    "case class SQLList[A](\n",
    "    from: List[DoobieRep.Table], \n",
    "    where: List[DoobieRep[Boolean]], \n",
    "    select: DoobieRep[A]) extends DoobieRep[List[A]]\n",
    "\n",
    "object DoobieRep{\n",
    "    case class Table(name: String, varName: String)\n",
    "}"
   ]
  },
  {
   "cell_type": "markdown",
   "metadata": {},
   "source": [
    "Wow, the `Id[_]` and `StringRep[_]` representations were more simple! Let's not despair, this is certainly more complex, but the complexity will hopefully vanish if we note that the semantic domain is a GADT whose type discriminators correspond to the types of `QUEΛ` expressions: the base types `Integer`, `Boolean` and `String`, the ADTs `Tuple2` and `Option`, and the multiset `List`. And the representations for base types and ADTs are simple: the representation of base types is a doobie `Fragment`, i.e. a fragment of SQL expression; the representation of a tuple is a tuple of representations, and the representation of an optional expression is an optional representation. The representation of `List` is more involved, but it simply describes the basic components of a complete SQL query: the components of the `FROM` clause (a sequence of tables), the `WHERE` clause (a sequence of boolean representations) and the `SELECT` clause (a representation of type `A`). Last, note that there is an special case in the GADT for variables of a generic type `A`.\n",
    "\n",
    "Let's recall our goal: we want to obtain a simple SQL select statement for `QUEΛ` expressions of type `List`, without nested subqueries in the `FROM` clause. Let's see how we can certainly generate this kind of SQL query from the above representation, and let's leave for later the task of figuring out how to generate that from `QUEΛ` and `WorldModel` expressions. "
   ]
  },
  {
   "cell_type": "code",
   "execution_count": 50,
   "metadata": {},
   "outputs": [
    {
     "data": {
      "text/plain": [
       "defined \u001b[32mclass\u001b[39m \u001b[36mFragmentDoobieRep\u001b[39m"
      ]
     },
     "execution_count": 50,
     "metadata": {},
     "output_type": "execute_result"
    }
   ],
   "source": [
    "implicit class FragmentDoobieRep[T](d: DoobieRep[T]){ \n",
    "    \n",
    "    val fragment: Fragment = d match {\n",
    "        case d: SQLVar[_]      => d.fragment\n",
    "        case d: SQLInt         => d.fragment\n",
    "        case d: SQLBoolean     => d.fragment\n",
    "        case d: SQLString      => d.fragment\n",
    "        case d: SQLOption[_]   => d.rep.fold(fr0\"\")(_.fragment)\n",
    "        case d: SQLTuple[_, _] => d._1.fragment ++ fr0\", \" ++ d._2.fragment\n",
    "        case d: SQLList[_]     => sqlListFragment(d)\n",
    "    }\n",
    "    \n",
    "    private def sqlListFragment[A](d: SQLList[A]): Fragment = {\n",
    "        \n",
    "        def tableFragment(table: DoobieRep.Table): Fragment = \n",
    "            Fragment.const(table.name) ++ Fragment.const0(table.varName)\n",
    "        \n",
    "        val fromFr: List[Fragment] = \n",
    "            if (d.from.isEmpty) List() \n",
    "            else List(fr\"from\" ++ d.from.map(tableFragment).mkFragment(fr0\",\", false))\n",
    "        \n",
    "        val whereFr: List[Fragment] = \n",
    "            if (d.where.isEmpty) List() \n",
    "            else List(fr\"where\" ++ d.where.map(_.fragment).mkFragment(fr0\"and\"))\n",
    "\n",
    "        (List(fr\"select\" ++ d.select.fragment) ++ fromFr ++ whereFr)\n",
    "            .mkFragment(fr0\" \", false, false)\n",
    "    }\n",
    "}"
   ]
  },
  {
   "cell_type": "markdown",
   "metadata": {},
   "source": [
    "As we see, the fragment generation for base and ADTs is straightforward. And the fragment corresponding to list representations is a simple SQL select statement with no nested subqueries in the from clause (since this clause is made of atomic _tables_). In order to obtain a full-fledged doobie query, the only thing needed is to summon the `Read` instance for the record type `A`: "
   ]
  },
  {
   "cell_type": "code",
   "execution_count": 51,
   "metadata": {},
   "outputs": [
    {
     "data": {
      "text/plain": [
       "defined \u001b[32mclass\u001b[39m \u001b[36mListDoobieRepToQuery0\u001b[39m"
      ]
     },
     "execution_count": 51,
     "metadata": {},
     "output_type": "execute_result"
    }
   ],
   "source": [
    "implicit class ListDoobieRepToQuery0[A: Read](d: DoobieRep[List[A]]){\n",
    "    def query: Query0[A] = \n",
    "        d.fragment.query[A](Read[A])\n",
    "}"
   ]
  },
  {
   "cell_type": "markdown",
   "metadata": {},
   "source": [
    "Ok, we see that this representation will serve our purpose, but, how do we generate it? Clearly, we need to give instances of the `WorldModel` and `QUEΛ` APIs, which account for a new non-standard semantics of our DSL. Let's start with the former:"
   ]
  },
  {
   "cell_type": "code",
   "execution_count": 68,
   "metadata": {},
   "outputs": [
    {
     "data": {
      "text/plain": [
       "defined \u001b[32mobject\u001b[39m \u001b[36mDoobieRepWorldModel\u001b[39m\n",
       "defined \u001b[32mobject\u001b[39m \u001b[36mModelConstructors\u001b[39m"
      ]
     },
     "execution_count": 68,
     "metadata": {},
     "output_type": "execute_result"
    }
   ],
   "source": [
    "object DoobieRepWorldModel extends WorldModel[DoobieRep]{\n",
    "    import ModelConstructors._\n",
    "    \n",
    "    // Cities\n",
    "\n",
    "    def cityId(city: DoobieRep[City]): DoobieRep[Int] = \n",
    "        intColumn(city, \"id\")\n",
    "\n",
    "    def cityName(city: DoobieRep[City]): DoobieRep[String] = \n",
    "        stringColumn(city, \"name\")\n",
    "\n",
    "    def cityCountry(city: DoobieRep[City]): DoobieRep[String] = \n",
    "        stringColumn(city, \"country\")\n",
    "\n",
    "    def cityPopulation(city: DoobieRep[City]): DoobieRep[Int] = \n",
    "        intColumn(city, \"population\")\n",
    "\n",
    "    // Countries\n",
    "\n",
    "    def countryCode(country: DoobieRep[Country]): DoobieRep[String] = \n",
    "        stringColumn(country, \"code\")\n",
    "\n",
    "    def countryName(country: DoobieRep[Country]): DoobieRep[String] = \n",
    "        stringColumn(country, \"name\")\n",
    "\n",
    "    def countryCapital(country: DoobieRep[Country]): DoobieRep[Option[Int]] = \n",
    "        nullableColumn(intColumn(country, \"capital\"))\n",
    "\n",
    "    // World\n",
    "\n",
    "    def allCountries: DoobieRep[List[Country]] =\n",
    "        table(DoobieRep.Table(\"country\", \"x0\"))\n",
    "\n",
    "    def allCities: DoobieRep[List[City]] = \n",
    "        table(DoobieRep.Table(\"city\", \"x1\"))\n",
    "}\n",
    "\n",
    "object ModelConstructors{ \n",
    "\n",
    "    def table[A](table: DoobieRep.Table): SQLList[A] = \n",
    "        SQLList(List(table), List(), SQLVar(Fragment.const0(table.varName)))\n",
    "    \n",
    "    def intColumn[A](d: DoobieRep[A], field: String): DoobieRep[Int] = \n",
    "        SQLInt(d.fragment ++ Fragment.const0(s\".$field\"))\n",
    "\n",
    "    def stringColumn[A](d: DoobieRep[A], field: String): DoobieRep[String] = \n",
    "        SQLString(d.fragment ++ Fragment.const0(s\".$field\"))\n",
    "\n",
    "    def boolColumn[A](d: DoobieRep[A], field: String): DoobieRep[Boolean] = \n",
    "        SQLBoolean(d.fragment ++ Fragment.const0(s\".field\"))\n",
    "    \n",
    "    def nullableColumn[A](d: DoobieRep[A]): DoobieRep[Option[A]] = \n",
    "        SQLOption(Some(d))\n",
    "}"
   ]
  },
  {
   "cell_type": "markdown",
   "metadata": {},
   "source": [
    "This instance defines the functional-relational mapping between the tagless-final specification and the relational schema. The general utilities in the `ModelConstructors` module help us to define this mapping more easily. The `table` constructor for a table `table_name t` creates a SQL select statement of the form `SELECT t.* FROM table_name t`. The `*Column` constructors creates representations based on column references for the different base types. "
   ]
  },
  {
   "cell_type": "markdown",
   "metadata": {},
   "source": [
    "Let's move now to the general combinators of `QUEΛ`:"
   ]
  },
  {
   "cell_type": "code",
   "execution_count": 69,
   "metadata": {},
   "outputs": [
    {
     "data": {
      "text/plain": [
       "defined \u001b[32mobject\u001b[39m \u001b[36mDoobieRepQUEΛ\u001b[39m"
      ]
     },
     "execution_count": 69,
     "metadata": {},
     "output_type": "execute_result"
    }
   ],
   "source": [
    "object DoobieRepQUEΛ extends QUEΛ[DoobieRep]{\n",
    "    // base types\n",
    "\n",
    "    def bool(b: Boolean): DoobieRep[Boolean] = \n",
    "        SQLBoolean(Fragment.const(b.toString))\n",
    "\n",
    "    def int(i: Int): DoobieRep[Int] = \n",
    "        SQLInt(Fragment.const0(i.toString))\n",
    "\n",
    "    def str(s: String): DoobieRep[String] = \n",
    "        SQLString(Fragment.const(s))\n",
    "\n",
    "    def ===(a1: DoobieRep[Int], a2: DoobieRep[Int]): DoobieRep[Boolean] = \n",
    "        SQLBoolean(a1.fragment ++ fr\" =\" ++ a2.fragment)\n",
    "\n",
    "    def >(i1: DoobieRep[Int], i2: DoobieRep[Int]): DoobieRep[Boolean] = \n",
    "        SQLBoolean(i1.fragment ++ fr0\" > \" ++ i2.fragment)\n",
    "\n",
    "    // ADTs\n",
    "\n",
    "    def tuple2[A, B](a: DoobieRep[A], b: DoobieRep[B]): DoobieRep[(A, B)] = \n",
    "        SQLTuple(a, b) \n",
    "\n",
    "    def none[A]: DoobieRep[Option[A]] = \n",
    "        SQLOption(None)\n",
    "\n",
    "    def some[A](a: DoobieRep[A]): DoobieRep[Option[A]] = \n",
    "        SQLOption(Some(a))\n",
    "\n",
    "    def exists[A](o: DoobieRep[Option[A]])(cond: DoobieRep[A] => DoobieRep[Boolean]): DoobieRep[Boolean] = {\n",
    "        val SQLOption(maybeA) = o\n",
    "        maybeA.fold(bool(false))(cond)\n",
    "    }\n",
    "\n",
    "    // Comprehensions\n",
    "\n",
    "    def from[A, B](q: DoobieRep[List[A]])(f: DoobieRep[A] => DoobieRep[List[B]]): DoobieRep[List[B]] = {\n",
    "        val SQLList(from1, where1, select1) = q\n",
    "        val SQLList(from2, where2, select2) = f(select1)\n",
    "        SQLList(from1 ++ from2, where1 ++ where2, select2)\n",
    "    }\n",
    "\n",
    "    def where[A](cond: DoobieRep[Boolean])(q: DoobieRep[List[A]]): DoobieRep[List[A]] = {\n",
    "        val SQLList(from, where, select) = q\n",
    "        SQLList(from, cond :: where, select)\n",
    "    }        \n",
    "    \n",
    "    def select[A](a: DoobieRep[A]): DoobieRep[List[A]] = \n",
    "        SQLList(List(), List(), a)\n",
    "}"
   ]
  },
  {
   "cell_type": "markdown",
   "metadata": {},
   "source": [
    "The semantics for base types and ADTs are given in terms of SQL fragments representing value expressions of different types: constants and operator invocations, in particular. The crux of the semantics is in the implementation of the `from` combinator, since it's here where nested subqueries are flatten. Let's obtain the SQL fragment representation for our `largeCapitals` query:"
   ]
  },
  {
   "cell_type": "code",
   "execution_count": 75,
   "metadata": {},
   "outputs": [
    {
     "data": {
      "text/plain": [
       "\u001b[36mres74\u001b[39m: \u001b[32mFragment\u001b[39m = Fragment(\"select x1.name, x0.name from country x0, city x1 where x0.capital = x1.id and x1.population > 8000000\")"
      ]
     },
     "execution_count": 75,
     "metadata": {},
     "output_type": "execute_result"
    }
   ],
   "source": [
    "largeCapitals(DoobieRepQUEΛ, DoobieRepWorldModel).fragment"
   ]
  },
  {
   "cell_type": "markdown",
   "metadata": {},
   "source": [
    "It works! Let's execute it:"
   ]
  },
  {
   "cell_type": "code",
   "execution_count": 76,
   "metadata": {},
   "outputs": [
    {
     "data": {
      "text/plain": [
       "\u001b[36mres75\u001b[39m: \u001b[32mList\u001b[39m[(\u001b[32mString\u001b[39m, \u001b[32mString\u001b[39m)] = \u001b[33mList\u001b[39m(\n",
       "  (\u001b[32m\"Jakarta\"\u001b[39m, \u001b[32m\"Indonesia\"\u001b[39m),\n",
       "  (\u001b[32m\"Seoul\"\u001b[39m, \u001b[32m\"South Korea\"\u001b[39m),\n",
       "  (\u001b[32m\"Ciudad de M\\u00e9xico\"\u001b[39m, \u001b[32m\"Mexico\"\u001b[39m),\n",
       "  (\u001b[32m\"Moscow\"\u001b[39m, \u001b[32m\"Russian Federation\"\u001b[39m)\n",
       ")"
      ]
     },
     "execution_count": 76,
     "metadata": {},
     "output_type": "execute_result"
    }
   ],
   "source": [
    "largeCapitals(DoobieRepQUEΛ, DoobieRepWorldModel).query.to[List].transact(xa).unsafeRunSync"
   ]
  },
  {
   "cell_type": "markdown",
   "metadata": {},
   "source": [
    "### Does modularity affects the generation?"
   ]
  },
  {
   "cell_type": "markdown",
   "metadata": {},
   "source": [
    "Let's check the generated SQL query for a more modular implementation:"
   ]
  },
  {
   "cell_type": "code",
   "execution_count": 81,
   "metadata": {},
   "outputs": [
    {
     "data": {
      "text/plain": [
       "defined \u001b[32mfunction\u001b[39m \u001b[36mcity\u001b[39m\n",
       "defined \u001b[32mfunction\u001b[39m \u001b[36mlargeCity\u001b[39m\n",
       "defined \u001b[32mfunction\u001b[39m \u001b[36mlargeCapitalsModular\u001b[39m"
      ]
     },
     "execution_count": 81,
     "metadata": {},
     "output_type": "execute_result"
    }
   ],
   "source": [
    "def city[Repr[_]: QUEΛ: WorldModel](cityId: Repr[Option[Int]]): Repr[List[City]] = \n",
    "    for {\n",
    "        c <- allCities if cityId.exists{ _ === c.id }\n",
    "    } yield c\n",
    "\n",
    "def largeCity[Repr[_]: QUEΛ: WorldModel](cityId: Repr[Option[Int]]): Repr[List[City]] = \n",
    "    for {\n",
    "        c <- city(cityId)\n",
    "        if c.population > 8000000\n",
    "    } yield c\n",
    "\n",
    "def largeCapitalsModular[Repr[_]: QUEΛ: WorldModel]: Repr[List[(String, String)]] = \n",
    "    for {\n",
    "        country <- allCountries\n",
    "        city <- largeCity(country.capital)\n",
    "    } yield (city.name, country.name)"
   ]
  },
  {
   "cell_type": "code",
   "execution_count": 85,
   "metadata": {},
   "outputs": [
    {
     "data": {
      "text/plain": [
       "\u001b[36mres84\u001b[39m: \u001b[32mBoolean\u001b[39m = true"
      ]
     },
     "execution_count": 85,
     "metadata": {},
     "output_type": "execute_result"
    }
   ],
   "source": [
    "largeCapitalsModular(DoobieRepQUEΛ, DoobieRepWorldModel).fragment.toString == \n",
    "largeCapitals(DoobieRepQUEΛ, DoobieRepWorldModel).fragment.toString"
   ]
  },
  {
   "cell_type": "markdown",
   "metadata": {},
   "source": [
    "The exact same query!"
   ]
  }
 ],
 "metadata": {
  "kernelspec": {
   "display_name": "Scala",
   "language": "scala",
   "name": "scala"
  },
  "language_info": {
   "codemirror_mode": "text/x-scala",
   "file_extension": ".scala",
   "mimetype": "text/x-scala",
   "name": "scala",
   "nbconvert_exporter": "script",
   "version": "2.13.0"
  }
 },
 "nbformat": 4,
 "nbformat_minor": 4
}
